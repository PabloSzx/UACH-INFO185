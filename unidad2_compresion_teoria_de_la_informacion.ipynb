{
 "cells": [
  {
   "cell_type": "markdown",
   "metadata": {},
   "source": [
    "## Ancho de banda de un video\n",
    "\n",
    "- ¿Cúanto pesa una imagen RGB de 1920x1080?\n",
    "\n",
    "<center>1920 1080 3 size(uint8) = 49.766.400 b ~ 50 Mb</center>\n",
    "\n",
    "- Tradicionalmente un video es una secuencia de imágenes a 24 cuadros por segundo (fps)\n",
    "- ¿Cuánto ancho de banda se necesita para ver una película en tiempo real?\n",
    "\n",
    "<center>50Mb  24 fps = 1200 Mb/s = 1.2 Gb/s</center>\n",
    "\n",
    "- Este ancho de banda es infactible. ¿Qué necesitamos para que un servicio de streaming pueda funcionar?\n",
    "\n",
    "https://toolstud.io/video/filesize.php"
   ]
  },
  {
   "cell_type": "markdown",
   "metadata": {},
   "source": [
    "# Compresión de datos\n",
    "\n",
    "- Codificar la información usando menos \"bits\" que la representación original\n",
    "- La compresión puede ser de tipo\n",
    "    - *Lossless* (sin pérdidas): Los datos originales pueden reconstruirse perfectamente\n",
    "    - *Lossy* (con pérdidas): Se reconstruye una versión aproximada de los datos originales\n",
    "- Recordemos el modelo de Shannon"
   ]
  },
  {
   "cell_type": "code",
   "execution_count": null,
   "metadata": {},
   "outputs": [],
   "source": [
    "G = nx.DiGraph(); G.graph['rankdir'] = 'LR'; G.graph['dpi'] = 120\n",
    "G.add_node(0, shape='rect', label='Fuente', color='black')\n",
    "G.add_node(1, shape='rect', label='Transmisor')\n",
    "G.add_node(2, shape='rect', label='Canal')\n",
    "G.add_node(3, shape='rect', label='Receptor')\n",
    "G.add_node(4, shape='rect', label='Destino')\n",
    "G.add_node(5, shape='rect', style='filled', fillcolor='pink', label='Ruido')\n",
    "G.add_edge(0, 1, style='solid', label='mensaje')\n",
    "G.add_edge(1, 2, style='dashed', label='señal')\n",
    "G.add_edge(2, 3, style='dashed', label='señal')\n",
    "G.add_edge(3, 4, style='solid', label='mensaje')\n",
    "G.add_edge(5, 2, style='dashed',)\n",
    "draw(G , show='ipynb')"
   ]
  },
  {
   "cell_type": "markdown",
   "metadata": {},
   "source": [
    "El siguiente es el modelo general del transmisor en el esquema anterior"
   ]
  },
  {
   "cell_type": "code",
   "execution_count": null,
   "metadata": {},
   "outputs": [],
   "source": [
    "G = nx.DiGraph(); G.graph['rankdir'] = 'LR'; G.graph['dpi'] = 120;\n",
    "G.add_node(0, shape='rect', label='Transformación', color='black')\n",
    "G.add_node(1, shape='rect', label='Cuantización')\n",
    "G.add_node(2, shape='rect', label='Codificación de fuente')\n",
    "G.add_node(3, shape='rect', label='Codificación de canal', color='grey')\n",
    "G.add_edge(0, 1, style='solid'); G.add_edge(1, 2, style='solid'); \n",
    "G.add_edge(2, 3, style='solid'); draw(G , show='ipynb')"
   ]
  },
  {
   "cell_type": "markdown",
   "metadata": {},
   "source": [
    "- **Transformación:** Cambia la representación de los datos para eliminar redundancia y reducir correlaciones. Ejemplos: PCM, DFT, PCA y DCT. Usualmente se aplica sobre bloques de datos\n",
    "- **Cuantización:** Escoge un número fijo de valores representativos (diccionario), es decir acorta el \"largo de palabra\" de los datos. Ejemplos: cuantización escalar y cuantización vectorial (VQ)\n",
    "    - Largo de palabra: Cantidad de bits necesaria para representar un símbolo de código\n",
    "    - Diccionario o alfabeto: Conjunto de símbolos o palabras\n",
    "- **Codificación de fuente:** Convierte el diccionario fijo del cuantizador en un código de largo variable, que es más eficiente de transmitir. Ejemplos: codificación de Huffman\n",
    "- **Codificación de canal:** Se encarga de \"robustecer\" el resultado anterior para que sobreviva la transmisión digital. Ejemplo: dígito verificador para detectar y corregir errores"
   ]
  },
  {
   "cell_type": "markdown",
   "metadata": {},
   "source": [
    "## Compresión de imágenes\n",
    "\n",
    "- Hemos aprendido que una imagen se puede proyectar al espacio de frecuencias sin pérdida de información (transformación invertible)\n",
    "- Sabemos que las imágenes tienen alta correlación entre píxeles inmediatamente vecinos, es decir hay gran redundancia\n",
    "- Por ende el espectro concentra gran parte de la información en la frecuencia central\n",
    "- La DFT tiene la desventaja es que incluso si la imagen es real el espectro resultante es complejo\n",
    "- Una transformación frecuencial alternativa y ampliamente utilizada es la **Discrete Cosine Transform** (DCT)\n",
    "- La DCT se aplica en bloques contiguos de 8x8 píxeles (JPEG)"
   ]
  },
  {
   "cell_type": "markdown",
   "metadata": {},
   "source": [
    "## Joint Photographic Experts Group (JPEG)\n",
    "- Formato ampliamente usado para distribuir imágenes digitales\n",
    "- Explota las siguientes características del sistema visual humano\n",
    "    - Somos más sensibles a la iluminación que al color\n",
    "    - Somos menos sensibles a los componentes de alta frecuencia\n",
    "- Es un ejemplo de método de compresión con pérdidas para imágenes (lossy)\n",
    "- Más componentes descartados, mayor compresión, y peor la calidad\n",
    "\n",
    "\n",
    "1. Preliminar: RGB a YCbCr, tipicamente se hace downsampling 4:2:2\n",
    "1. Transformación con DCT en bloques de 8x8 sin traslape\n",
    "1. Cuantización escalar\n",
    "1. Codificación de Huffman\n"
   ]
  },
  {
   "cell_type": "markdown",
   "metadata": {},
   "source": [
    "### Espacio YCbCr\n",
    "- Y es la luminancia\n",
    "- Cb y Cr son los componentes cromáticos azul y rojo, respectivamente\n",
    "\n",
    "$$\n",
    "Y = K_R R + K_G G + K_B B \\\\\n",
    "C_b = 0.5 \\frac{B - Y}{1 - K_B} \\\\\n",
    "C_R = 0.5 \\frac{R - Y}{1 - K_R}\n",
    "$$\n",
    "donde $K_R + K_G + K_B = 1$.\n"
   ]
  },
  {
   "cell_type": "code",
   "execution_count": null,
   "metadata": {},
   "outputs": [],
   "source": [
    "# ITU-R BT.601 \n",
    "dogo_color = plt.imread('images/lobo.jpg')\n",
    "Y = np.dot(dogo_color, [0.299, 0.587, 0.114])\n",
    "plt.matshow(Y, cmap=plt.cm.Greys_r); plt.axis('off'); plt.title('Y')\n",
    "C_b = np.dot(dogo_color, [-0.168736, -0.3312, 0.5])\n",
    "plt.matshow(C_b, cmap=plt.cm.Greys_r); plt.axis('off'); plt.title('Cb')\n",
    "C_r = np.dot(dogo_color, [0.5, -0.4186, -0.0813])\n",
    "plt.matshow(C_r, cmap=plt.cm.Greys_r); plt.axis('off'); plt.title('Cr');"
   ]
  },
  {
   "cell_type": "code",
   "execution_count": null,
   "metadata": {},
   "outputs": [],
   "source": [
    "def f(q_Y, q_C):\n",
    "    Y = np.round(np.dot(dogo_color, [0.299, 0.587, 0.114])*q_Y/255.0)*255.0/q_Y\n",
    "    C_b = 128+np.round(np.dot(dogo_color, [-0.168736, -0.3312, 0.5])*q_C/255.0)*255.0/q_C\n",
    "    C_r = 128+np.round(np.dot(dogo_color, [0.5, -0.4186, -0.0813])*q_C/255.0)*255.0/q_C\n",
    "    rgb = np.zeros(shape=(Y.shape[0], Y.shape[1], 3))\n",
    "    rgb[:,:,0] = Y + 1.402 * (C_r-128)\n",
    "    rgb[:,:,1] = Y - .34414 * (C_b-128) - .71414 * (C_r-128)\n",
    "    rgb[:,:,2] = Y + 1.772 * (C_b-128)\n",
    "    np.putmask(rgb, rgb > 255, 255);\n",
    "    np.putmask(rgb, rgb < 0, 0);\n",
    "    plt.figure(figsize=(16, 8))\n",
    "    plt.imshow(np.uint8(rgb)); plt.axis('off'); flush_figures(); \n",
    "   \n",
    "interact(f, q_Y=IntSlider(min=1, max=255, value=255, description=\"Y levels\", layout=slider_layout),\n",
    "         q_C=IntSlider(min=1, max=255, value=255, description=\"C levels\", layout=slider_layout));"
   ]
  },
  {
   "cell_type": "markdown",
   "metadata": {},
   "source": [
    "## Discrete Cosine Transform (DCT)\n",
    "\n",
    "Sea una señal discreta y bidimensional $g[n_1, n_2]$ con índices $n_1 \\in [0, N_1-1]$ y $n_2 \\in [0, N_2-1]$ su DCT es \n",
    "\n",
    "$$\n",
    "G_C[k_1, k_2] = \\sum_{n_1=0}^{N_1-1} \\sum_{n_2=0}^{N_2-1} 4 g[n_1, n_2] \\cos \\left ( \\frac{\\pi k_1}{2N_1}(2n_1+1)  \\right) \\cos \\left ( \\frac{\\pi k_2}{2N_2}(2n_2+1)  \\right) \n",
    "$$\n",
    "y su inversa\n",
    "\n",
    "$$\n",
    "g[n_1, n_2] = \\frac{1}{N_1 N_2}\\sum_{k_1=0}^{N_1-1} \\sum_{k_2=0}^{N_2-1} w[k_1]w[k_2]G[k_1, k_2] \\cos \\left ( \\frac{\\pi k_1}{2N_1}(2n_1+1)  \\right) \\cos \\left ( \\frac{\\pi k_2}{2N_2}(2n_2+1)  \\right), \n",
    "$$\n",
    "\n",
    "donde \n",
    "$$\n",
    "w[k] =\\begin{cases}\n",
    "1/2 & \\text{ssi} ~~ k=0\\\\\n",
    "1 & \\text{ssi} ~~ k \\neq 0\n",
    "\\end{cases} \n",
    "$$\n",
    "\n",
    "- La DCT es lineal, y cumple el principio de conservación de energía\n",
    "- La DCT 2D se puede descomponer en 2 aplicaciones de la DCT 1D\n",
    "- Notar que La convolución en espacio original no es multiplicación en el espacio DCT!\n",
    "- La DCT es equivalente a la DFT de una señal \"simetricamente extendida\"\n",
    "$$\n",
    "y[k] =\\begin{cases}\n",
    "x[k] & \\text{ssi} ~~ k<N\\\\\n",
    "x[2N-1-k] & \\text{ssi} ~~ N \\leq k < 2N - 1 \n",
    "\\end{cases} \n",
    "$$\n",
    "- Es decir que podemos usar el algoritmo FFT para calcular eficientemente la DCT"
   ]
  },
  {
   "cell_type": "markdown",
   "metadata": {},
   "source": [
    "La base de la DCT:"
   ]
  },
  {
   "cell_type": "code",
   "execution_count": null,
   "metadata": {},
   "outputs": [],
   "source": [
    "x = np.arange(0, 32, step=1)\n",
    "X, Y = np.meshgrid(x, x)\n",
    "fig = plt.figure(figsize=(10, 10))\n",
    "gs = gridspec.GridSpec(8, 8)\n",
    "for n in range(8):\n",
    "    for m in range(8):\n",
    "        ax = plt.subplot(gs[n, m])\n",
    "        ax.matshow(np.cos(np.pi*(2*X+1)*m/(2*len(x)))*np.cos(np.pi*(2*Y+1)*n/(2*len(x))), \n",
    "                   cmap=plt.cm.RdBu_r, vmin=-1, vmax=1)\n",
    "        ax.axis('off')\n",
    "gs.tight_layout(fig, pad=0.1)"
   ]
  },
  {
   "cell_type": "markdown",
   "metadata": {},
   "source": [
    "### Ejemplo: Transformación de una imagen usando DCT en bloques de 8x8"
   ]
  },
  {
   "cell_type": "code",
   "execution_count": null,
   "metadata": {},
   "outputs": [],
   "source": [
    "img_seadoge = np.dot(plt.imread('images/lobo.jpg'), [0.299, 0.587, 0.114])  \n",
    "plt.figure(figsize=(10, 7))\n",
    "plt.imshow(img_seadoge, cmap=plt.cm.Greys_r);"
   ]
  },
  {
   "cell_type": "code",
   "execution_count": null,
   "metadata": {},
   "outputs": [],
   "source": [
    "DCT2 = lambda g: fftpack.dct( fftpack.dct( g, axis=0, norm='ortho' ), axis=1, norm='ortho' )\n",
    "IDCT2 = lambda G: fftpack.idct( fftpack.idct( G, axis=0, norm='ortho' ), axis=1, norm='ortho' )\n",
    "\n",
    "imsize = img_seadoge.shape\n",
    "dct_matrix = np.zeros(shape=imsize)\n",
    "dft_matrix = np.zeros(shape=imsize, dtype=np.complex128)\n",
    "\n",
    "for i in range(0, imsize[0], 8):\n",
    "    for j in range(0, imsize[1], 8):\n",
    "        dct_matrix[i:(i+8),j:(j+8)] = DCT2( img_seadoge[i:(i+8),j:(j+8)] )\n",
    "        dft_matrix[i:(i+8),j:(j+8)] = fftpack.fft2( img_seadoge[i:(i+8),j:(j+8)] ) "
   ]
  },
  {
   "cell_type": "markdown",
   "metadata": {},
   "source": [
    "¿Cómo se ven uno a uno la DCT de los bloques?"
   ]
  },
  {
   "cell_type": "code",
   "execution_count": null,
   "metadata": {},
   "outputs": [],
   "source": [
    "def f(block_tile=1):\n",
    "    fig = plt.figure(figsize=(12, 5))\n",
    "    ax = fig.add_subplot(1, 2, 1)\n",
    "    ax.imshow(img_seadoge[block_tile:block_tile+8, block_tile:block_tile+8],\n",
    "              cmap=plt.cm.Greys_r)\n",
    "    ax.set_title(\"%d 8x8 image block\" %(block_tile)); \n",
    "    ax = fig.add_subplot(1, 2, 2)\n",
    "    ax.imshow(dct_matrix[block_tile:block_tile+8, block_tile:block_tile+8],\n",
    "              cmap=plt.cm.Greys_r, \n",
    "              extent=[0,np.pi,np.pi,0])\n",
    "    ax.set_title(\"8x8 DCT\"); \n",
    "    plt.tight_layout(); flush_figures(); \n",
    "\n",
    "interact(f, block_tile=IntSlider(min=0, max=100, value=0, description=\"Block tile\", layout=slider_layout));"
   ]
  },
  {
   "cell_type": "code",
   "execution_count": null,
   "metadata": {},
   "outputs": [],
   "source": [
    "plt.figure(figsize=(16, 9))\n",
    "plt.imshow(dct_matrix, cmap=plt.cm.Greys_r, vmin=0.0, vmax=0.01*np.amax(dct_matrix))"
   ]
  },
  {
   "cell_type": "markdown",
   "metadata": {},
   "source": [
    "Comparemos ahora la DFT y DCT en términos de reconstrucción con pérdidas"
   ]
  },
  {
   "cell_type": "code",
   "execution_count": null,
   "metadata": {},
   "outputs": [],
   "source": [
    "def f(percent):\n",
    "    im_dct, im_dft = np.zeros(imsize), np.zeros(imsize)\n",
    "    I = np.unravel_index(np.argsort(np.absolute(dct_matrix), axis=None)[::-1], \n",
    "                         dct_matrix.shape)\n",
    "    dct_thresh = dct_matrix.copy()\n",
    "    dct_thresh[I[0][int(600*1000*percent/100):], \n",
    "               I[1][int(600*1000*percent/100):]] = 0\n",
    "    I = np.unravel_index(np.argsort(np.absolute(dft_matrix), axis=None)[::-1], \n",
    "                         dft_matrix.shape)\n",
    "    dft_thresh = dft_matrix.copy()\n",
    "    dft_thresh[I[0][int(600*1000*percent/100):], \n",
    "               I[1][int(600*1000*percent/100):]] = 0\n",
    "    for i in range(0, imsize[0], 8):\n",
    "        for j in range(0, imsize[1], 8):\n",
    "            im_dct[i:(i+8),j:(j+8)] = IDCT2( dct_thresh[i:(i+8),j:(j+8)] )\n",
    "            im_dft[i:(i+8),j:(j+8)] = np.real(fftpack.ifft2( dft_thresh[i:(i+8),j:(j+8)] ))\n",
    "    fig = plt.figure(figsize=(16, 8))\n",
    "    ax = fig.add_subplot(2, 2, 1)\n",
    "    ax.imshow(im_dft, cmap=plt.cm.Greys_r); ax.axis('off')\n",
    "    ax.set_title(\"DFT\")\n",
    "    ax = fig.add_subplot(2, 2, 3)\n",
    "    ax.imshow(im_dft[200:400, 200:600], cmap=plt.cm.Greys_r); ax.axis('off')\n",
    "    ax = fig.add_subplot(2, 2, 2)    \n",
    "    ax.imshow(im_dct, cmap=plt.cm.Greys_r); ax.axis('off')\n",
    "    ax.set_title(\"DCT\")\n",
    "    ax = fig.add_subplot(2, 2, 4)\n",
    "    ax.imshow(im_dct[200:400, 200:600], cmap=plt.cm.Greys_r); ax.axis('off')\n",
    "    plt.tight_layout(pad=0.1); flush_figures(); \n",
    "interact(f, percent=FloatSlider(min=0, max=10, step=0.01, value=100, \n",
    "                                  description=\"Block tile\", layout=slider_layout));"
   ]
  },
  {
   "cell_type": "code",
   "execution_count": null,
   "metadata": {},
   "outputs": [],
   "source": [
    "img_seadogo_sym = np.hstack((img_seadoge, np.fliplr(img_seadoge)))\n",
    "img_seadogo_sym = np.vstack((np.flipud(img_seadogo_sym), img_seadogo_sym))\n",
    "plt.figure(figsize=(16, 9))\n",
    "plt.imshow(img_seadogo_sym, cmap=plt.cm.Greys_r);"
   ]
  },
  {
   "cell_type": "markdown",
   "metadata": {},
   "source": [
    "- DCT y efectos de borde\n",
    "- optimalidad en termines de aproximacion a transformacion KL\n",
    "- optimalidad en terminos de señal markoviana con correlacion positiva"
   ]
  },
  {
   "cell_type": "markdown",
   "metadata": {},
   "source": [
    "## Cuantización escalar\n",
    "\n",
    "- Es el proceso que realiza la compresión de los datos\n",
    "- Es una operación de redondeo/truncamiento\n",
    "- Se define por su número de niveles $L$, niveles de decisión $d_i$ y niveles de representación $r_i$\n",
    "\n",
    "\\begin{equation}\n",
    "    Q(x)=\n",
    "    \\begin{cases}\n",
    "      r_1, & d_0 < x \\leq d_1 \\\\\n",
    "      \\vdots & \\vdots \\\\\n",
    "      r_i, & d_{i-1} < x \\leq d_i \\\\\n",
    "      \\vdots & \\vdots \\\\\n",
    "      r_L, & d_{L-1} < x \\leq d_L\n",
    "    \\end{cases}\n",
    "\\end{equation}\n",
    "\n",
    "- Cuantización uniforme: $r_i = \\frac{1}{2} (d_i + d_i+1)$ y $d_i - d_{i-1} = \\Delta ~\\forall i$\n",
    "- Distorción de cuantización: $d_c = |Q(x) -x| $"
   ]
  },
  {
   "cell_type": "markdown",
   "metadata": {},
   "source": [
    "## Cuantización vectorial\n",
    "\n",
    "- Extensión del caso anterior a múltiples dimensiones\n",
    "- Para un set de datos N-dimensionales $X=\\{x_1, x_2, \\ldots, x_N\\}$ se busca un set de prototipos $C=\\{c_1, c_2, \\ldots, x_L\\}$ con $L < N$\n",
    "- La función de cuantización es $Q(x) = c_k$ donde $k = \\text{arg}\\min_i \\|x - c_i\\|$\n",
    "- Hay que definir una métrica de distancia\n",
    "\n",
    "\n",
    "1. Inicializar con prototipos aleatorios\n",
    "2. Asignar los datos a su prototipo más cercano\n",
    "3. Actualizar los prototipos como el valor medio de sus datos asignados\n",
    "4. Iterar hasta converger\n",
    "\n",
    "<center><img src=\"images/kmeans.gif\" width=\"600\"></center>"
   ]
  },
  {
   "cell_type": "code",
   "execution_count": null,
   "metadata": {},
   "outputs": [],
   "source": [
    "from scipy.cluster.vq import vq\n",
    "from sklearn.cluster import KMeans\n",
    "img_color = plt.imread(\"images/InsInformatica.jpg\")\n",
    "img_pixels = np.reshape(img_color, (img_color.shape[0]*img_color.shape[1], 3))\n",
    "kmeans = KMeans(n_clusters=10).fit(np.float32(img_pixels)) \n",
    "centroids = kmeans.cluster_centers_\n",
    "qnt,_ = vq(np.float32(img_pixels), centroids)\n",
    "centers_idx = np.reshape(qnt, (img_color.shape[0], img_color.shape[1]))\n",
    "clustered = np.uint8(centroids[centers_idx])\n",
    "\n",
    "plt.figure(figsize=((16, 9)))\n",
    "plt.subplot(121); plt.imshow(img_color); plt.axis('off');\n",
    "plt.subplot(122); plt.imshow(clustered); plt.axis('off');"
   ]
  },
  {
   "cell_type": "code",
   "execution_count": null,
   "metadata": {},
   "outputs": [],
   "source": [
    "from mpl_toolkits.mplot3d import Axes3D\n",
    "fig = plt.figure(figsize=((10, 9)))\n",
    "ax = fig.gca(projection='3d')\n",
    "ax.scatter(centroids[:, 0], centroids[:, 1], centroids[:, 2], c=centroids/255.,s=100);"
   ]
  },
  {
   "cell_type": "markdown",
   "metadata": {},
   "source": [
    "- En el estándar JPEG se cuantizan los bloques de 8x8 componentes DCT \n",
    "- El nivel de los componentes es redondeado usando una matriz de cuantización Q\n",
    "- La matriz fue diseñada de tal forma que los componentes de alta frecuencia se cuantizan en menos niveles\n",
    "- El bloque cuantizado se obtiene como $\\text{ROUND}(\\frac{G_C}{Q})$"
   ]
  },
  {
   "cell_type": "code",
   "execution_count": null,
   "metadata": {},
   "outputs": [],
   "source": [
    "Q = np.array([[16, 11, 10, 16, 24, 40, 51, 61],[12, 12, 14, 19, 26, 58, 60, 55],\n",
    "              [14, 13, 16, 24, 40, 57, 69, 56],[14, 17, 22, 29, 51, 87, 80, 62],\n",
    "              [18, 22, 37, 56, 68, 109, 103, 77],[24, 35, 55, 64, 81, 104, 113, 92],\n",
    "              [49, 64, 78, 87, 103, 121, 120, 101],[72, 92, 95, 98, 112, 100, 103, 99]])\n",
    "def f(block_tile=1):\n",
    "    fig = plt.figure(figsize=(12, 5))\n",
    "    ax = fig.add_subplot(1, 3, 1)\n",
    "    ax.imshow(img_seadoge[block_tile:block_tile+8, block_tile:block_tile+8],\n",
    "              cmap=plt.cm.Greys_r)\n",
    "    ax.set_title(\"%d 8x8 image block\" %(block_tile)); \n",
    "    ax = fig.add_subplot(1, 3, 2)\n",
    "    dct_block = dct_matrix[block_tile:block_tile+8, block_tile:block_tile+8]\n",
    "    ax.imshow(dct_block, cmap=plt.cm.Greys_r, extent=[0,np.pi,np.pi,0])\n",
    "    ax.set_title(\"8x8 DCT %d nonzero\" %(np.count_nonzero(dct_block))); \n",
    "    ax = fig.add_subplot(1, 3, 3)\n",
    "    quant = np.round(dct_matrix[block_tile:block_tile+8, block_tile:block_tile+8]/Q)\n",
    "    ax.imshow(quant, cmap=plt.cm.Greys_r, extent=[0,np.pi,np.pi,0])\n",
    "    ax.set_title(\"8x8 Quantized %d nonzero\" %(np.count_nonzero(quant))); \n",
    "    plt.tight_layout(); flush_figures(); \n",
    "\n",
    "interact(f, block_tile=IntSlider(min=0, max=100, value=0, description=\"Block tile\", layout=slider_layout));"
   ]
  },
  {
   "cell_type": "code",
   "execution_count": null,
   "metadata": {},
   "outputs": [],
   "source": [
    "area = img_seadoge.shape[0]*img_seadoge.shape[1]\n",
    "def f(percent):\n",
    "    im_dct = np.zeros(imsize)\n",
    "    nnz = np.zeros(dct_matrix.shape)\n",
    "    if (percent < 50):\n",
    "        S = 5000/percent\n",
    "    else:\n",
    "        S = 200 - 2*percent \n",
    "    Q_dyn = np.floor((S*Q + 50) / 100);\n",
    "    Q_dyn[Q_dyn == 0] = 1\n",
    "    for i in range(0, imsize[0], 8):\n",
    "        for j in range(0, imsize[1], 8):\n",
    "            quant = np.round(dct_matrix[i:(i+8),j:(j+8)]/Q_dyn) \n",
    "            im_dct[i:(i+8),j:(j+8)] = IDCT2(quant)\n",
    "            nnz[i, j] = np.count_nonzero(quant)\n",
    "    \n",
    "    fig = plt.figure(figsize=(16, 8))\n",
    "    ax = fig.add_subplot(1, 2, 1)\n",
    "    ax.imshow(img_seadoge, cmap=plt.cm.Greys_r); ax.axis('off'); plt.title(\"%0.2f MB\" %(area*8/1e+6))\n",
    "    ax = fig.add_subplot(1, 2, 2)\n",
    "    ax.imshow(im_dct, cmap=plt.cm.Greys_r); ax.axis('off');  plt.title(\"%0.2f MB\" %(np.sum(nnz)*8/1e+6))\n",
    "    plt.tight_layout(pad=0.1); flush_figures(); \n",
    "interact(f, percent=FloatSlider(min=0, max=100, step=0.01, value=100, \n",
    "                                  description=\"Block tile\", layout=slider_layout));"
   ]
  },
  {
   "cell_type": "markdown",
   "metadata": {},
   "source": [
    "### Código de largo fijo y de largo variable\n",
    "\n",
    "- Codificación de fuente es el proceso de asignar los mensajes a un conjunto de símbolos o códigos. El largo de las \"palabras de código\" puede ser fijo o variable.\n",
    "- **Ejemplo:** Digamos que queremos codificar digitalmente las letras del alfabeto (27) usando dos símbolos (código binario)\n",
    "    - Si usamos largo fijo necesitamos al menos 5 bits ($2^5 = 32$)\n",
    "- Pero, nosotros sabemos que algunas letras se ocupan más que otras, *e.g.* las vocales. \n",
    "    - Si codificamos las letras con más probabilidad de ocurrencia usando menos bits podemos reducir la cantidad de bits transmitidos\n",
    "    - Es imperativo que los símbolos puedan ser decodificados sin ambiguedad. **Ejemplo:** Sea A = 1 y B = 11, ¿Qué dice aquí?: 111"
   ]
  },
  {
   "cell_type": "markdown",
   "metadata": {},
   "source": [
    "# Teoría de la información\n",
    "\n",
    "- Estudio de la cuantificación y transmisión de la información propuesto por Claude Shannon en 1948\n",
    "- Nos permite medir la cantidad de información y por ende evaluar los resultados de la compresión\n",
    "- **Entropía de Shannon**. Sea una fuente que emite M mensajes cada uno con probabilidad de ocurrencia $p_i$ se define \n",
    "\n",
    "$$\n",
    "H(X) = \\mathbb{E} \\left [ \\frac{1}{p(X)} \\right ]= - \\sum_{i=1}^M p_i \\log_2 (p_i)  \\text{[bits]},\n",
    "$$\n",
    "como la entropía, incerteza o información promedio de la fuente. La información de cada mensaje es $-\\log_2(p_i)$\n",
    "\n",
    "- La entropía es siempre positiva y acotada $0 \\leq H(X) \\leq \\log_2(M)$"
   ]
  },
  {
   "cell_type": "markdown",
   "metadata": {},
   "source": [
    "### Ejemplo: Entropía de lanzar una moneda\n",
    "\n",
    "Omitiendo la probabilidad de caer de canto podemos modelar la variable aleatoria del resultado de lanzamiento de moneda como Bernoulli \n",
    "$$\n",
    "f(p) = p^k (1-p)^{1-k} ~~ k \\in \\{0,1\\}\n",
    "$$\n",
    "donde p es la probabilidad de que salga cara y 1-p la probabilidad de que salga cruz.\n",
    "\n",
    "Luego la entropía es\n",
    "$$\n",
    "H(X) = - p \\log(p) - (1-p) \\log(1-p)\n",
    "$$\n",
    "\n",
    "- ¿Qué significa que la entropía sea mínima? ¿Y que sea máxima?"
   ]
  },
  {
   "cell_type": "code",
   "execution_count": null,
   "metadata": {},
   "outputs": [],
   "source": [
    "p = np.linspace(0, 1, num=100)\n",
    "plogp = lambda p: p*np.log2(p+1e-10)\n",
    "H = -plogp(p) - plogp(1-p)\n",
    "plt.figure(figsize=(12, 4))\n",
    "plt.xlabel('Bernoulli p')\n",
    "plt.ylabel('Bernoulli RV entropy')\n",
    "plt.grid(); plt.plot(p, H);"
   ]
  },
  {
   "cell_type": "markdown",
   "metadata": {},
   "source": [
    " ### Ejemplo: código de ancho variable\n",
    " \n",
    " Sea una canal con 4 mensajes posibles $m_i$ con probabilidades $p = \\{1/2, 1/4, 1/8, 1/8\\}$.\n",
    " \n",
    " La información por símbolo es $-\\log p = {1, 2, 3, 3}$\n",
    " \n",
    " Luego una codificación óptima sería $m_1 = 0$, $m_2 = 10$, $m_3 = 110$ y $m_4 = 111$\n",
    " \n",
    " La información promedio del canal es 1.75 [bits]\n",
    " \n",
    " <center><img src=\"images/dendogram.png\" width=\"600\"></center>"
   ]
  },
  {
   "cell_type": "markdown",
   "metadata": {},
   "source": [
    "- El algoritmo de codificación anterior tiene forma de árbol en base 2\n",
    "- Los mensajes codificados están en las hojas del árbol\n",
    "- Este es un ejemplo de **código préfijo**, donde ningún código puede ser prefijo de otro. De esta manera se garantiza decodificación sin ambiguedad"
   ]
  },
  {
   "cell_type": "markdown",
   "metadata": {},
   "source": [
    "## Teorema de codificación de fuente (source coding theorem)\n",
    "\n",
    "El largo de palabra promedio $\\widehat L$ de un algoritmo de codificación binario prefijo satisface\n",
    "$$\n",
    "H(X) \\leq \\widehat L \\leq H(X) + 1\n",
    "$$\n",
    "Este teorema justifica la definición de entropía como meduda de la cantidad de información/incerteza"
   ]
  },
  {
   "cell_type": "markdown",
   "metadata": {},
   "source": [
    "## Codificación de Huffman\n",
    "\n",
    "1. Se estima la probabilidad $p_i$ de cada símbolo\n",
    "1. Se ordenan los símbolos en orden descendente según $p_i$\n",
    "1. Juntar los dos con probabilidad menor en un grupo, su probabilidad se suma\n",
    "1. Volver al paso 2 hasta que queden dos grupos\n",
    "1. Asignarle 0 y 1 a las ramas izquierda y derecha del árbol, respectivamente\n",
    "\n",
    "<center><img src=\"images/huff.gif\" width=\"600\"></center>\n",
    "\n",
    "Ref: http://www.skylondaworks.com/sc_huff.htm"
   ]
  },
  {
   "cell_type": "markdown",
   "metadata": {},
   "source": [
    "## Teorema de Shannon-Hartley\n",
    "\n",
    "- Sea un canal con ancho de banda B [Hz] (rango de frecuencias que un canal puede transmitir) y potencia de señal S [W] y potencia del ruido N [W] (aditivo blanco gaussiano), entonces su capacidad es\n",
    "$$\n",
    "C = B \\log_2 \\left(1 + \\frac{S}{N} \\right) \\text{[bits/s]}\n",
    "$$\n",
    "- Si la velocidad de transmisión de un canal es R [bits/s] y R < C entonces la probabilidad de errores de comunicación tiende a cero.\n",
    "- Las limitaciones de un sistema de comunicación son **Ancho de banda** y el ruido **Ruido**"
   ]
  },
  {
   "cell_type": "markdown",
   "metadata": {},
   "source": [
    "## H.264/MPEG-4\n",
    "\n",
    "- Aplicación de la DCT para comprimir a través de varios frames"
   ]
  },
  {
   "cell_type": "markdown",
   "metadata": {},
   "source": [
    "Futuras iteraciones: espectrograma, wavelets, producto tiempo frecuencia"
   ]
  },
  {
   "cell_type": "code",
   "execution_count": null,
   "metadata": {},
   "outputs": [],
   "source": []
  }
 ],
 "metadata": {
  "kernelspec": {
   "display_name": "Python 3",
   "language": "python",
   "name": "python3"
  },
  "language_info": {
   "codemirror_mode": {
    "name": "ipython",
    "version": 3
   },
   "file_extension": ".py",
   "mimetype": "text/x-python",
   "name": "python",
   "nbconvert_exporter": "python",
   "pygments_lexer": "ipython3",
   "version": "3.7.2"
  }
 },
 "nbformat": 4,
 "nbformat_minor": 2
}
