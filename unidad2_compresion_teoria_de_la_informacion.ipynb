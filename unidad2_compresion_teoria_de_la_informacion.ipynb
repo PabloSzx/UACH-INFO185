{
 "cells": [
  {
   "cell_type": "code",
   "execution_count": null,
   "metadata": {
    "slideshow": {
     "slide_type": "skip"
    }
   },
   "outputs": [],
   "source": [
    "%%HTML\n",
    "<!-- Mejorar visualización en proyector -->\n",
    "<style>\n",
    ".rendered_html {font-size: 1.2em; line-height: 150%;}\n",
    "div.prompt {min-width: 0ex; }\n",
    ".container {width:95% !important;}\n",
    "</style>"
   ]
  },
  {
   "cell_type": "code",
   "execution_count": 2,
   "metadata": {
    "slideshow": {
     "slide_type": "skip"
    }
   },
   "outputs": [],
   "source": [
    "import numpy as np\n",
    "%matplotlib notebook\n",
    "from scipy import fftpack\n",
    "import matplotlib as mpl\n",
    "import matplotlib.pyplot as plt\n",
    "from IPython.display import SVG\n",
    "from style import *\n",
    "\n",
    "def color2bw(img):\n",
    "    return np.dot(img, [0.299, 0.587, 0.114]) "
   ]
  },
  {
   "cell_type": "markdown",
   "metadata": {
    "slideshow": {
     "slide_type": "slide"
    }
   },
   "source": [
    "## Ancho de banda de un video\n",
    "\n",
    "- ¿Cúanto pesa una imagen RGB de 1920x1080?\n",
    "\n",
    "<center>1920 1080 3 size(uint8) = 49.766.400 b ~ 50 Mb</center>\n",
    "\n",
    "- Tradicionalmente un video es una secuencia de imágenes a 24 cuadros por segundo (fps)\n",
    "- ¿Cuánto ancho de banda se necesita para ver una película en tiempo real?\n",
    "\n",
    "<center>50Mb  24 fps = 1200 Mb/s = 1.2 Gb/s</center>\n",
    "\n",
    "- Este ancho de banda es infactible ¿Qué necesitamos para que un servicio de streaming pueda funcionar?\n",
    "\n",
    "https://toolstud.io/video/filesize.php"
   ]
  },
  {
   "cell_type": "markdown",
   "metadata": {
    "slideshow": {
     "slide_type": "slide"
    }
   },
   "source": [
    "# Compresión de datos\n",
    "\n",
    "- Codificar la información usando \"menos bits\" que la representación original\n",
    "- La compresión puede ser de tipo\n",
    "    - *Lossless* (sin pérdidas): Los datos originales pueden reconstruirse perfectamente\n",
    "    - *Lossy* (con pérdidas): Se reconstruye una versión aproximada de los datos originales\n",
    "\n",
    "\n",
    "Recordemos el modelo de Shannon\n",
    "\n",
    "<img src=\"images/shannon-diagram.svg\" width=\"500\">\n",
    "\n",
    "\n",
    "Podemos hacer un modelo más detallado para el **transmisor** como\n",
    "\n",
    "<img src=\"images/transmitter.svg\" width=\"600\">\n",
    "\n",
    "donde\n",
    "\n",
    "\n",
    "- **Transformación:** Cambia la representación de los datos para eliminar redundancia/correlaciones \n",
    "- **Cuantización:** Escoge un número fijo de valores representativos (diccionario), es decir acorta el \"largo de palabra\" de los datos\n",
    "    - Largo de palabra: Cantidad de bits necesaria para representar un símbolo de código\n",
    "    - Diccionario o alfabeto: Conjunto de símbolos o palabras\n",
    "- **Codificación de fuente:** Convierte el diccionario fijo del cuantizador en un código de largo variable, que es más eficiente de transmitir\n",
    "- **Codificación de canal:** Se encarga de \"robustecer\" el resultado anterior para que sobreviva la transmisión digital (parity, checksum)"
   ]
  },
  {
   "cell_type": "markdown",
   "metadata": {
    "slideshow": {
     "slide_type": "slide"
    }
   },
   "source": [
    "## Compresión de imágenes\n",
    "\n",
    "- Una imagen se puede proyectar al espacio de frecuencias sin pérdida de información\n",
    "- En general vimos que la información se concentra en el centro del espectro\n",
    "- Las tres redundancias:\n",
    "    -  **Redundancia interpixel (transformación)** Alta correlación entre píxeles vecinos \n",
    "    - **Redundancia psicovisual (cuantización):** El ojo humano no puede resolver más de 32 niveles de grises:\n",
    "    - **Redundancia de codificación:** Algunos tonos son más comunes que otros \n",
    " \n",
    "\n",
    "¿Cómo explotamos esto para reducir el tamaño de una imagen?"
   ]
  },
  {
   "cell_type": "markdown",
   "metadata": {
    "slideshow": {
     "slide_type": "subslide"
    }
   },
   "source": [
    "##  Ejemplo: Joint Photographic Experts Group (JPEG)\n",
    "\n",
    "- Formato ampliamente usado para distribuir imágenes digitales\n",
    "- Es un algoritmo de compresión con pérdidas para imágenes (lossy)\n",
    "- Explota las siguientes características del sistema visual humano\n",
    "    - Somos más sensibles a la iluminación que al color\n",
    "    - Somos menos sensibles a los componentes de alta frecuencia\n",
    "- Más componentes descartados: mayor compresión, y peor la calidad\n",
    "\n",
    "\n",
    "Algoritmo:\n",
    "1. Paso preliminar: RGB a YCbCr (y downsampling 4:2:2)\n",
    "1. Transformación con **Discrete Cosine Transform** (DCT) en bloques de 8x8 sin traslape\n",
    "1. Cuantización escalar\n",
    "1. Codificación de Huffman\n"
   ]
  },
  {
   "cell_type": "markdown",
   "metadata": {
    "slideshow": {
     "slide_type": "subslide"
    }
   },
   "source": [
    "### Espacio YCbCr\n",
    "- Y es la luminancia\n",
    "- Cb y Cr son los componentes cromáticos azul y rojo, respectivamente\n",
    "\n",
    "$$\n",
    "Y = K_R R + K_G G + K_B B \\\\\n",
    "C_b = 0.5 \\frac{B - Y}{1 - K_B} \\\\\n",
    "C_R = 0.5 \\frac{R - Y}{1 - K_R}\n",
    "$$\n",
    "donde $K_R + K_G + K_B = 1$.\n"
   ]
  },
  {
   "cell_type": "code",
   "execution_count": null,
   "metadata": {
    "slideshow": {
     "slide_type": "fragment"
    }
   },
   "outputs": [],
   "source": [
    "# ITU-R BT.601 \n",
    "dogo_color = plt.imread('images/lobo.jpg')\n",
    "Y = color2bw(dogo_color)\n",
    "\n",
    "plt.matshow(Y, cmap=plt.cm.Greys_r); plt.axis('off'); plt.title('Y')\n",
    "C_b = np.dot(dogo_color, [-0.168736, -0.3312, 0.5])\n",
    "plt.matshow(C_b, cmap=plt.cm.Greys_r); plt.axis('off'); plt.title('Cb')\n",
    "C_r = np.dot(dogo_color, [0.5, -0.4186, -0.0813])\n",
    "plt.matshow(C_r, cmap=plt.cm.Greys_r); plt.axis('off'); plt.title('Cr');"
   ]
  },
  {
   "cell_type": "code",
   "execution_count": null,
   "metadata": {
    "slideshow": {
     "slide_type": "fragment"
    }
   },
   "outputs": [],
   "source": [
    "plt.close(); fig, ax = plt.subplots(figsize=(9, 5), tight_layout=True)\n",
    "\n",
    "def update(q_Y, q_C):\n",
    "    ax.cla(); ax.axis('off')\n",
    "    Y = np.round(np.dot(dogo_color, [0.299, 0.587, 0.114])*q_Y/255.0)*255.0/q_Y\n",
    "    C_b = 128+np.round(np.dot(dogo_color, [-0.168736, -0.3312, 0.5])*q_C/255.0)*255.0/q_C\n",
    "    C_r = 128+np.round(np.dot(dogo_color, [0.5, -0.4186, -0.0813])*q_C/255.0)*255.0/q_C\n",
    "    rgb = np.zeros(shape=(Y.shape[0], Y.shape[1], 3))\n",
    "    rgb[:,:,0] = Y + 1.402 * (C_r-128)\n",
    "    rgb[:,:,1] = Y - .34414 * (C_b-128) - .71414 * (C_r-128)\n",
    "    rgb[:,:,2] = Y + 1.772 * (C_b-128)\n",
    "    np.putmask(rgb, rgb > 255, 255);\n",
    "    np.putmask(rgb, rgb < 0, 0);    \n",
    "    ax.imshow(np.uint8(rgb));\n",
    "   \n",
    "interact(update, q_Y=SelectionSlider_nice(options=[1, 2, 4, 8, 16, 32, 64, 128], value=128, description=\"Niveles de Y\"),\n",
    "         q_C=SelectionSlider_nice(options=[1, 2, 4, 8, 16, 32, 64, 128], value=128, description=\"Niveles de C\"));"
   ]
  },
  {
   "cell_type": "markdown",
   "metadata": {
    "slideshow": {
     "slide_type": "slide"
    }
   },
   "source": [
    "## Discrete Cosine Transform (DCT)\n",
    "\n",
    "Sea una señal discreta y bidimensional $g[n_1, n_2]$ con índices $n_1 \\in [0, N_1-1]$ y $n_2 \\in [0, N_2-1]$ su DCT es \n",
    "\n",
    "$$\n",
    "G_C[k_1, k_2] = \\sum_{n_1=0}^{N_1-1} \\sum_{n_2=0}^{N_2-1} 4 g[n_1, n_2] \\cos \\left ( \\frac{\\pi k_1}{2N_1}(2n_1+1)  \\right) \\cos \\left ( \\frac{\\pi k_2}{2N_2}(2n_2+1)  \\right) \n",
    "$$\n",
    "y su inversa\n",
    "\n",
    "$$\n",
    "g[n_1, n_2] = \\frac{1}{N_1 N_2}\\sum_{k_1=0}^{N_1-1} \\sum_{k_2=0}^{N_2-1} w[k_1]w[k_2]G[k_1, k_2] \\cos \\left ( \\frac{\\pi k_1}{2N_1}(2n_1+1)  \\right) \\cos \\left ( \\frac{\\pi k_2}{2N_2}(2n_2+1)  \\right), \n",
    "$$\n",
    "\n",
    "donde \n",
    "$$\n",
    "w[k] =\\begin{cases}\n",
    "1/2 & \\text{ssi} ~~ k=0\\\\\n",
    "1 & \\text{ssi} ~~ k \\neq 0\n",
    "\\end{cases} \n",
    "$$\n",
    "\n",
    "La DCT bidimensional:\n",
    "- es lineal, y cumple el principio de conservación de energía\n",
    "- se puede descomponer en 2 aplicaciones de la DCT 1D\n",
    "- es equivalente a la DFT de una señal \"simetricamente extendida\":\n",
    "\n",
    "$$\n",
    "y[k] =\\begin{cases}\n",
    "x[k] & \\text{ssi} ~~ k<N\\\\\n",
    "x[2N-1-k] & \\text{ssi} ~~ N \\leq k < 2N - 1 \n",
    "\\end{cases} \n",
    "$$\n",
    "- Es decir que podemos usar el algoritmo FFT para calcular eficientemente la DCT\n",
    "\n",
    "**Ojo:** La convolución en espacio original no es multiplicación en el espacio DCT\n"
   ]
  },
  {
   "cell_type": "markdown",
   "metadata": {
    "slideshow": {
     "slide_type": "subslide"
    }
   },
   "source": [
    "La base de la DCT:"
   ]
  },
  {
   "cell_type": "code",
   "execution_count": null,
   "metadata": {
    "slideshow": {
     "slide_type": "fragment"
    }
   },
   "outputs": [],
   "source": [
    "x = np.arange(0, 32, step=1)\n",
    "X, Y = np.meshgrid(x, x)\n",
    "fig, ax = plt.subplots(8, 8, figsize=(9, 8), tight_layout=False)\n",
    "fig.subplots_adjust(left=0.05, right=0.95, top=0.95, bottom=0.05)\n",
    "for n in range(ax.shape[0]):\n",
    "    for m in range(ax.shape[1]):\n",
    "        cos_x = np.cos(np.pi*(2*X+1)*m/(2*len(x)))\n",
    "        cos_y = np.cos(np.pi*(2*Y+1)*n/(2*len(x)))\n",
    "        ax[n, m].matshow(cos_x*cos_y, cmap=plt.cm.RdBu_r, vmin=-1, vmax=1)\n",
    "        ax[n, m].axis('off')\n"
   ]
  },
  {
   "cell_type": "markdown",
   "metadata": {
    "slideshow": {
     "slide_type": "slide"
    }
   },
   "source": [
    "### Ejemplo: Transformación de una imagen usando DCT en bloques de 8x8"
   ]
  },
  {
   "cell_type": "code",
   "execution_count": null,
   "metadata": {
    "slideshow": {
     "slide_type": "fragment"
    }
   },
   "outputs": [],
   "source": [
    "img_seadoge = color2bw(plt.imread('images/lobo.jpg'))  \n",
    "fig, ax = plt.subplots(figsize=(9, 6)); ax.axis('off')\n",
    "ax.imshow(img_seadoge, cmap=plt.cm.Greys_r);"
   ]
  },
  {
   "cell_type": "code",
   "execution_count": null,
   "metadata": {
    "slideshow": {
     "slide_type": "fragment"
    }
   },
   "outputs": [],
   "source": [
    "DCT2 = lambda g, norm='ortho': fftpack.dct( fftpack.dct(g, axis=0, norm=norm), axis=1, norm=norm)\n",
    "IDCT2 = lambda G, norm='ortho': fftpack.idct( fftpack.idct(G, axis=0, norm=norm), axis=1, norm=norm)\n",
    "\n",
    "imsize = img_seadoge.shape\n",
    "dct_matrix = np.zeros(shape=imsize)\n",
    "dft_matrix = np.zeros(shape=imsize, dtype=np.complex128)\n",
    "\n",
    "for i in range(0, imsize[0], 8):\n",
    "    for j in range(0, imsize[1], 8):\n",
    "        dct_matrix[i:(i+8),j:(j+8)] = DCT2( img_seadoge[i:(i+8),j:(j+8)] )\n",
    "        dft_matrix[i:(i+8),j:(j+8)] = fftpack.fft2( img_seadoge[i:(i+8),j:(j+8)] )  \n"
   ]
  },
  {
   "cell_type": "markdown",
   "metadata": {
    "slideshow": {
     "slide_type": "fragment"
    }
   },
   "source": [
    "¿Cómo se ven uno a uno la DCT de los bloques?"
   ]
  },
  {
   "cell_type": "code",
   "execution_count": null,
   "metadata": {
    "slideshow": {
     "slide_type": "fragment"
    }
   },
   "outputs": [],
   "source": [
    "fig, ax = plt.subplots(1, 2, figsize=(10, 5), tight_layout=True)\n",
    "\n",
    "def plot_values(ax, tile, fontsize=16):\n",
    "    for i in range(8):\n",
    "        for j in range(8):\n",
    "            label = tile[i, j]\n",
    "            ax.text(i, j, int(label), fontsize=fontsize, \n",
    "                    color='black', ha='center', va='center')\n",
    "            \n",
    "def update(block_idx=1):\n",
    "    for ax_ in ax:\n",
    "        ax_.cla(); ax_.axis('off')\n",
    "    tile = img_seadoge[8*block_idx:8*block_idx+8, 8*block_idx:8*block_idx+8]\n",
    "    ax[0].imshow(tile, cmap=plt.cm.Greys_r, \n",
    "                 vmin=img_seadoge.min(), vmax=img_seadoge.max())\n",
    "    ax[0].set_title(\"%d 8x8 image block\" %(block_idx)); \n",
    "    plot_values(ax[0], tile)\n",
    "    tile = dct_matrix[8*block_idx:8*block_idx+8, 8*block_idx:8*block_idx+8]\n",
    "    ax[1].imshow(tile, cmap=plt.cm.Greys_r, \n",
    "                 vmin=dct_matrix.min(), vmax=dct_matrix.max())\n",
    "    ax[1].set_title(\"8x8 DCT\")\n",
    "    plot_values(ax[1], tile)\n",
    "\n",
    "interact(update, block_idx=IntSlider_nice(min=0, max=100, value=0, \n",
    "                                          description=\"Bloque\"));"
   ]
  },
  {
   "cell_type": "markdown",
   "metadata": {
    "slideshow": {
     "slide_type": "fragment"
    }
   },
   "source": [
    "¿Cómo se ven los bloques de la DCT si los concatenamos?"
   ]
  },
  {
   "cell_type": "code",
   "execution_count": null,
   "metadata": {
    "slideshow": {
     "slide_type": "fragment"
    }
   },
   "outputs": [],
   "source": [
    "plt.close(); \n",
    "fig, ax = plt.subplots(figsize=(10, 7), tight_layout=True)\n",
    "ax.axis('off')\n",
    "ax.matshow(dct_matrix, cmap=plt.cm.Greys_r, vmin=0, vmax=50);"
   ]
  },
  {
   "cell_type": "markdown",
   "metadata": {
    "slideshow": {
     "slide_type": "subslide"
    }
   },
   "source": [
    "Comparemos ahora la DFT y DCT en términos de reconstrucción con pérdidas"
   ]
  },
  {
   "cell_type": "code",
   "execution_count": null,
   "metadata": {
    "slideshow": {
     "slide_type": "fragment"
    }
   },
   "outputs": [],
   "source": [
    "fig, ax = plt.subplots(2, 2, figsize=(10, 6), tight_layout=False)\n",
    "fig.subplots_adjust(left=0.01, right=0.99, top=0.94, bottom=0.01)\n",
    "def update(percent):\n",
    "    for ax_ in ax.ravel():\n",
    "        ax_.cla(); ax_.axis('off')\n",
    "    imsize = img_seadoge.shape\n",
    "    Npixels = imsize[0]*imsize[1]\n",
    "    im_dct, im_dft = np.zeros(imsize), np.zeros(imsize)\n",
    "    I = np.unravel_index(np.argsort(np.absolute(dct_matrix), axis=None)[::-1], \n",
    "                         dct_matrix.shape)\n",
    "    dct_thresh = dct_matrix.copy()\n",
    "    dct_thresh[I[0][int(Npixels*percent/100):], \n",
    "               I[1][int(Npixels*percent/100):]] = 0\n",
    "    I = np.unravel_index(np.argsort(np.absolute(dft_matrix), axis=None)[::-1], \n",
    "                         dft_matrix.shape)\n",
    "    dft_thresh = dft_matrix.copy()\n",
    "    dft_thresh[I[0][int(Npixels*percent/100):], \n",
    "               I[1][int(Npixels*percent/100):]] = 0\n",
    "    for i in range(0, imsize[0], 8):\n",
    "        for j in range(0, imsize[1], 8):\n",
    "            im_dct[i:(i+8),j:(j+8)] = IDCT2( dct_thresh[i:(i+8),j:(j+8)] )\n",
    "            im_dft[i:(i+8),j:(j+8)] = np.real(fftpack.ifft2( dft_thresh[i:(i+8),j:(j+8)] ))\n",
    "    \n",
    "    ax[0, 0].imshow(im_dft, cmap=plt.cm.Greys_r); \n",
    "    ax[0, 0].set_title(\"DFT\")\n",
    "    ax[1, 0].imshow(im_dft[200:400, 250:600], cmap=plt.cm.Greys_r); \n",
    "    ax[0, 1].imshow(im_dct, cmap=plt.cm.Greys_r); \n",
    "    ax[0, 1].set_title(\"DCT\")\n",
    "    ax[1, 1].imshow(im_dct[200:400, 250:600], cmap=plt.cm.Greys_r); \n",
    "    \n",
    "interact(update, percent=SelectionSlider_nice(options=[1., 2.5, 5., 7.5, 10., 20], value=20,\n",
    "                                          description=\"Porcentaje de componentes retenidos\"));"
   ]
  },
  {
   "cell_type": "markdown",
   "metadata": {
    "slideshow": {
     "slide_type": "fragment"
    }
   },
   "source": [
    "La DCT es equivalente a la DFT de la imagen simetricamente extendida:"
   ]
  },
  {
   "cell_type": "code",
   "execution_count": null,
   "metadata": {
    "slideshow": {
     "slide_type": "fragment"
    }
   },
   "outputs": [],
   "source": [
    "img_seadogo_sym = np.hstack((img_seadoge, np.fliplr(img_seadoge)))\n",
    "img_seadogo_sym = np.vstack((np.flipud(img_seadogo_sym), img_seadogo_sym))\n",
    "fig, ax = plt.subplots(figsize=(10, 6))\n",
    "ax.axis('off')\n",
    "ax.imshow(img_seadogo_sym, cmap=plt.cm.Greys_r);"
   ]
  },
  {
   "cell_type": "markdown",
   "metadata": {
    "slideshow": {
     "slide_type": "skip"
    }
   },
   "source": [
    "- DCT y efectos de borde\n",
    "- optimalidad en termines de aproximacion a transformacion KL\n",
    "- optimalidad en terminos de señal markoviana con correlacion positiva"
   ]
  },
  {
   "cell_type": "markdown",
   "metadata": {
    "slideshow": {
     "slide_type": "subslide"
    }
   },
   "source": [
    "## Cuantización escalar\n",
    "\n",
    "- Objetivo: Atacar la redundancia psicovisual\n",
    "- Es una operación de redondeo/truncamiento\n",
    "- Se define por: \n",
    "    - número de niveles $L$, \n",
    "    - fronteras de decisión $d_i$ \n",
    "    - valor de las representaciones $r_i$\n",
    "$$\n",
    "\\begin{equation}\n",
    "    Q(x)=\n",
    "    \\begin{cases}\n",
    "      r_1, & d_0 < x \\leq d_1 \\\\\n",
    "      \\vdots & \\vdots \\\\\n",
    "      r_i, & d_{i-1} < x \\leq d_i \\\\\n",
    "      \\vdots & \\vdots \\\\\n",
    "      r_L, & d_{L-1} < x \\leq d_L\n",
    "    \\end{cases}\n",
    "\\end{equation}\n",
    "$$\n",
    "\n",
    "### Cuantización uniforme\n",
    "\n",
    "Sea un rango de valores en $[-V, V]$, una cuantización uniforme de $L$ niveles sería\n",
    "\n",
    "$$\n",
    "d_0 = -V, d_{L} = V\n",
    "$$\n",
    "La separación entre niveles es fija\n",
    "$$\n",
    "d_{i} = d_{i-1} + \\Delta  = d_0 + i \\Delta = - V + i \\frac{2V}{L}\n",
    "$$\n",
    "y el valor de representación es el punto medio de cada nivel\n",
    "$$\n",
    "r_i = \\frac{1}{2} (d_i + d_{i-1}) = -V + (2i-1) \\frac{2V}{L}\n",
    "$$ \n",
    " \n",
    "\n",
    "\n",
    "### Error de cuantización\n",
    "\n",
    "Es la distancia entre el valor real y su versión cuantizada\n",
    "$$\n",
    "d_c = \\|Q(x) -x\\| \n",
    "$$"
   ]
  },
  {
   "cell_type": "markdown",
   "metadata": {
    "slideshow": {
     "slide_type": "subslide"
    }
   },
   "source": [
    "## Cuantización vectorial\n",
    "\n",
    "Es la extensión del caso anterior a múltiples dimensiones\n",
    "\n",
    "- Sea un set de datos N-dimensionales $X=\\{x_1, x_2, \\ldots, x_N\\}$ \n",
    "- Se busca un set de prototipos $C=\\{c_1, c_2, \\ldots, x_L\\}$ donde $L < N$\n",
    "- La función de cuantización es $Q(x) = c_k$ donde $k = \\text{arg}\\min_i \\|x - c_i\\|$\n",
    "- Hay que definir una métrica de distancia (*e.g* norma L2)\n",
    "\n",
    "Algoritmo\n",
    "1. Inicializar con prototipos aleatorios\n",
    "2. Asignar los datos a su prototipo más cercano\n",
    "3. Actualizar los prototipos como el valor medio de sus datos asignados\n",
    "4. Iterar hasta converger\n",
    "\n",
    "<center><img src=\"images/kmeans.gif\" width=\"600\"></center>\n",
    "\n",
    "Si se usa norma L2 se obtiene el famoso algoritmo K-means"
   ]
  },
  {
   "cell_type": "code",
   "execution_count": null,
   "metadata": {
    "slideshow": {
     "slide_type": "fragment"
    }
   },
   "outputs": [],
   "source": [
    "from scipy.cluster.vq import vq\n",
    "from sklearn.cluster import KMeans\n",
    "img_color = plt.imread(\"images/atardecer.jpg\")\n",
    "img_pixels = np.reshape(img_color, (-1, 3))\n",
    "kmeans = KMeans(n_clusters=10).fit(np.float32(img_pixels)) \n",
    "centroids = kmeans.cluster_centers_\n",
    "qnt,_ = vq(np.float32(img_pixels), centroids)\n",
    "centers_idx = np.reshape(qnt, (img_color.shape[0], img_color.shape[1]))\n",
    "clustered = np.uint8(centroids[centers_idx])\n",
    "\n",
    "fig, ax = plt.subplots(1, 2, figsize=(9, 4), tight_layout=False)\n",
    "fig.subplots_adjust(left=0.01, right=0.99, top=0.99, bottom=0.01)\n",
    "ax[0].imshow(img_color); ax[0].axis('off');\n",
    "ax[1].imshow(clustered); ax[1].axis('off');"
   ]
  },
  {
   "cell_type": "code",
   "execution_count": null,
   "metadata": {
    "slideshow": {
     "slide_type": "fragment"
    }
   },
   "outputs": [],
   "source": [
    "from mpl_toolkits.mplot3d import Axes3D\n",
    "fig = plt.figure(figsize=((6, 5)))\n",
    "ax = fig.gca(projection='3d')\n",
    "ax.scatter(centroids[:, 0], centroids[:, 1], centroids[:, 2], \n",
    "           c=centroids/255., s=500);\n",
    "ax.set_xlim([0, 255]); ax.set_ylim([0, 255]); ax.set_zlim([0, 255]);"
   ]
  },
  {
   "cell_type": "markdown",
   "metadata": {
    "slideshow": {
     "slide_type": "subslide"
    }
   },
   "source": [
    "### Cuantización en JPEG\n",
    "\n",
    "- Se cuantizan los bloques de 8x8 componentes DCT \n",
    "- El nivel de los componentes se redondea según una matriz de cuantización Q\n",
    "- Q fue diseñada tal que componentes de alta frecuencia se cuantizan en menos niveles\n",
    "- El bloque cuantizado se obtiene como $\\text{ROUND}\\left(\\frac{G_C}{Q}\\right)$"
   ]
  },
  {
   "cell_type": "code",
   "execution_count": null,
   "metadata": {
    "slideshow": {
     "slide_type": "fragment"
    }
   },
   "outputs": [],
   "source": [
    "Q = np.array([[16, 11, 10, 16, 24, 40, 51, 61],[12, 12, 14, 19, 26, 58, 60, 55],\n",
    "              [14, 13, 16, 24, 40, 57, 69, 56],[14, 17, 22, 29, 51, 87, 80, 62],\n",
    "              [18, 22, 37, 56, 68, 109, 103, 77],[24, 35, 55, 64, 81, 104, 113, 92],\n",
    "              [49, 64, 78, 87, 103, 121, 120, 101],[72, 92, 95, 98, 112, 100, 103, 99]])\n",
    "\n",
    "\n",
    "fig, ax = plt.subplots(1, 3, figsize=(10, 4), tight_layout=True)\n",
    "def update(block_idx=1):\n",
    "    for ax_ in ax:\n",
    "        ax_.cla(); ax_.axis('off')\n",
    "    tile = img_seadoge[8*block_idx:8*block_idx+8, 8*block_idx:8*block_idx+8]\n",
    "    ax[0].imshow(tile, cmap=plt.cm.Greys_r)\n",
    "    ax[0].set_title(\"8x8 %d'th block\" %(block_idx)); \n",
    "    plot_values(ax[0], tile, fontsize=12)\n",
    "    tile = dct_matrix[8*block_idx:8*block_idx+8, 8*block_idx:8*block_idx+8]\n",
    "    ax[1].imshow(tile, cmap=plt.cm.Greys_r)\n",
    "    ax[1].set_title(\"8x8 DCT\\n %d nonzero\" %(np.count_nonzero(tile))); \n",
    "    plot_values(ax[1], tile, fontsize=12)\n",
    "    quant = np.round(tile/Q)\n",
    "    ax[2].imshow(quant, cmap=plt.cm.Greys_r)\n",
    "    ax[2].set_title(\"8x8 Quantized\\n%d nonzero\" %(np.count_nonzero(quant))); \n",
    "    plot_values(ax[2], quant, fontsize=12)\n",
    "\n",
    "interact(update, block_idx=IntSlider_nice(min=0, max=100, value=0, description=\"Block tile\"));"
   ]
  },
  {
   "cell_type": "code",
   "execution_count": null,
   "metadata": {
    "slideshow": {
     "slide_type": "fragment"
    }
   },
   "outputs": [],
   "source": [
    "area = img_seadoge.shape[0]*img_seadoge.shape[1]\n",
    "fig, ax = plt.subplots(1, 2, figsize=(10, 4), tight_layout=False)\n",
    "fig.subplots_adjust(left=0.01, right=0.99, top=0.94, bottom=0.01)\n",
    "\n",
    "def update(percent):\n",
    "    for ax_ in ax.ravel():\n",
    "        ax_.cla(); ax_.axis('off')\n",
    "    im_dct = np.zeros(imsize)\n",
    "    nnz = np.zeros(dct_matrix.shape)\n",
    "    if (percent < 50):\n",
    "        S = 5000/percent\n",
    "    else:\n",
    "        S = 200 - 2*percent \n",
    "    Q_dyn = np.floor((S*Q + 50) / 100);\n",
    "    Q_dyn[Q_dyn == 0] = 1\n",
    "    for i in range(0, imsize[0], 8):\n",
    "        for j in range(0, imsize[1], 8):\n",
    "            quant = np.round(dct_matrix[i:(i+8),j:(j+8)]/Q_dyn) \n",
    "            im_dct[i:(i+8),j:(j+8)] = IDCT2(quant)\n",
    "            nnz[i, j] = np.count_nonzero(quant)\n",
    "    \n",
    "    ax[0].imshow(img_seadoge, cmap=plt.cm.Greys_r); \n",
    "    ax[0].set_title(\"%0.2f MB\" %(area*8/1e+6))\n",
    "    ax[1].imshow(im_dct, cmap=plt.cm.Greys_r); \n",
    "    ax[1].set_title(\"%0.2f MB\" %(np.sum(nnz)*8/1e+6))\n",
    "interact(update, percent=FloatSlider_nice(min=0, max=100, step=0.01, value=100, \n",
    "                                     description=\"Nivel de compresión\"));"
   ]
  },
  {
   "cell_type": "markdown",
   "metadata": {
    "slideshow": {
     "slide_type": "subslide"
    }
   },
   "source": [
    "# Codificación de fuente\n",
    "\n",
    "- Es el proceso que asigna un código a cada mensaje\n",
    "- El largo de las \"palabras de código\" puede ser **fijo** o **variable**\n",
    "- **Ejemplo:** Queremos codificar las letras del alfabeto (27) usando dos símbolos (código binario)\n",
    "    - Para largo fijo necesitamos al menos 5 bits ($2^5 = 32$)\n",
    "- Pero algunas letras se ocupan más que otras (*e.g.* vocales) \n",
    "- ¿Podemos aprovechar esto para comprimir un mensaje?"
   ]
  },
  {
   "cell_type": "code",
   "execution_count": null,
   "metadata": {
    "slideshow": {
     "slide_type": "fragment"
    }
   },
   "outputs": [],
   "source": [
    "import string\n",
    "from collections import Counter\n",
    "\n",
    "with open('quijote.txt', 'r') as file:\n",
    "    texto = file.read()\n",
    "print(texto)\n",
    "texto = texto.translate({ord(k): None for k in string.digits})\n",
    "for symbol in string.punctuation:\n",
    "    texto = texto.replace(symbol, \"\")\n",
    "texto = texto.replace(\" \", \"\").replace(\"\\n\", \"\")\n",
    "texto = texto.lower().encode('ascii', 'ignore').decode(\"utf-8\")\n",
    "print(\"\\nLargo del texto: {0}, Cantidad de bits: {1}\".format(len(texto), len(texto)*5))\n",
    "Counter(texto).most_common()"
   ]
  },
  {
   "cell_type": "markdown",
   "metadata": {
    "slideshow": {
     "slide_type": "fragment"
    }
   },
   "source": [
    "**Intuición:** Podríamos reducir la cantidad de bits si usamos códigos más cortos para las letras más frecuentes\n",
    "\n",
    "***"
   ]
  },
  {
   "cell_type": "markdown",
   "metadata": {
    "slideshow": {
     "slide_type": "subslide"
    }
   },
   "source": [
    "# Teoría de la información\n",
    "\n",
    "- Estudio matemático sobre la cuantificación y transmisión de la información \n",
    "- Propuesto por **Claude Shannon** en 1948: *A Mathematical Theory of Communication*\n",
    "- Proporciona medidas para describir la información de un proceso: **Entropía** e **Información Mutua**\n",
    "- Aplicaciones en telecomunicaciones, computación y biología (genética)\n",
    "- Fuerte influencia en la teoría de codificación y compresión\n",
    "\n",
    "### Las dos fuentes\n",
    "\n",
    "Sean dos fuentes **F1** y **F2** que pueden emitir uno entre cuatro símbolos: $A$, $B$, $C$ o $D$\n",
    "\n",
    "**F1** es completamente aleatoria, es decir: $P(A) = P(B) = P(C) = P(D) = \\frac{1}{4}$\n",
    "\n",
    "Si queremos predecir el próximo valor emitido por **F1** ¿Cúal es el número mínimo de preguntas con respuesta si/no que debemos hacer?\n",
    "\n",
    "\n",
    "<img src=\"images/information1.svg\" width=\"600\">\n",
    "\n",
    "> La respuesta es 2 para cualquiera de los símbolos\n",
    "\n",
    "**F2** en cambio emite $A$, $B$, $C$ y $D$ con probabilidades $P(A) =\\frac{1}{2}$, $P(B) =\\frac{1}{4}$, $P(C) = \\frac{1}{8}$ y $P(D) =\\frac{1}{8}$, respectivamente\n",
    "\n",
    "Si queremos predecir el próximo valor retornado por **F2** ¿Cúal es el número mínimo de preguntas con respuesta si/no que debemos hacer? \n",
    "\n",
    "<img src=\"images/information2.svg\" width=\"800\">\n",
    "\n",
    "> La respuesta es 1 para $A$, 2 para $B$ y 3 para $C$ y $D$\n",
    "\n",
    "# Cantidad de información\n",
    "\n",
    "La cantidad de información de un símbolo $x$ es el logaritmo en base dos del recíproco de su probabilidad de aparición\n",
    "\n",
    "$$\n",
    "I(x) = \\log_2 \\left(\\frac{1}{P(x)} \\right) = \\log_2 P(x)^{-1} = - \\log_2 P(x),\n",
    "$$\n",
    "\n",
    "que es equivalente a la mínima cantidad de preguntas si/no que debemos hacer para adivinar su valor\n",
    "\n",
    "La cantidad de información se mide en **bits**\n",
    "\n",
    ">Un **bit** es la cantidad de información que se requiere para escoger entre **dos** alternativas equiprobables\n",
    "\n",
    "La cantidad de información es también llamada **sorpresa**\n",
    "\n",
    "> Mientras más improbable es un símbolo, más nos sorprendemos cuando observamos que ocurre"
   ]
  },
  {
   "cell_type": "markdown",
   "metadata": {},
   "source": [
    "# Entropía\n",
    "\n",
    "Sea una variable aleatoria $X$ (fuente) con $N$ resultados posibles (símbolos) $\\{x_1, x_2, \\ldots, x_N\\}$\n",
    "\n",
    "Cada símbolo $x_i$ tiene una probabilidad $p_i \\in [0, 1]$ y $\\sum_{i=1}^N p_i = 1$ \n",
    "\n",
    "Cada símbolo tiene una cantidad de información  $I(x_i) = -\\log_2 \\left( p_i \\right)$ \n",
    "\n",
    "Definimos la **cantidad de información promedio** de $X$ como\n",
    "$$\n",
    "\\begin{align}\n",
    "H (X) &= \\mathbb{E}_{x\\sim X} \\left [ - \\log P(X=x) \\right ]  \\nonumber \\\\\n",
    "&= - \\sum_{i=1}^N P(x_i) \\log_2 P(x_i)  \\nonumber \\\\\n",
    "&= - \\sum_{i=1}^N p_i \\log_2 p_i  \\quad \\text{[bits]} \\nonumber\n",
    "\\end{align}\n",
    "$$\n",
    "que se conoce como **Entropía de Shannon** \n",
    "\n",
    "### Propiedades\n",
    "- La entropía es siempre positiva $H(X) \\geq 0$. La igualdad se cumple si un $x_i$ tiene $p_i=1$ (caso más predecible)\n",
    "- La entropia está acotada $H(X) \\leq H_0$, donde $H_0= \\log_2(N)$ es la entropia si $p_i = \\frac{1}{N}~ \\forall i$ (caso menos predecible)\n",
    "- La redundancia de $X$ es $1 - H(X)/H_0$\n",
    "\n",
    "> Mientras más predecible es $X$ menor es su entropía y mayor es su redundancia\n",
    "\n",
    "\n",
    "\n",
    "\n",
    "### El retorno de las dos fuentes\n",
    "\n",
    "En promedio, ¿Cuántas preguntas por símbolo hace la fuente **F1**?\n",
    "\n",
    "> $1 \\frac{1}{4} + 1 \\frac{1}{4} + 1 \\frac{1}{4} + 1 \\frac{1}{4} = 2$ preguntas por símbolo. Su entropía es $2$ [bits]\n",
    "\n",
    "En promedio, ¿Cuántas preguntas por símbolo hace la fuente **F2**?\n",
    "\n",
    "> $1 \\frac{1}{2} + 2 \\frac{1}{4} + 3 \\frac{1}{8} + 3 \\frac{1}{8} = 1.75$ preguntas por símbolo. Su entropía es $1.75$ [bits]\n",
    "\n",
    "Si cada fuente retorna un mensaje de 100 símbolos ¿Cúanta información produjo cada una?\n",
    "\n",
    "> **F1** produce 200 bits mientras que **F2** produce 175 bits\n",
    "\n",
    "Mientras más predecible menos información se necesita\n",
    "\n",
    "\n"
   ]
  },
  {
   "cell_type": "markdown",
   "metadata": {
    "slideshow": {
     "slide_type": "subslide"
    }
   },
   "source": [
    "### Ejemplo: Moneda con truco\n",
    "\n",
    "- Sea una variable aleatoria $X$ que modela el resultado de lanzar una moneda\n",
    "- Asumamos que el resultado puede tomar solo dos valores: Cara $o$ o Cruz $x$\n",
    "- La probabilidad de que salga cara es $p_o = p$\n",
    "- La probabilidad de que salga cruz es $p_x = 1- p$\n",
    "- Luego la entropía es \n",
    "\n",
    "$$\n",
    "\\begin{align}\n",
    "H(X) &= -\\sum_{i=1}^2 p_i \\log_2 p_i \\nonumber \\\\ \n",
    "&= -p_x \\log (p_x) - p_o \\log p_o \\nonumber \\\\\n",
    "&= - p \\log(p) - (1-p) \\log(1-p)\n",
    "\\end{align}\n",
    "$$\n",
    "\n",
    "Reflexione:\n",
    "- ¿En que casos la entropía es mínima? ¿En qué caso es máxima?\n",
    "- ¿Puedes relacionar la entropía con la aleatoridad/sorpresa del resultado de lanzar la moneda?\n",
    "\n",
    "\n",
    "Ojo: $\\lim_{z\\to 0^+} z \\log 1/z = 0$"
   ]
  },
  {
   "cell_type": "code",
   "execution_count": 15,
   "metadata": {
    "slideshow": {
     "slide_type": "fragment"
    }
   },
   "outputs": [
    {
     "data": {
      "application/javascript": [
       "/* Put everything inside the global mpl namespace */\n",
       "window.mpl = {};\n",
       "\n",
       "\n",
       "mpl.get_websocket_type = function() {\n",
       "    if (typeof(WebSocket) !== 'undefined') {\n",
       "        return WebSocket;\n",
       "    } else if (typeof(MozWebSocket) !== 'undefined') {\n",
       "        return MozWebSocket;\n",
       "    } else {\n",
       "        alert('Your browser does not have WebSocket support.' +\n",
       "              'Please try Chrome, Safari or Firefox ≥ 6. ' +\n",
       "              'Firefox 4 and 5 are also supported but you ' +\n",
       "              'have to enable WebSockets in about:config.');\n",
       "    };\n",
       "}\n",
       "\n",
       "mpl.figure = function(figure_id, websocket, ondownload, parent_element) {\n",
       "    this.id = figure_id;\n",
       "\n",
       "    this.ws = websocket;\n",
       "\n",
       "    this.supports_binary = (this.ws.binaryType != undefined);\n",
       "\n",
       "    if (!this.supports_binary) {\n",
       "        var warnings = document.getElementById(\"mpl-warnings\");\n",
       "        if (warnings) {\n",
       "            warnings.style.display = 'block';\n",
       "            warnings.textContent = (\n",
       "                \"This browser does not support binary websocket messages. \" +\n",
       "                    \"Performance may be slow.\");\n",
       "        }\n",
       "    }\n",
       "\n",
       "    this.imageObj = new Image();\n",
       "\n",
       "    this.context = undefined;\n",
       "    this.message = undefined;\n",
       "    this.canvas = undefined;\n",
       "    this.rubberband_canvas = undefined;\n",
       "    this.rubberband_context = undefined;\n",
       "    this.format_dropdown = undefined;\n",
       "\n",
       "    this.image_mode = 'full';\n",
       "\n",
       "    this.root = $('<div/>');\n",
       "    this._root_extra_style(this.root)\n",
       "    this.root.attr('style', 'display: inline-block');\n",
       "\n",
       "    $(parent_element).append(this.root);\n",
       "\n",
       "    this._init_header(this);\n",
       "    this._init_canvas(this);\n",
       "    this._init_toolbar(this);\n",
       "\n",
       "    var fig = this;\n",
       "\n",
       "    this.waiting = false;\n",
       "\n",
       "    this.ws.onopen =  function () {\n",
       "            fig.send_message(\"supports_binary\", {value: fig.supports_binary});\n",
       "            fig.send_message(\"send_image_mode\", {});\n",
       "            if (mpl.ratio != 1) {\n",
       "                fig.send_message(\"set_dpi_ratio\", {'dpi_ratio': mpl.ratio});\n",
       "            }\n",
       "            fig.send_message(\"refresh\", {});\n",
       "        }\n",
       "\n",
       "    this.imageObj.onload = function() {\n",
       "            if (fig.image_mode == 'full') {\n",
       "                // Full images could contain transparency (where diff images\n",
       "                // almost always do), so we need to clear the canvas so that\n",
       "                // there is no ghosting.\n",
       "                fig.context.clearRect(0, 0, fig.canvas.width, fig.canvas.height);\n",
       "            }\n",
       "            fig.context.drawImage(fig.imageObj, 0, 0);\n",
       "        };\n",
       "\n",
       "    this.imageObj.onunload = function() {\n",
       "        fig.ws.close();\n",
       "    }\n",
       "\n",
       "    this.ws.onmessage = this._make_on_message_function(this);\n",
       "\n",
       "    this.ondownload = ondownload;\n",
       "}\n",
       "\n",
       "mpl.figure.prototype._init_header = function() {\n",
       "    var titlebar = $(\n",
       "        '<div class=\"ui-dialog-titlebar ui-widget-header ui-corner-all ' +\n",
       "        'ui-helper-clearfix\"/>');\n",
       "    var titletext = $(\n",
       "        '<div class=\"ui-dialog-title\" style=\"width: 100%; ' +\n",
       "        'text-align: center; padding: 3px;\"/>');\n",
       "    titlebar.append(titletext)\n",
       "    this.root.append(titlebar);\n",
       "    this.header = titletext[0];\n",
       "}\n",
       "\n",
       "\n",
       "\n",
       "mpl.figure.prototype._canvas_extra_style = function(canvas_div) {\n",
       "\n",
       "}\n",
       "\n",
       "\n",
       "mpl.figure.prototype._root_extra_style = function(canvas_div) {\n",
       "\n",
       "}\n",
       "\n",
       "mpl.figure.prototype._init_canvas = function() {\n",
       "    var fig = this;\n",
       "\n",
       "    var canvas_div = $('<div/>');\n",
       "\n",
       "    canvas_div.attr('style', 'position: relative; clear: both; outline: 0');\n",
       "\n",
       "    function canvas_keyboard_event(event) {\n",
       "        return fig.key_event(event, event['data']);\n",
       "    }\n",
       "\n",
       "    canvas_div.keydown('key_press', canvas_keyboard_event);\n",
       "    canvas_div.keyup('key_release', canvas_keyboard_event);\n",
       "    this.canvas_div = canvas_div\n",
       "    this._canvas_extra_style(canvas_div)\n",
       "    this.root.append(canvas_div);\n",
       "\n",
       "    var canvas = $('<canvas/>');\n",
       "    canvas.addClass('mpl-canvas');\n",
       "    canvas.attr('style', \"left: 0; top: 0; z-index: 0; outline: 0\")\n",
       "\n",
       "    this.canvas = canvas[0];\n",
       "    this.context = canvas[0].getContext(\"2d\");\n",
       "\n",
       "    var backingStore = this.context.backingStorePixelRatio ||\n",
       "\tthis.context.webkitBackingStorePixelRatio ||\n",
       "\tthis.context.mozBackingStorePixelRatio ||\n",
       "\tthis.context.msBackingStorePixelRatio ||\n",
       "\tthis.context.oBackingStorePixelRatio ||\n",
       "\tthis.context.backingStorePixelRatio || 1;\n",
       "\n",
       "    mpl.ratio = (window.devicePixelRatio || 1) / backingStore;\n",
       "\n",
       "    var rubberband = $('<canvas/>');\n",
       "    rubberband.attr('style', \"position: absolute; left: 0; top: 0; z-index: 1;\")\n",
       "\n",
       "    var pass_mouse_events = true;\n",
       "\n",
       "    canvas_div.resizable({\n",
       "        start: function(event, ui) {\n",
       "            pass_mouse_events = false;\n",
       "        },\n",
       "        resize: function(event, ui) {\n",
       "            fig.request_resize(ui.size.width, ui.size.height);\n",
       "        },\n",
       "        stop: function(event, ui) {\n",
       "            pass_mouse_events = true;\n",
       "            fig.request_resize(ui.size.width, ui.size.height);\n",
       "        },\n",
       "    });\n",
       "\n",
       "    function mouse_event_fn(event) {\n",
       "        if (pass_mouse_events)\n",
       "            return fig.mouse_event(event, event['data']);\n",
       "    }\n",
       "\n",
       "    rubberband.mousedown('button_press', mouse_event_fn);\n",
       "    rubberband.mouseup('button_release', mouse_event_fn);\n",
       "    // Throttle sequential mouse events to 1 every 20ms.\n",
       "    rubberband.mousemove('motion_notify', mouse_event_fn);\n",
       "\n",
       "    rubberband.mouseenter('figure_enter', mouse_event_fn);\n",
       "    rubberband.mouseleave('figure_leave', mouse_event_fn);\n",
       "\n",
       "    canvas_div.on(\"wheel\", function (event) {\n",
       "        event = event.originalEvent;\n",
       "        event['data'] = 'scroll'\n",
       "        if (event.deltaY < 0) {\n",
       "            event.step = 1;\n",
       "        } else {\n",
       "            event.step = -1;\n",
       "        }\n",
       "        mouse_event_fn(event);\n",
       "    });\n",
       "\n",
       "    canvas_div.append(canvas);\n",
       "    canvas_div.append(rubberband);\n",
       "\n",
       "    this.rubberband = rubberband;\n",
       "    this.rubberband_canvas = rubberband[0];\n",
       "    this.rubberband_context = rubberband[0].getContext(\"2d\");\n",
       "    this.rubberband_context.strokeStyle = \"#000000\";\n",
       "\n",
       "    this._resize_canvas = function(width, height) {\n",
       "        // Keep the size of the canvas, canvas container, and rubber band\n",
       "        // canvas in synch.\n",
       "        canvas_div.css('width', width)\n",
       "        canvas_div.css('height', height)\n",
       "\n",
       "        canvas.attr('width', width * mpl.ratio);\n",
       "        canvas.attr('height', height * mpl.ratio);\n",
       "        canvas.attr('style', 'width: ' + width + 'px; height: ' + height + 'px;');\n",
       "\n",
       "        rubberband.attr('width', width);\n",
       "        rubberband.attr('height', height);\n",
       "    }\n",
       "\n",
       "    // Set the figure to an initial 600x600px, this will subsequently be updated\n",
       "    // upon first draw.\n",
       "    this._resize_canvas(600, 600);\n",
       "\n",
       "    // Disable right mouse context menu.\n",
       "    $(this.rubberband_canvas).bind(\"contextmenu\",function(e){\n",
       "        return false;\n",
       "    });\n",
       "\n",
       "    function set_focus () {\n",
       "        canvas.focus();\n",
       "        canvas_div.focus();\n",
       "    }\n",
       "\n",
       "    window.setTimeout(set_focus, 100);\n",
       "}\n",
       "\n",
       "mpl.figure.prototype._init_toolbar = function() {\n",
       "    var fig = this;\n",
       "\n",
       "    var nav_element = $('<div/>')\n",
       "    nav_element.attr('style', 'width: 100%');\n",
       "    this.root.append(nav_element);\n",
       "\n",
       "    // Define a callback function for later on.\n",
       "    function toolbar_event(event) {\n",
       "        return fig.toolbar_button_onclick(event['data']);\n",
       "    }\n",
       "    function toolbar_mouse_event(event) {\n",
       "        return fig.toolbar_button_onmouseover(event['data']);\n",
       "    }\n",
       "\n",
       "    for(var toolbar_ind in mpl.toolbar_items) {\n",
       "        var name = mpl.toolbar_items[toolbar_ind][0];\n",
       "        var tooltip = mpl.toolbar_items[toolbar_ind][1];\n",
       "        var image = mpl.toolbar_items[toolbar_ind][2];\n",
       "        var method_name = mpl.toolbar_items[toolbar_ind][3];\n",
       "\n",
       "        if (!name) {\n",
       "            // put a spacer in here.\n",
       "            continue;\n",
       "        }\n",
       "        var button = $('<button/>');\n",
       "        button.addClass('ui-button ui-widget ui-state-default ui-corner-all ' +\n",
       "                        'ui-button-icon-only');\n",
       "        button.attr('role', 'button');\n",
       "        button.attr('aria-disabled', 'false');\n",
       "        button.click(method_name, toolbar_event);\n",
       "        button.mouseover(tooltip, toolbar_mouse_event);\n",
       "\n",
       "        var icon_img = $('<span/>');\n",
       "        icon_img.addClass('ui-button-icon-primary ui-icon');\n",
       "        icon_img.addClass(image);\n",
       "        icon_img.addClass('ui-corner-all');\n",
       "\n",
       "        var tooltip_span = $('<span/>');\n",
       "        tooltip_span.addClass('ui-button-text');\n",
       "        tooltip_span.html(tooltip);\n",
       "\n",
       "        button.append(icon_img);\n",
       "        button.append(tooltip_span);\n",
       "\n",
       "        nav_element.append(button);\n",
       "    }\n",
       "\n",
       "    var fmt_picker_span = $('<span/>');\n",
       "\n",
       "    var fmt_picker = $('<select/>');\n",
       "    fmt_picker.addClass('mpl-toolbar-option ui-widget ui-widget-content');\n",
       "    fmt_picker_span.append(fmt_picker);\n",
       "    nav_element.append(fmt_picker_span);\n",
       "    this.format_dropdown = fmt_picker[0];\n",
       "\n",
       "    for (var ind in mpl.extensions) {\n",
       "        var fmt = mpl.extensions[ind];\n",
       "        var option = $(\n",
       "            '<option/>', {selected: fmt === mpl.default_extension}).html(fmt);\n",
       "        fmt_picker.append(option)\n",
       "    }\n",
       "\n",
       "    // Add hover states to the ui-buttons\n",
       "    $( \".ui-button\" ).hover(\n",
       "        function() { $(this).addClass(\"ui-state-hover\");},\n",
       "        function() { $(this).removeClass(\"ui-state-hover\");}\n",
       "    );\n",
       "\n",
       "    var status_bar = $('<span class=\"mpl-message\"/>');\n",
       "    nav_element.append(status_bar);\n",
       "    this.message = status_bar[0];\n",
       "}\n",
       "\n",
       "mpl.figure.prototype.request_resize = function(x_pixels, y_pixels) {\n",
       "    // Request matplotlib to resize the figure. Matplotlib will then trigger a resize in the client,\n",
       "    // which will in turn request a refresh of the image.\n",
       "    this.send_message('resize', {'width': x_pixels, 'height': y_pixels});\n",
       "}\n",
       "\n",
       "mpl.figure.prototype.send_message = function(type, properties) {\n",
       "    properties['type'] = type;\n",
       "    properties['figure_id'] = this.id;\n",
       "    this.ws.send(JSON.stringify(properties));\n",
       "}\n",
       "\n",
       "mpl.figure.prototype.send_draw_message = function() {\n",
       "    if (!this.waiting) {\n",
       "        this.waiting = true;\n",
       "        this.ws.send(JSON.stringify({type: \"draw\", figure_id: this.id}));\n",
       "    }\n",
       "}\n",
       "\n",
       "\n",
       "mpl.figure.prototype.handle_save = function(fig, msg) {\n",
       "    var format_dropdown = fig.format_dropdown;\n",
       "    var format = format_dropdown.options[format_dropdown.selectedIndex].value;\n",
       "    fig.ondownload(fig, format);\n",
       "}\n",
       "\n",
       "\n",
       "mpl.figure.prototype.handle_resize = function(fig, msg) {\n",
       "    var size = msg['size'];\n",
       "    if (size[0] != fig.canvas.width || size[1] != fig.canvas.height) {\n",
       "        fig._resize_canvas(size[0], size[1]);\n",
       "        fig.send_message(\"refresh\", {});\n",
       "    };\n",
       "}\n",
       "\n",
       "mpl.figure.prototype.handle_rubberband = function(fig, msg) {\n",
       "    var x0 = msg['x0'] / mpl.ratio;\n",
       "    var y0 = (fig.canvas.height - msg['y0']) / mpl.ratio;\n",
       "    var x1 = msg['x1'] / mpl.ratio;\n",
       "    var y1 = (fig.canvas.height - msg['y1']) / mpl.ratio;\n",
       "    x0 = Math.floor(x0) + 0.5;\n",
       "    y0 = Math.floor(y0) + 0.5;\n",
       "    x1 = Math.floor(x1) + 0.5;\n",
       "    y1 = Math.floor(y1) + 0.5;\n",
       "    var min_x = Math.min(x0, x1);\n",
       "    var min_y = Math.min(y0, y1);\n",
       "    var width = Math.abs(x1 - x0);\n",
       "    var height = Math.abs(y1 - y0);\n",
       "\n",
       "    fig.rubberband_context.clearRect(\n",
       "        0, 0, fig.canvas.width, fig.canvas.height);\n",
       "\n",
       "    fig.rubberband_context.strokeRect(min_x, min_y, width, height);\n",
       "}\n",
       "\n",
       "mpl.figure.prototype.handle_figure_label = function(fig, msg) {\n",
       "    // Updates the figure title.\n",
       "    fig.header.textContent = msg['label'];\n",
       "}\n",
       "\n",
       "mpl.figure.prototype.handle_cursor = function(fig, msg) {\n",
       "    var cursor = msg['cursor'];\n",
       "    switch(cursor)\n",
       "    {\n",
       "    case 0:\n",
       "        cursor = 'pointer';\n",
       "        break;\n",
       "    case 1:\n",
       "        cursor = 'default';\n",
       "        break;\n",
       "    case 2:\n",
       "        cursor = 'crosshair';\n",
       "        break;\n",
       "    case 3:\n",
       "        cursor = 'move';\n",
       "        break;\n",
       "    }\n",
       "    fig.rubberband_canvas.style.cursor = cursor;\n",
       "}\n",
       "\n",
       "mpl.figure.prototype.handle_message = function(fig, msg) {\n",
       "    fig.message.textContent = msg['message'];\n",
       "}\n",
       "\n",
       "mpl.figure.prototype.handle_draw = function(fig, msg) {\n",
       "    // Request the server to send over a new figure.\n",
       "    fig.send_draw_message();\n",
       "}\n",
       "\n",
       "mpl.figure.prototype.handle_image_mode = function(fig, msg) {\n",
       "    fig.image_mode = msg['mode'];\n",
       "}\n",
       "\n",
       "mpl.figure.prototype.updated_canvas_event = function() {\n",
       "    // Called whenever the canvas gets updated.\n",
       "    this.send_message(\"ack\", {});\n",
       "}\n",
       "\n",
       "// A function to construct a web socket function for onmessage handling.\n",
       "// Called in the figure constructor.\n",
       "mpl.figure.prototype._make_on_message_function = function(fig) {\n",
       "    return function socket_on_message(evt) {\n",
       "        if (evt.data instanceof Blob) {\n",
       "            /* FIXME: We get \"Resource interpreted as Image but\n",
       "             * transferred with MIME type text/plain:\" errors on\n",
       "             * Chrome.  But how to set the MIME type?  It doesn't seem\n",
       "             * to be part of the websocket stream */\n",
       "            evt.data.type = \"image/png\";\n",
       "\n",
       "            /* Free the memory for the previous frames */\n",
       "            if (fig.imageObj.src) {\n",
       "                (window.URL || window.webkitURL).revokeObjectURL(\n",
       "                    fig.imageObj.src);\n",
       "            }\n",
       "\n",
       "            fig.imageObj.src = (window.URL || window.webkitURL).createObjectURL(\n",
       "                evt.data);\n",
       "            fig.updated_canvas_event();\n",
       "            fig.waiting = false;\n",
       "            return;\n",
       "        }\n",
       "        else if (typeof evt.data === 'string' && evt.data.slice(0, 21) == \"data:image/png;base64\") {\n",
       "            fig.imageObj.src = evt.data;\n",
       "            fig.updated_canvas_event();\n",
       "            fig.waiting = false;\n",
       "            return;\n",
       "        }\n",
       "\n",
       "        var msg = JSON.parse(evt.data);\n",
       "        var msg_type = msg['type'];\n",
       "\n",
       "        // Call the  \"handle_{type}\" callback, which takes\n",
       "        // the figure and JSON message as its only arguments.\n",
       "        try {\n",
       "            var callback = fig[\"handle_\" + msg_type];\n",
       "        } catch (e) {\n",
       "            console.log(\"No handler for the '\" + msg_type + \"' message type: \", msg);\n",
       "            return;\n",
       "        }\n",
       "\n",
       "        if (callback) {\n",
       "            try {\n",
       "                // console.log(\"Handling '\" + msg_type + \"' message: \", msg);\n",
       "                callback(fig, msg);\n",
       "            } catch (e) {\n",
       "                console.log(\"Exception inside the 'handler_\" + msg_type + \"' callback:\", e, e.stack, msg);\n",
       "            }\n",
       "        }\n",
       "    };\n",
       "}\n",
       "\n",
       "// from http://stackoverflow.com/questions/1114465/getting-mouse-location-in-canvas\n",
       "mpl.findpos = function(e) {\n",
       "    //this section is from http://www.quirksmode.org/js/events_properties.html\n",
       "    var targ;\n",
       "    if (!e)\n",
       "        e = window.event;\n",
       "    if (e.target)\n",
       "        targ = e.target;\n",
       "    else if (e.srcElement)\n",
       "        targ = e.srcElement;\n",
       "    if (targ.nodeType == 3) // defeat Safari bug\n",
       "        targ = targ.parentNode;\n",
       "\n",
       "    // jQuery normalizes the pageX and pageY\n",
       "    // pageX,Y are the mouse positions relative to the document\n",
       "    // offset() returns the position of the element relative to the document\n",
       "    var x = e.pageX - $(targ).offset().left;\n",
       "    var y = e.pageY - $(targ).offset().top;\n",
       "\n",
       "    return {\"x\": x, \"y\": y};\n",
       "};\n",
       "\n",
       "/*\n",
       " * return a copy of an object with only non-object keys\n",
       " * we need this to avoid circular references\n",
       " * http://stackoverflow.com/a/24161582/3208463\n",
       " */\n",
       "function simpleKeys (original) {\n",
       "  return Object.keys(original).reduce(function (obj, key) {\n",
       "    if (typeof original[key] !== 'object')\n",
       "        obj[key] = original[key]\n",
       "    return obj;\n",
       "  }, {});\n",
       "}\n",
       "\n",
       "mpl.figure.prototype.mouse_event = function(event, name) {\n",
       "    var canvas_pos = mpl.findpos(event)\n",
       "\n",
       "    if (name === 'button_press')\n",
       "    {\n",
       "        this.canvas.focus();\n",
       "        this.canvas_div.focus();\n",
       "    }\n",
       "\n",
       "    var x = canvas_pos.x * mpl.ratio;\n",
       "    var y = canvas_pos.y * mpl.ratio;\n",
       "\n",
       "    this.send_message(name, {x: x, y: y, button: event.button,\n",
       "                             step: event.step,\n",
       "                             guiEvent: simpleKeys(event)});\n",
       "\n",
       "    /* This prevents the web browser from automatically changing to\n",
       "     * the text insertion cursor when the button is pressed.  We want\n",
       "     * to control all of the cursor setting manually through the\n",
       "     * 'cursor' event from matplotlib */\n",
       "    event.preventDefault();\n",
       "    return false;\n",
       "}\n",
       "\n",
       "mpl.figure.prototype._key_event_extra = function(event, name) {\n",
       "    // Handle any extra behaviour associated with a key event\n",
       "}\n",
       "\n",
       "mpl.figure.prototype.key_event = function(event, name) {\n",
       "\n",
       "    // Prevent repeat events\n",
       "    if (name == 'key_press')\n",
       "    {\n",
       "        if (event.which === this._key)\n",
       "            return;\n",
       "        else\n",
       "            this._key = event.which;\n",
       "    }\n",
       "    if (name == 'key_release')\n",
       "        this._key = null;\n",
       "\n",
       "    var value = '';\n",
       "    if (event.ctrlKey && event.which != 17)\n",
       "        value += \"ctrl+\";\n",
       "    if (event.altKey && event.which != 18)\n",
       "        value += \"alt+\";\n",
       "    if (event.shiftKey && event.which != 16)\n",
       "        value += \"shift+\";\n",
       "\n",
       "    value += 'k';\n",
       "    value += event.which.toString();\n",
       "\n",
       "    this._key_event_extra(event, name);\n",
       "\n",
       "    this.send_message(name, {key: value,\n",
       "                             guiEvent: simpleKeys(event)});\n",
       "    return false;\n",
       "}\n",
       "\n",
       "mpl.figure.prototype.toolbar_button_onclick = function(name) {\n",
       "    if (name == 'download') {\n",
       "        this.handle_save(this, null);\n",
       "    } else {\n",
       "        this.send_message(\"toolbar_button\", {name: name});\n",
       "    }\n",
       "};\n",
       "\n",
       "mpl.figure.prototype.toolbar_button_onmouseover = function(tooltip) {\n",
       "    this.message.textContent = tooltip;\n",
       "};\n",
       "mpl.toolbar_items = [[\"Home\", \"Reset original view\", \"fa fa-home icon-home\", \"home\"], [\"Back\", \"Back to previous view\", \"fa fa-arrow-left icon-arrow-left\", \"back\"], [\"Forward\", \"Forward to next view\", \"fa fa-arrow-right icon-arrow-right\", \"forward\"], [\"\", \"\", \"\", \"\"], [\"Pan\", \"Pan axes with left mouse, zoom with right\", \"fa fa-arrows icon-move\", \"pan\"], [\"Zoom\", \"Zoom to rectangle\", \"fa fa-square-o icon-check-empty\", \"zoom\"], [\"\", \"\", \"\", \"\"], [\"Download\", \"Download plot\", \"fa fa-floppy-o icon-save\", \"download\"]];\n",
       "\n",
       "mpl.extensions = [\"eps\", \"jpeg\", \"pdf\", \"png\", \"ps\", \"raw\", \"svg\", \"tif\"];\n",
       "\n",
       "mpl.default_extension = \"png\";var comm_websocket_adapter = function(comm) {\n",
       "    // Create a \"websocket\"-like object which calls the given IPython comm\n",
       "    // object with the appropriate methods. Currently this is a non binary\n",
       "    // socket, so there is still some room for performance tuning.\n",
       "    var ws = {};\n",
       "\n",
       "    ws.close = function() {\n",
       "        comm.close()\n",
       "    };\n",
       "    ws.send = function(m) {\n",
       "        //console.log('sending', m);\n",
       "        comm.send(m);\n",
       "    };\n",
       "    // Register the callback with on_msg.\n",
       "    comm.on_msg(function(msg) {\n",
       "        //console.log('receiving', msg['content']['data'], msg);\n",
       "        // Pass the mpl event to the overridden (by mpl) onmessage function.\n",
       "        ws.onmessage(msg['content']['data'])\n",
       "    });\n",
       "    return ws;\n",
       "}\n",
       "\n",
       "mpl.mpl_figure_comm = function(comm, msg) {\n",
       "    // This is the function which gets called when the mpl process\n",
       "    // starts-up an IPython Comm through the \"matplotlib\" channel.\n",
       "\n",
       "    var id = msg.content.data.id;\n",
       "    // Get hold of the div created by the display call when the Comm\n",
       "    // socket was opened in Python.\n",
       "    var element = $(\"#\" + id);\n",
       "    var ws_proxy = comm_websocket_adapter(comm)\n",
       "\n",
       "    function ondownload(figure, format) {\n",
       "        window.open(figure.imageObj.src);\n",
       "    }\n",
       "\n",
       "    var fig = new mpl.figure(id, ws_proxy,\n",
       "                           ondownload,\n",
       "                           element.get(0));\n",
       "\n",
       "    // Call onopen now - mpl needs it, as it is assuming we've passed it a real\n",
       "    // web socket which is closed, not our websocket->open comm proxy.\n",
       "    ws_proxy.onopen();\n",
       "\n",
       "    fig.parent_element = element.get(0);\n",
       "    fig.cell_info = mpl.find_output_cell(\"<div id='\" + id + \"'></div>\");\n",
       "    if (!fig.cell_info) {\n",
       "        console.error(\"Failed to find cell for figure\", id, fig);\n",
       "        return;\n",
       "    }\n",
       "\n",
       "    var output_index = fig.cell_info[2]\n",
       "    var cell = fig.cell_info[0];\n",
       "\n",
       "};\n",
       "\n",
       "mpl.figure.prototype.handle_close = function(fig, msg) {\n",
       "    var width = fig.canvas.width/mpl.ratio\n",
       "    fig.root.unbind('remove')\n",
       "\n",
       "    // Update the output cell to use the data from the current canvas.\n",
       "    fig.push_to_output();\n",
       "    var dataURL = fig.canvas.toDataURL();\n",
       "    // Re-enable the keyboard manager in IPython - without this line, in FF,\n",
       "    // the notebook keyboard shortcuts fail.\n",
       "    IPython.keyboard_manager.enable()\n",
       "    $(fig.parent_element).html('<img src=\"' + dataURL + '\" width=\"' + width + '\">');\n",
       "    fig.close_ws(fig, msg);\n",
       "}\n",
       "\n",
       "mpl.figure.prototype.close_ws = function(fig, msg){\n",
       "    fig.send_message('closing', msg);\n",
       "    // fig.ws.close()\n",
       "}\n",
       "\n",
       "mpl.figure.prototype.push_to_output = function(remove_interactive) {\n",
       "    // Turn the data on the canvas into data in the output cell.\n",
       "    var width = this.canvas.width/mpl.ratio\n",
       "    var dataURL = this.canvas.toDataURL();\n",
       "    this.cell_info[1]['text/html'] = '<img src=\"' + dataURL + '\" width=\"' + width + '\">';\n",
       "}\n",
       "\n",
       "mpl.figure.prototype.updated_canvas_event = function() {\n",
       "    // Tell IPython that the notebook contents must change.\n",
       "    IPython.notebook.set_dirty(true);\n",
       "    this.send_message(\"ack\", {});\n",
       "    var fig = this;\n",
       "    // Wait a second, then push the new image to the DOM so\n",
       "    // that it is saved nicely (might be nice to debounce this).\n",
       "    setTimeout(function () { fig.push_to_output() }, 1000);\n",
       "}\n",
       "\n",
       "mpl.figure.prototype._init_toolbar = function() {\n",
       "    var fig = this;\n",
       "\n",
       "    var nav_element = $('<div/>')\n",
       "    nav_element.attr('style', 'width: 100%');\n",
       "    this.root.append(nav_element);\n",
       "\n",
       "    // Define a callback function for later on.\n",
       "    function toolbar_event(event) {\n",
       "        return fig.toolbar_button_onclick(event['data']);\n",
       "    }\n",
       "    function toolbar_mouse_event(event) {\n",
       "        return fig.toolbar_button_onmouseover(event['data']);\n",
       "    }\n",
       "\n",
       "    for(var toolbar_ind in mpl.toolbar_items){\n",
       "        var name = mpl.toolbar_items[toolbar_ind][0];\n",
       "        var tooltip = mpl.toolbar_items[toolbar_ind][1];\n",
       "        var image = mpl.toolbar_items[toolbar_ind][2];\n",
       "        var method_name = mpl.toolbar_items[toolbar_ind][3];\n",
       "\n",
       "        if (!name) { continue; };\n",
       "\n",
       "        var button = $('<button class=\"btn btn-default\" href=\"#\" title=\"' + name + '\"><i class=\"fa ' + image + ' fa-lg\"></i></button>');\n",
       "        button.click(method_name, toolbar_event);\n",
       "        button.mouseover(tooltip, toolbar_mouse_event);\n",
       "        nav_element.append(button);\n",
       "    }\n",
       "\n",
       "    // Add the status bar.\n",
       "    var status_bar = $('<span class=\"mpl-message\" style=\"text-align:right; float: right;\"/>');\n",
       "    nav_element.append(status_bar);\n",
       "    this.message = status_bar[0];\n",
       "\n",
       "    // Add the close button to the window.\n",
       "    var buttongrp = $('<div class=\"btn-group inline pull-right\"></div>');\n",
       "    var button = $('<button class=\"btn btn-mini btn-primary\" href=\"#\" title=\"Stop Interaction\"><i class=\"fa fa-power-off icon-remove icon-large\"></i></button>');\n",
       "    button.click(function (evt) { fig.handle_close(fig, {}); } );\n",
       "    button.mouseover('Stop Interaction', toolbar_mouse_event);\n",
       "    buttongrp.append(button);\n",
       "    var titlebar = this.root.find($('.ui-dialog-titlebar'));\n",
       "    titlebar.prepend(buttongrp);\n",
       "}\n",
       "\n",
       "mpl.figure.prototype._root_extra_style = function(el){\n",
       "    var fig = this\n",
       "    el.on(\"remove\", function(){\n",
       "\tfig.close_ws(fig, {});\n",
       "    });\n",
       "}\n",
       "\n",
       "mpl.figure.prototype._canvas_extra_style = function(el){\n",
       "    // this is important to make the div 'focusable\n",
       "    el.attr('tabindex', 0)\n",
       "    // reach out to IPython and tell the keyboard manager to turn it's self\n",
       "    // off when our div gets focus\n",
       "\n",
       "    // location in version 3\n",
       "    if (IPython.notebook.keyboard_manager) {\n",
       "        IPython.notebook.keyboard_manager.register_events(el);\n",
       "    }\n",
       "    else {\n",
       "        // location in version 2\n",
       "        IPython.keyboard_manager.register_events(el);\n",
       "    }\n",
       "\n",
       "}\n",
       "\n",
       "mpl.figure.prototype._key_event_extra = function(event, name) {\n",
       "    var manager = IPython.notebook.keyboard_manager;\n",
       "    if (!manager)\n",
       "        manager = IPython.keyboard_manager;\n",
       "\n",
       "    // Check for shift+enter\n",
       "    if (event.shiftKey && event.which == 13) {\n",
       "        this.canvas_div.blur();\n",
       "        event.shiftKey = false;\n",
       "        // Send a \"J\" for go to next cell\n",
       "        event.which = 74;\n",
       "        event.keyCode = 74;\n",
       "        manager.command_mode();\n",
       "        manager.handle_keydown(event);\n",
       "    }\n",
       "}\n",
       "\n",
       "mpl.figure.prototype.handle_save = function(fig, msg) {\n",
       "    fig.ondownload(fig, null);\n",
       "}\n",
       "\n",
       "\n",
       "mpl.find_output_cell = function(html_output) {\n",
       "    // Return the cell and output element which can be found *uniquely* in the notebook.\n",
       "    // Note - this is a bit hacky, but it is done because the \"notebook_saving.Notebook\"\n",
       "    // IPython event is triggered only after the cells have been serialised, which for\n",
       "    // our purposes (turning an active figure into a static one), is too late.\n",
       "    var cells = IPython.notebook.get_cells();\n",
       "    var ncells = cells.length;\n",
       "    for (var i=0; i<ncells; i++) {\n",
       "        var cell = cells[i];\n",
       "        if (cell.cell_type === 'code'){\n",
       "            for (var j=0; j<cell.output_area.outputs.length; j++) {\n",
       "                var data = cell.output_area.outputs[j];\n",
       "                if (data.data) {\n",
       "                    // IPython >= 3 moved mimebundle to data attribute of output\n",
       "                    data = data.data;\n",
       "                }\n",
       "                if (data['text/html'] == html_output) {\n",
       "                    return [cell, data, j];\n",
       "                }\n",
       "            }\n",
       "        }\n",
       "    }\n",
       "}\n",
       "\n",
       "// Register the function which deals with the matplotlib target/channel.\n",
       "// The kernel may be null if the page has been refreshed.\n",
       "if (IPython.notebook.kernel != null) {\n",
       "    IPython.notebook.kernel.comm_manager.register_target('matplotlib', mpl.mpl_figure_comm);\n",
       "}\n"
      ],
      "text/plain": [
       "<IPython.core.display.Javascript object>"
      ]
     },
     "metadata": {},
     "output_type": "display_data"
    },
    {
     "data": {
      "text/html": [
       "<img src=\"data:image/png;base64,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\" width=\"480\">"
      ],
      "text/plain": [
       "<IPython.core.display.HTML object>"
      ]
     },
     "metadata": {},
     "output_type": "display_data"
    }
   ],
   "source": [
    "p = np.linspace(0.01, 0.99, num=100)\n",
    "H = -p*np.log2(p) - (1-p)*np.log2(1-p)\n",
    "fig, ax = plt.subplots(1, figsize=(6, 4), sharex=True)\n",
    "ax.set_xlabel('p')\n",
    "ax.plot(p, -np.log2(p), label='I(o)', lw=3)\n",
    "ax.plot(p, -np.log2(1-p), label='I(x)', lw=3)\n",
    "ax.plot(p, H, label='H(X)', lw=3)\n",
    "ax.set_ylim([0, 3])\n",
    "plt.legend();"
   ]
  },
  {
   "cell_type": "markdown",
   "metadata": {
    "slideshow": {
     "slide_type": "subslide"
    }
   },
   "source": [
    "### Ejemplo: Meteorólogos del siglo XIX\n",
    "\n",
    "- Nos encontramos a finales del siglo XIX\n",
    "- La estación meteorológica de Niebla hace una predicción del tiempo en Valdivia\n",
    "- Esta información se envía a Valdivia a través de telegrafo\n",
    "- Calcule la cantidad de información promedio que envía la estación a Valdivia en cada escenario usando la **entropía de Shannon**\n",
    "\n",
    "**Escenario 1:** Dos posibilidades: Lluvia y nublado, con probabilidad $1/2$ y $1/2$, respectivamente\n",
    "\n",
    "**Escenario 2:** Una posibilidad: Lluvia, con probabilidad $1$\n",
    "\n",
    "**Escenario 3:** Cuatro posibilidades: Lluvia, Nublado, Nubosidad parcial, soleado, con probabilidad $1/2$, $1/4$, $1/8$ y $1/8$, respectivamente\n",
    "\n",
    "1. Las probabilidades de cada mensaje son $2^{-1}$, $2^{-2}$, $2^{-3}$ y $2^{-3}$\n",
    "1. La cantidad de información de cada mensaje es: 1, 2, 3 y 3 bits, respectivamente\n",
    "1. La entropía es $1/2 + 1/2 + 3/8 + 3/8 = 1.75$ bits\n",
    "\n",
    "Para el **escenario 3** códifique las alternativas usando un alfabeto de códigos binarios\n",
    "\n",
    "¿Cómo le asignamos un código a cada alternativa?"
   ]
  },
  {
   "cell_type": "markdown",
   "metadata": {
    "slideshow": {
     "slide_type": "subslide"
    }
   },
   "source": [
    "### Código de ancho fijo\n",
    "\n",
    "- Tenemos cuatro estados, necesitamos 2 bits\n",
    "- Cada estado: 00, 01, 10, 11\n",
    "- En este caso resulta equivalente a asumir equiprobabilidad \n",
    "- La entropía es 2 bits\n",
    "\n",
    "### Código de ancho variable (prefijo)\n",
    "\n",
    "- Se usa 1, 2, 3 y 3 bits para cada estado, según su probabilidad de aparición\n",
    "- La entropía es 1.75 bits\n",
    "- Podemos describir este escenario según\n",
    "    - Primera decisión equiprobable: Lluvia **(0)** vs El resto (1)\n",
    "    - Segunda decisión equiprobable: Nublado **(10)** vs El resto menos lluvia (11)\n",
    "    - Tercera decisión equiprobable: Nubosidad parcial **(110)** vs soleado **(111)**\n",
    "- Podemos escribir esto como un dendograma\n",
    "\n",
    "<center><img src=\"images/dendogram.png\" width=\"600\"></center>\n",
    "\n",
    "- Algoritmo de codificación con forma de árbol en base 2\n",
    "- Los mensajes codificados están en las hojas del árbol\n",
    "- **Código préfijo**: Ningún código puede ser prefijo de otro. \n",
    "- El código prefijo garantiza decodificación sin ambiguedad\n",
    "\n",
    "\n",
    "**Ejercicio**\n",
    "\n",
    "Decodifique la predicción del tiempo para los próximos tres días: 101100 \n",
    "\n",
    "**Ejemplo de código ambiguo** \n",
    "\n",
    "Si el código de lluvia fuera **1** en lugar de 0, decodifique el siguiente mensaje: 11111"
   ]
  },
  {
   "cell_type": "markdown",
   "metadata": {
    "slideshow": {
     "slide_type": "subslide"
    }
   },
   "source": [
    "### Ejemplo: Entropía y cantidad de bits del fragmento del famoso texto\n"
   ]
  },
  {
   "cell_type": "code",
   "execution_count": null,
   "metadata": {
    "slideshow": {
     "slide_type": "fragment"
    }
   },
   "outputs": [],
   "source": [
    "# Código de largo fijo:\n",
    "print(5*len(texto))\n",
    "# Código de largo variable:\n",
    "freq = np.array(list(Counter(texto).values()))\n",
    "p = freq/np.sum(freq)\n",
    "print(int(-np.sum(p*np.log2(p))*len(texto)))"
   ]
  },
  {
   "cell_type": "markdown",
   "metadata": {
    "slideshow": {
     "slide_type": "fragment"
    }
   },
   "source": [
    "**Reflexionemos:** \n",
    "- ¿Es la codificación de largo variable *lossless* o *lossy*?\n",
    "- En ciertos casos las palabras son más largas de lo que eran originalmente, ¿Cómo comprimimos entonces?"
   ]
  },
  {
   "cell_type": "markdown",
   "metadata": {
    "slideshow": {
     "slide_type": "subslide"
    }
   },
   "source": [
    "## Codificación de Huffman\n",
    "\n",
    "Un algoritmo sencillo de codificación de tipo prefijo:\n",
    "\n",
    "1. Se estima la probabilidad $p_i$ de cada símbolo\n",
    "1. Se ordenan los símbolos en orden descendente según $p_i$\n",
    "1. Juntar los dos con probabilidad menor en un grupo, su probabilidad se suma\n",
    "1. Volver al paso 2 hasta que queden dos grupos\n",
    "1. Asignarle 0 y 1 a las ramas izquierda y derecha del árbol, respectivamente\n",
    "1. El código resultante se lee desde la raiz hasta la hoja\n",
    "\n",
    "<center><a href=\"http://www.skylondaworks.com/sc_huff.htm\"><img src=\"images/huff.gif\" width=\"600\"></a></center>\n",
    "\n",
    "\n",
    "**Debilidad de Huffman:** \n",
    "- Códigos con diccionarios/probabilidades variables\n",
    "- En ese caso combiene usar codificación aritmética o Lempel-Ziv\n",
    "\n"
   ]
  },
  {
   "cell_type": "markdown",
   "metadata": {},
   "source": [
    "***\n",
    "Hasta aquí nomas\n",
    "\n",
    "Actualizar de aquí para abajo:"
   ]
  },
  {
   "cell_type": "markdown",
   "metadata": {
    "slideshow": {
     "slide_type": "subslide"
    }
   },
   "source": [
    "## Teorema de codificación de fuente (source coding theorem)\n",
    "\n",
    "El largo de palabra promedio $\\widehat L$ de un algoritmo de codificación binario prefijo satisface\n",
    "$$\n",
    "H(X) \\leq \\widehat L \\leq H(X) + 1\n",
    "$$\n",
    "Este teorema justifica la definición de entropía como meduda de la cantidad de información/incerteza"
   ]
  },
  {
   "cell_type": "markdown",
   "metadata": {
    "slideshow": {
     "slide_type": "subslide"
    }
   },
   "source": [
    "## Teorema de Shannon-Hartley\n",
    "\n",
    "- Sea un canal con ancho de banda B [Hz] (rango de frecuencias que un canal puede transmitir) y potencia de señal S [W] y potencia del ruido N [W] (aditivo blanco gaussiano), entonces su capacidad es\n",
    "$$\n",
    "C = B \\log_2 \\left(1 + \\frac{S}{N} \\right) \\text{[bits/s]}\n",
    "$$\n",
    "- Si la velocidad de transmisión de un canal es R [bits/s] y R < C entonces la probabilidad de errores de comunicación tiende a cero.\n",
    "- Las limitaciones de un sistema de comunicación son **Ancho de banda** y el ruido **Ruido**"
   ]
  },
  {
   "cell_type": "markdown",
   "metadata": {
    "slideshow": {
     "slide_type": "subslide"
    }
   },
   "source": [
    "## H.264/MPEG-4\n",
    "\n",
    "- Aplicación de la DCT para comprimir a través de varios frames"
   ]
  },
  {
   "cell_type": "code",
   "execution_count": null,
   "metadata": {},
   "outputs": [],
   "source": []
  }
 ],
 "metadata": {
  "kernelspec": {
   "display_name": "Python 3",
   "language": "python",
   "name": "python3"
  },
  "language_info": {
   "codemirror_mode": {
    "name": "ipython",
    "version": 3
   },
   "file_extension": ".py",
   "mimetype": "text/x-python",
   "name": "python",
   "nbconvert_exporter": "python",
   "pygments_lexer": "ipython3",
   "version": "3.7.2"
  }
 },
 "nbformat": 4,
 "nbformat_minor": 2
}
