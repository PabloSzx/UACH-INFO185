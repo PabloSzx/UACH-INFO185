{
 "cells": [
  {
   "cell_type": "markdown",
   "metadata": {},
   "source": [
    "http://blockdiag.com/en/blockdiag/introduction.html#usage"
   ]
  },
  {
   "cell_type": "code",
   "execution_count": 1,
   "metadata": {},
   "outputs": [],
   "source": [
    "from IPython.display import SVG"
   ]
  },
  {
   "cell_type": "code",
   "execution_count": 2,
   "metadata": {},
   "outputs": [
    {
     "name": "stdout",
     "output_type": "stream",
     "text": [
      "Overwriting images/information2.diag\n"
     ]
    }
   ],
   "source": [
    "%%file images/information2.diag\n",
    "blockdiag {\n",
    "    default_fontsize = 12; \n",
    "    Q1 [label=\"¿Es A?\"]\n",
    "    Q2 [label=\"¿Es B?\"]\n",
    "    Q3 [label=\"¿Es C?\"]\n",
    "    A [shape = circle];\n",
    "    B [shape = circle];    \n",
    "    C [shape = circle];\n",
    "    D [shape = circle];\n",
    "    \n",
    "    \n",
    "    Q1 -> A [label = \"S\", fontsize=16]\n",
    "    Q1 -> Q2 [label = \"N\", fontsize=16]\n",
    "    Q2 -> B [label = \"S\", fontsize=16]\n",
    "    Q2 -> Q3 [label = \"N\", fontsize=16]\n",
    "    Q3 -> C [label = \"S\", fontsize=16]\n",
    "    Q3 -> D [label = \"N\", fontsize=16]\n",
    "\n",
    "}"
   ]
  },
  {
   "cell_type": "code",
   "execution_count": 3,
   "metadata": {},
   "outputs": [
    {
     "name": "stderr",
     "output_type": "stream",
     "text": [
      "'~' is not recognized as an internal or external command,\n",
      "operable program or batch file.\n"
     ]
    },
    {
     "data": {
      "image/svg+xml": [
       "<svg viewBox=\"0 0 832 200\" xmlns=\"http://www.w3.org/2000/svg\" xmlns:inkspace=\"http://www.inkscape.org/namespaces/inkscape\" xmlns:xlink=\"http://www.w3.org/1999/xlink\">\n",
       "  <defs id=\"defs_block\">\n",
       "    <filter height=\"1.504\" id=\"filter_blur\" inkspace:collect=\"always\" width=\"1.1575\" x=\"-0.07875\" y=\"-0.252\">\n",
       "      <feGaussianBlur id=\"feGaussianBlur3780\" inkspace:collect=\"always\" stdDeviation=\"4.2\"/>\n",
       "    </filter>\n",
       "  </defs>\n",
       "  <title>blockdiag</title>\n",
       "  <desc>blockdiag {\n",
       "    default_fontsize = 12; \n",
       "    Q1 [label=&quot;¿Es A?&quot;]\n",
       "    Q2 [label=&quot;¿Es B?&quot;]\n",
       "    Q3 [label=&quot;¿Es C?&quot;]\n",
       "    A [shape = circle];\n",
       "    B [shape = circle];    \n",
       "    C [shape = circle];\n",
       "    D [shape = circle];\n",
       "    \n",
       "    \n",
       "    Q1 -&gt; A [label = &quot;S&quot;, fontsize=16]\n",
       "    Q1 -&gt; Q2 [label = &quot;N&quot;, fontsize=16]\n",
       "    Q2 -&gt; B [label = &quot;S&quot;, fontsize=16]\n",
       "    Q2 -&gt; Q3 [label = &quot;N&quot;, fontsize=16]\n",
       "    Q3 -&gt; C [label = &quot;S&quot;, fontsize=16]\n",
       "    Q3 -&gt; D [label = &quot;N&quot;, fontsize=16]\n",
       "\n",
       "}\n",
       "</desc>\n",
       "  <rect fill=\"rgb(0,0,0)\" height=\"40\" stroke=\"rgb(0,0,0)\" style=\"filter:url(#filter_blur);opacity:0.7;fill-opacity:1\" width=\"128\" x=\"67\" y=\"46\"/>\n",
       "  <rect fill=\"rgb(0,0,0)\" height=\"40\" stroke=\"rgb(0,0,0)\" style=\"filter:url(#filter_blur);opacity:0.7;fill-opacity:1\" width=\"128\" x=\"259\" y=\"46\"/>\n",
       "  <ellipse cx=\"323\" cy=\"146\" fill=\"rgb(0,0,0)\" rx=\"24.0\" ry=\"24.0\" stroke=\"rgb(0,0,0)\" style=\"filter:url(#filter_blur);opacity:0.7;fill-opacity:1\"/>\n",
       "  <rect fill=\"rgb(0,0,0)\" height=\"40\" stroke=\"rgb(0,0,0)\" style=\"filter:url(#filter_blur);opacity:0.7;fill-opacity:1\" width=\"128\" x=\"451\" y=\"46\"/>\n",
       "  <ellipse cx=\"515\" cy=\"146\" fill=\"rgb(0,0,0)\" rx=\"24.0\" ry=\"24.0\" stroke=\"rgb(0,0,0)\" style=\"filter:url(#filter_blur);opacity:0.7;fill-opacity:1\"/>\n",
       "  <ellipse cx=\"707\" cy=\"66\" fill=\"rgb(0,0,0)\" rx=\"24.0\" ry=\"24.0\" stroke=\"rgb(0,0,0)\" style=\"filter:url(#filter_blur);opacity:0.7;fill-opacity:1\"/>\n",
       "  <ellipse cx=\"707\" cy=\"146\" fill=\"rgb(0,0,0)\" rx=\"24.0\" ry=\"24.0\" stroke=\"rgb(0,0,0)\" style=\"filter:url(#filter_blur);opacity:0.7;fill-opacity:1\"/>\n",
       "  <rect fill=\"rgb(255,255,255)\" height=\"40\" stroke=\"rgb(0,0,0)\" width=\"128\" x=\"64\" y=\"40\"/>\n",
       "  <text fill=\"rgb(0,0,0)\" font-family=\"sans-serif\" font-size=\"12\" font-style=\"normal\" font-weight=\"normal\" text-anchor=\"middle\" textLength=\"39\" x=\"128.5\" y=\"66\">¿Es A?</text>\n",
       "  <rect fill=\"rgb(255,255,255)\" height=\"40\" stroke=\"rgb(0,0,0)\" width=\"128\" x=\"256\" y=\"40\"/>\n",
       "  <text fill=\"rgb(0,0,0)\" font-family=\"sans-serif\" font-size=\"12\" font-style=\"normal\" font-weight=\"normal\" text-anchor=\"middle\" textLength=\"39\" x=\"320.5\" y=\"66\">¿Es B?</text>\n",
       "  <ellipse cx=\"320\" cy=\"140\" fill=\"rgb(255,255,255)\" rx=\"24.0\" ry=\"24.0\" stroke=\"rgb(0,0,0)\"/>\n",
       "  <text fill=\"rgb(0,0,0)\" font-family=\"sans-serif\" font-size=\"12\" font-style=\"normal\" font-weight=\"normal\" text-anchor=\"middle\" textLength=\"6\" x=\"320.0\" y=\"146\">A</text>\n",
       "  <rect fill=\"rgb(255,255,255)\" height=\"40\" stroke=\"rgb(0,0,0)\" width=\"128\" x=\"448\" y=\"40\"/>\n",
       "  <text fill=\"rgb(0,0,0)\" font-family=\"sans-serif\" font-size=\"12\" font-style=\"normal\" font-weight=\"normal\" text-anchor=\"middle\" textLength=\"39\" x=\"512.5\" y=\"66\">¿Es C?</text>\n",
       "  <ellipse cx=\"512\" cy=\"140\" fill=\"rgb(255,255,255)\" rx=\"24.0\" ry=\"24.0\" stroke=\"rgb(0,0,0)\"/>\n",
       "  <text fill=\"rgb(0,0,0)\" font-family=\"sans-serif\" font-size=\"12\" font-style=\"normal\" font-weight=\"normal\" text-anchor=\"middle\" textLength=\"6\" x=\"512.0\" y=\"146\">B</text>\n",
       "  <ellipse cx=\"704\" cy=\"60\" fill=\"rgb(255,255,255)\" rx=\"24.0\" ry=\"24.0\" stroke=\"rgb(0,0,0)\"/>\n",
       "  <text fill=\"rgb(0,0,0)\" font-family=\"sans-serif\" font-size=\"12\" font-style=\"normal\" font-weight=\"normal\" text-anchor=\"middle\" textLength=\"6\" x=\"704.0\" y=\"66\">C</text>\n",
       "  <ellipse cx=\"704\" cy=\"140\" fill=\"rgb(255,255,255)\" rx=\"24.0\" ry=\"24.0\" stroke=\"rgb(0,0,0)\"/>\n",
       "  <text fill=\"rgb(0,0,0)\" font-family=\"sans-serif\" font-size=\"12\" font-style=\"normal\" font-weight=\"normal\" text-anchor=\"middle\" textLength=\"6\" x=\"704.0\" y=\"146\">D</text>\n",
       "  <path d=\"M 192 60 L 224 60\" fill=\"none\" stroke=\"rgb(0,0,0)\"/>\n",
       "  <path d=\"M 224 60 L 224 140\" fill=\"none\" stroke=\"rgb(0,0,0)\"/>\n",
       "  <path d=\"M 224 140 L 288 140\" fill=\"none\" stroke=\"rgb(0,0,0)\"/>\n",
       "  <polygon fill=\"rgb(0,0,0)\" points=\"295,140 288,136 288,144 295,140\" stroke=\"rgb(0,0,0)\"/>\n",
       "  <path d=\"M 192 60 L 248 60\" fill=\"none\" stroke=\"rgb(0,0,0)\"/>\n",
       "  <polygon fill=\"rgb(0,0,0)\" points=\"255,60 248,56 248,64 255,60\" stroke=\"rgb(0,0,0)\"/>\n",
       "  <path d=\"M 384 60 L 416 60\" fill=\"none\" stroke=\"rgb(0,0,0)\"/>\n",
       "  <path d=\"M 416 60 L 416 140\" fill=\"none\" stroke=\"rgb(0,0,0)\"/>\n",
       "  <path d=\"M 416 140 L 480 140\" fill=\"none\" stroke=\"rgb(0,0,0)\"/>\n",
       "  <polygon fill=\"rgb(0,0,0)\" points=\"487,140 480,136 480,144 487,140\" stroke=\"rgb(0,0,0)\"/>\n",
       "  <path d=\"M 384 60 L 440 60\" fill=\"none\" stroke=\"rgb(0,0,0)\"/>\n",
       "  <polygon fill=\"rgb(0,0,0)\" points=\"447,60 440,56 440,64 447,60\" stroke=\"rgb(0,0,0)\"/>\n",
       "  <path d=\"M 576 60 L 672 60\" fill=\"none\" stroke=\"rgb(0,0,0)\"/>\n",
       "  <polygon fill=\"rgb(0,0,0)\" points=\"679,60 672,56 672,64 679,60\" stroke=\"rgb(0,0,0)\"/>\n",
       "  <path d=\"M 576 60 L 608 60\" fill=\"none\" stroke=\"rgb(0,0,0)\"/>\n",
       "  <path d=\"M 608 60 L 608 140\" fill=\"none\" stroke=\"rgb(0,0,0)\"/>\n",
       "  <path d=\"M 608 140 L 672 140\" fill=\"none\" stroke=\"rgb(0,0,0)\"/>\n",
       "  <polygon fill=\"rgb(0,0,0)\" points=\"679,140 672,136 672,144 679,140\" stroke=\"rgb(0,0,0)\"/>\n",
       "  <rect fill=\"white\" height=\"20\" stroke=\"rgb(0,0,0)\" width=\"24\" x=\"212\" y=\"115\"/>\n",
       "  <text fill=\"rgb(0,0,0)\" font-family=\"sans-serif\" font-size=\"16\" font-style=\"normal\" font-weight=\"normal\" text-anchor=\"middle\" textLength=\"8\" x=\"224.0\" y=\"133\">S</text>\n",
       "  <rect fill=\"white\" height=\"20\" stroke=\"rgb(0,0,0)\" width=\"24\" x=\"212\" y=\"35\"/>\n",
       "  <text fill=\"rgb(0,0,0)\" font-family=\"sans-serif\" font-size=\"16\" font-style=\"normal\" font-weight=\"normal\" text-anchor=\"middle\" textLength=\"8\" x=\"224.0\" y=\"53\">N</text>\n",
       "  <rect fill=\"white\" height=\"20\" stroke=\"rgb(0,0,0)\" width=\"24\" x=\"404\" y=\"115\"/>\n",
       "  <text fill=\"rgb(0,0,0)\" font-family=\"sans-serif\" font-size=\"16\" font-style=\"normal\" font-weight=\"normal\" text-anchor=\"middle\" textLength=\"8\" x=\"416.0\" y=\"133\">S</text>\n",
       "  <rect fill=\"white\" height=\"20\" stroke=\"rgb(0,0,0)\" width=\"24\" x=\"404\" y=\"35\"/>\n",
       "  <text fill=\"rgb(0,0,0)\" font-family=\"sans-serif\" font-size=\"16\" font-style=\"normal\" font-weight=\"normal\" text-anchor=\"middle\" textLength=\"8\" x=\"416.0\" y=\"53\">N</text>\n",
       "  <rect fill=\"white\" height=\"20\" stroke=\"rgb(0,0,0)\" width=\"24\" x=\"596\" y=\"35\"/>\n",
       "  <text fill=\"rgb(0,0,0)\" font-family=\"sans-serif\" font-size=\"16\" font-style=\"normal\" font-weight=\"normal\" text-anchor=\"middle\" textLength=\"8\" x=\"608.0\" y=\"53\">S</text>\n",
       "  <rect fill=\"white\" height=\"20\" stroke=\"rgb(0,0,0)\" width=\"24\" x=\"596\" y=\"115\"/>\n",
       "  <text fill=\"rgb(0,0,0)\" font-family=\"sans-serif\" font-size=\"16\" font-style=\"normal\" font-weight=\"normal\" text-anchor=\"middle\" textLength=\"8\" x=\"608.0\" y=\"133\">N</text>\n",
       "</svg>"
      ],
      "text/plain": [
       "<IPython.core.display.SVG object>"
      ]
     },
     "execution_count": 3,
     "metadata": {},
     "output_type": "execute_result"
    }
   ],
   "source": [
    "!~/.local/bin/blockdiag -Tsvg images/information2.diag\n",
    "SVG(\"images/information2.svg\")"
   ]
  },
  {
   "cell_type": "code",
   "execution_count": 4,
   "metadata": {},
   "outputs": [
    {
     "name": "stdout",
     "output_type": "stream",
     "text": [
      "Overwriting images/information1.diag\n"
     ]
    }
   ],
   "source": [
    "%%file images/information1.diag\n",
    "blockdiag {\n",
    "    default_fontsize = 12; \n",
    "    Q1 [label=\"¿Es A o B?\"]\n",
    "    Q21 [label=\"¿Es A?\"]\n",
    "    Q22 [label=\"¿Es C?\"]\n",
    "    A [shape = circle];\n",
    "    B [shape = circle];    \n",
    "    C [shape = circle];\n",
    "    D [shape = circle];\n",
    "    \n",
    "    \n",
    "    Q1 -> Q21 [label = \"S\", fontsize=16]\n",
    "    Q1 -> Q22 [label = \"N\", fontsize=16]\n",
    "    Q21 -> A [label = \"S\", fontsize=16]\n",
    "    Q21 -> B [label = \"N\", fontsize=16]\n",
    "    Q22 -> C [label = \"S\", fontsize=16]\n",
    "    Q22 -> D [label = \"N\", fontsize=16]\n",
    "\n",
    "}"
   ]
  },
  {
   "cell_type": "code",
   "execution_count": 5,
   "metadata": {},
   "outputs": [
    {
     "name": "stderr",
     "output_type": "stream",
     "text": [
      "'~' is not recognized as an internal or external command,\n",
      "operable program or batch file.\n"
     ]
    },
    {
     "data": {
      "image/svg+xml": [
       "<svg viewBox=\"0 0 640 360\" xmlns=\"http://www.w3.org/2000/svg\" xmlns:inkspace=\"http://www.inkscape.org/namespaces/inkscape\" xmlns:xlink=\"http://www.w3.org/1999/xlink\">\n",
       "  <defs id=\"defs_block\">\n",
       "    <filter height=\"1.504\" id=\"filter_blur\" inkspace:collect=\"always\" width=\"1.1575\" x=\"-0.07875\" y=\"-0.252\">\n",
       "      <feGaussianBlur id=\"feGaussianBlur3780\" inkspace:collect=\"always\" stdDeviation=\"4.2\"/>\n",
       "    </filter>\n",
       "  </defs>\n",
       "  <title>blockdiag</title>\n",
       "  <desc>blockdiag {\n",
       "    default_fontsize = 12; \n",
       "    Q1 [label=&quot;¿Es A o B?&quot;]\n",
       "    Q21 [label=&quot;¿Es A?&quot;]\n",
       "    Q22 [label=&quot;¿Es C?&quot;]\n",
       "    A [shape = circle];\n",
       "    B [shape = circle];    \n",
       "    C [shape = circle];\n",
       "    D [shape = circle];\n",
       "    \n",
       "    \n",
       "    Q1 -&gt; Q21 [label = &quot;S&quot;, fontsize=16]\n",
       "    Q1 -&gt; Q22 [label = &quot;N&quot;, fontsize=16]\n",
       "    Q21 -&gt; A [label = &quot;S&quot;, fontsize=16]\n",
       "    Q21 -&gt; B [label = &quot;N&quot;, fontsize=16]\n",
       "    Q22 -&gt; C [label = &quot;S&quot;, fontsize=16]\n",
       "    Q22 -&gt; D [label = &quot;N&quot;, fontsize=16]\n",
       "\n",
       "}\n",
       "</desc>\n",
       "  <rect fill=\"rgb(0,0,0)\" height=\"40\" stroke=\"rgb(0,0,0)\" style=\"filter:url(#filter_blur);opacity:0.7;fill-opacity:1\" width=\"128\" x=\"67\" y=\"46\"/>\n",
       "  <rect fill=\"rgb(0,0,0)\" height=\"40\" stroke=\"rgb(0,0,0)\" style=\"filter:url(#filter_blur);opacity:0.7;fill-opacity:1\" width=\"128\" x=\"259\" y=\"46\"/>\n",
       "  <rect fill=\"rgb(0,0,0)\" height=\"40\" stroke=\"rgb(0,0,0)\" style=\"filter:url(#filter_blur);opacity:0.7;fill-opacity:1\" width=\"128\" x=\"259\" y=\"206\"/>\n",
       "  <ellipse cx=\"515\" cy=\"66\" fill=\"rgb(0,0,0)\" rx=\"24.0\" ry=\"24.0\" stroke=\"rgb(0,0,0)\" style=\"filter:url(#filter_blur);opacity:0.7;fill-opacity:1\"/>\n",
       "  <ellipse cx=\"515\" cy=\"146\" fill=\"rgb(0,0,0)\" rx=\"24.0\" ry=\"24.0\" stroke=\"rgb(0,0,0)\" style=\"filter:url(#filter_blur);opacity:0.7;fill-opacity:1\"/>\n",
       "  <ellipse cx=\"515\" cy=\"226\" fill=\"rgb(0,0,0)\" rx=\"24.0\" ry=\"24.0\" stroke=\"rgb(0,0,0)\" style=\"filter:url(#filter_blur);opacity:0.7;fill-opacity:1\"/>\n",
       "  <ellipse cx=\"515\" cy=\"306\" fill=\"rgb(0,0,0)\" rx=\"24.0\" ry=\"24.0\" stroke=\"rgb(0,0,0)\" style=\"filter:url(#filter_blur);opacity:0.7;fill-opacity:1\"/>\n",
       "  <rect fill=\"rgb(255,255,255)\" height=\"40\" stroke=\"rgb(0,0,0)\" width=\"128\" x=\"64\" y=\"40\"/>\n",
       "  <text fill=\"rgb(0,0,0)\" font-family=\"sans-serif\" font-size=\"12\" font-style=\"normal\" font-weight=\"normal\" text-anchor=\"middle\" textLength=\"65\" x=\"128.5\" y=\"66\">¿Es A o B?</text>\n",
       "  <rect fill=\"rgb(255,255,255)\" height=\"40\" stroke=\"rgb(0,0,0)\" width=\"128\" x=\"256\" y=\"40\"/>\n",
       "  <text fill=\"rgb(0,0,0)\" font-family=\"sans-serif\" font-size=\"12\" font-style=\"normal\" font-weight=\"normal\" text-anchor=\"middle\" textLength=\"39\" x=\"320.5\" y=\"66\">¿Es A?</text>\n",
       "  <rect fill=\"rgb(255,255,255)\" height=\"40\" stroke=\"rgb(0,0,0)\" width=\"128\" x=\"256\" y=\"200\"/>\n",
       "  <text fill=\"rgb(0,0,0)\" font-family=\"sans-serif\" font-size=\"12\" font-style=\"normal\" font-weight=\"normal\" text-anchor=\"middle\" textLength=\"39\" x=\"320.5\" y=\"226\">¿Es C?</text>\n",
       "  <ellipse cx=\"512\" cy=\"60\" fill=\"rgb(255,255,255)\" rx=\"24.0\" ry=\"24.0\" stroke=\"rgb(0,0,0)\"/>\n",
       "  <text fill=\"rgb(0,0,0)\" font-family=\"sans-serif\" font-size=\"12\" font-style=\"normal\" font-weight=\"normal\" text-anchor=\"middle\" textLength=\"6\" x=\"512.0\" y=\"66\">A</text>\n",
       "  <ellipse cx=\"512\" cy=\"140\" fill=\"rgb(255,255,255)\" rx=\"24.0\" ry=\"24.0\" stroke=\"rgb(0,0,0)\"/>\n",
       "  <text fill=\"rgb(0,0,0)\" font-family=\"sans-serif\" font-size=\"12\" font-style=\"normal\" font-weight=\"normal\" text-anchor=\"middle\" textLength=\"6\" x=\"512.0\" y=\"146\">B</text>\n",
       "  <ellipse cx=\"512\" cy=\"220\" fill=\"rgb(255,255,255)\" rx=\"24.0\" ry=\"24.0\" stroke=\"rgb(0,0,0)\"/>\n",
       "  <text fill=\"rgb(0,0,0)\" font-family=\"sans-serif\" font-size=\"12\" font-style=\"normal\" font-weight=\"normal\" text-anchor=\"middle\" textLength=\"6\" x=\"512.0\" y=\"226\">C</text>\n",
       "  <ellipse cx=\"512\" cy=\"300\" fill=\"rgb(255,255,255)\" rx=\"24.0\" ry=\"24.0\" stroke=\"rgb(0,0,0)\"/>\n",
       "  <text fill=\"rgb(0,0,0)\" font-family=\"sans-serif\" font-size=\"12\" font-style=\"normal\" font-weight=\"normal\" text-anchor=\"middle\" textLength=\"6\" x=\"512.0\" y=\"306\">D</text>\n",
       "  <path d=\"M 192 60 L 248 60\" fill=\"none\" stroke=\"rgb(0,0,0)\"/>\n",
       "  <polygon fill=\"rgb(0,0,0)\" points=\"255,60 248,56 248,64 255,60\" stroke=\"rgb(0,0,0)\"/>\n",
       "  <path d=\"M 192 60 L 224 60\" fill=\"none\" stroke=\"rgb(0,0,0)\"/>\n",
       "  <path d=\"M 224 60 L 224 220\" fill=\"none\" stroke=\"rgb(0,0,0)\"/>\n",
       "  <path d=\"M 224 220 L 248 220\" fill=\"none\" stroke=\"rgb(0,0,0)\"/>\n",
       "  <polygon fill=\"rgb(0,0,0)\" points=\"255,220 248,216 248,224 255,220\" stroke=\"rgb(0,0,0)\"/>\n",
       "  <path d=\"M 384 60 L 480 60\" fill=\"none\" stroke=\"rgb(0,0,0)\"/>\n",
       "  <polygon fill=\"rgb(0,0,0)\" points=\"487,60 480,56 480,64 487,60\" stroke=\"rgb(0,0,0)\"/>\n",
       "  <path d=\"M 384 60 L 416 60\" fill=\"none\" stroke=\"rgb(0,0,0)\"/>\n",
       "  <path d=\"M 416 60 L 416 140\" fill=\"none\" stroke=\"rgb(0,0,0)\"/>\n",
       "  <path d=\"M 416 140 L 480 140\" fill=\"none\" stroke=\"rgb(0,0,0)\"/>\n",
       "  <polygon fill=\"rgb(0,0,0)\" points=\"487,140 480,136 480,144 487,140\" stroke=\"rgb(0,0,0)\"/>\n",
       "  <path d=\"M 384 220 L 480 220\" fill=\"none\" stroke=\"rgb(0,0,0)\"/>\n",
       "  <polygon fill=\"rgb(0,0,0)\" points=\"487,220 480,216 480,224 487,220\" stroke=\"rgb(0,0,0)\"/>\n",
       "  <path d=\"M 384 220 L 416 220\" fill=\"none\" stroke=\"rgb(0,0,0)\"/>\n",
       "  <path d=\"M 416 220 L 416 300\" fill=\"none\" stroke=\"rgb(0,0,0)\"/>\n",
       "  <path d=\"M 416 300 L 480 300\" fill=\"none\" stroke=\"rgb(0,0,0)\"/>\n",
       "  <polygon fill=\"rgb(0,0,0)\" points=\"487,300 480,296 480,304 487,300\" stroke=\"rgb(0,0,0)\"/>\n",
       "  <rect fill=\"white\" height=\"20\" stroke=\"rgb(0,0,0)\" width=\"24\" x=\"212\" y=\"35\"/>\n",
       "  <text fill=\"rgb(0,0,0)\" font-family=\"sans-serif\" font-size=\"16\" font-style=\"normal\" font-weight=\"normal\" text-anchor=\"middle\" textLength=\"8\" x=\"224.0\" y=\"53\">S</text>\n",
       "  <rect fill=\"white\" height=\"20\" stroke=\"rgb(0,0,0)\" width=\"24\" x=\"212\" y=\"195\"/>\n",
       "  <text fill=\"rgb(0,0,0)\" font-family=\"sans-serif\" font-size=\"16\" font-style=\"normal\" font-weight=\"normal\" text-anchor=\"middle\" textLength=\"8\" x=\"224.0\" y=\"213\">N</text>\n",
       "  <rect fill=\"white\" height=\"20\" stroke=\"rgb(0,0,0)\" width=\"24\" x=\"404\" y=\"35\"/>\n",
       "  <text fill=\"rgb(0,0,0)\" font-family=\"sans-serif\" font-size=\"16\" font-style=\"normal\" font-weight=\"normal\" text-anchor=\"middle\" textLength=\"8\" x=\"416.0\" y=\"53\">S</text>\n",
       "  <rect fill=\"white\" height=\"20\" stroke=\"rgb(0,0,0)\" width=\"24\" x=\"404\" y=\"115\"/>\n",
       "  <text fill=\"rgb(0,0,0)\" font-family=\"sans-serif\" font-size=\"16\" font-style=\"normal\" font-weight=\"normal\" text-anchor=\"middle\" textLength=\"8\" x=\"416.0\" y=\"133\">N</text>\n",
       "  <rect fill=\"white\" height=\"20\" stroke=\"rgb(0,0,0)\" width=\"24\" x=\"404\" y=\"195\"/>\n",
       "  <text fill=\"rgb(0,0,0)\" font-family=\"sans-serif\" font-size=\"16\" font-style=\"normal\" font-weight=\"normal\" text-anchor=\"middle\" textLength=\"8\" x=\"416.0\" y=\"213\">S</text>\n",
       "  <rect fill=\"white\" height=\"20\" stroke=\"rgb(0,0,0)\" width=\"24\" x=\"404\" y=\"275\"/>\n",
       "  <text fill=\"rgb(0,0,0)\" font-family=\"sans-serif\" font-size=\"16\" font-style=\"normal\" font-weight=\"normal\" text-anchor=\"middle\" textLength=\"8\" x=\"416.0\" y=\"293\">N</text>\n",
       "</svg>"
      ],
      "text/plain": [
       "<IPython.core.display.SVG object>"
      ]
     },
     "execution_count": 5,
     "metadata": {},
     "output_type": "execute_result"
    }
   ],
   "source": [
    "!~/.local/bin/blockdiag -Tsvg images/information1.diag\n",
    "SVG(\"images/information1.svg\")"
   ]
  },
  {
   "cell_type": "code",
   "execution_count": 6,
   "metadata": {},
   "outputs": [
    {
     "name": "stdout",
     "output_type": "stream",
     "text": [
      "Overwriting images/shannon-diagram.diag\n"
     ]
    }
   ],
   "source": [
    "%%file images/shannon-diagram.diag\n",
    "blockdiag {\n",
    "    orientation = portrait\n",
    "    default_fontsize = 12; \n",
    "    A [label=\"Fuente\"]\n",
    "    B [label=\"Transmisor\"]\n",
    "    C [label=\"Canal\", color=lightblue]\n",
    "    D [label=\"Ruido\"]\n",
    "    E [label=\"Receptor\"]\n",
    "    F [label=\"Destino\"]\n",
    "    A -> B [label = \"mensaje\"]\n",
    "    B -> C [label = \"señal\"];\n",
    "    C -> E -> F\n",
    "    D -> C [style=dashed]\n",
    "\n",
    "}"
   ]
  },
  {
   "cell_type": "code",
   "execution_count": 7,
   "metadata": {},
   "outputs": [
    {
     "name": "stderr",
     "output_type": "stream",
     "text": [
      "'~' is not recognized as an internal or external command,\n",
      "operable program or batch file.\n"
     ]
    }
   ],
   "source": [
    "!~/.local/bin/blockdiag -Tsvg images/shannon-diagram.diag"
   ]
  },
  {
   "cell_type": "code",
   "execution_count": 8,
   "metadata": {},
   "outputs": [
    {
     "data": {
      "image/svg+xml": [
       "<svg viewBox=\"0 0 448 440\" xmlns=\"http://www.w3.org/2000/svg\" xmlns:inkspace=\"http://www.inkscape.org/namespaces/inkscape\" xmlns:xlink=\"http://www.w3.org/1999/xlink\">\n",
       "  <defs id=\"defs_block\">\n",
       "    <filter height=\"1.504\" id=\"filter_blur\" inkspace:collect=\"always\" width=\"1.1575\" x=\"-0.07875\" y=\"-0.252\">\n",
       "      <feGaussianBlur id=\"feGaussianBlur3780\" inkspace:collect=\"always\" stdDeviation=\"4.2\"/>\n",
       "    </filter>\n",
       "  </defs>\n",
       "  <title>blockdiag</title>\n",
       "  <desc>blockdiag {\n",
       "    orientation = portrait\n",
       "    default_fontsize = 12; \n",
       "    A [label=&quot;Fuente&quot;]\n",
       "    B [label=&quot;Transmisor&quot;]\n",
       "    C [label=&quot;Canal&quot;, color=lightblue]\n",
       "    D [label=&quot;Ruido&quot;]\n",
       "    E [label=&quot;Receptor&quot;]\n",
       "    F [label=&quot;Destino&quot;]\n",
       "    A -&gt; B [label = &quot;mensaje&quot;]\n",
       "    B -&gt; C [label = &quot;señal&quot;];\n",
       "    C -&gt; E -&gt; F\n",
       "    D -&gt; C [style=dashed]\n",
       "\n",
       "}\n",
       "</desc>\n",
       "  <rect fill=\"rgb(0,0,0)\" height=\"40\" stroke=\"rgb(0,0,0)\" style=\"filter:url(#filter_blur);opacity:0.7;fill-opacity:1\" width=\"128\" x=\"67\" y=\"46\"/>\n",
       "  <rect fill=\"rgb(0,0,0)\" height=\"40\" stroke=\"rgb(0,0,0)\" style=\"filter:url(#filter_blur);opacity:0.7;fill-opacity:1\" width=\"128\" x=\"67\" y=\"126\"/>\n",
       "  <rect fill=\"rgb(0,0,0)\" height=\"40\" stroke=\"rgb(0,0,0)\" style=\"filter:url(#filter_blur);opacity:0.7;fill-opacity:1\" width=\"128\" x=\"67\" y=\"206\"/>\n",
       "  <rect fill=\"rgb(0,0,0)\" height=\"40\" stroke=\"rgb(0,0,0)\" style=\"filter:url(#filter_blur);opacity:0.7;fill-opacity:1\" width=\"128\" x=\"259\" y=\"46\"/>\n",
       "  <rect fill=\"rgb(0,0,0)\" height=\"40\" stroke=\"rgb(0,0,0)\" style=\"filter:url(#filter_blur);opacity:0.7;fill-opacity:1\" width=\"128\" x=\"67\" y=\"286\"/>\n",
       "  <rect fill=\"rgb(0,0,0)\" height=\"40\" stroke=\"rgb(0,0,0)\" style=\"filter:url(#filter_blur);opacity:0.7;fill-opacity:1\" width=\"128\" x=\"67\" y=\"366\"/>\n",
       "  <rect fill=\"rgb(255,255,255)\" height=\"40\" stroke=\"rgb(0,0,0)\" width=\"128\" x=\"64\" y=\"40\"/>\n",
       "  <text fill=\"rgb(0,0,0)\" font-family=\"sans-serif\" font-size=\"12\" font-style=\"normal\" font-weight=\"normal\" text-anchor=\"middle\" textLength=\"39\" x=\"128.5\" y=\"66\">Fuente</text>\n",
       "  <rect fill=\"rgb(255,255,255)\" height=\"40\" stroke=\"rgb(0,0,0)\" width=\"128\" x=\"64\" y=\"120\"/>\n",
       "  <text fill=\"rgb(0,0,0)\" font-family=\"sans-serif\" font-size=\"12\" font-style=\"normal\" font-weight=\"normal\" text-anchor=\"middle\" textLength=\"65\" x=\"128.5\" y=\"146\">Transmisor</text>\n",
       "  <rect fill=\"rgb(173,216,230)\" height=\"40\" stroke=\"rgb(0,0,0)\" width=\"128\" x=\"64\" y=\"200\"/>\n",
       "  <text fill=\"rgb(0,0,0)\" font-family=\"sans-serif\" font-size=\"12\" font-style=\"normal\" font-weight=\"normal\" text-anchor=\"middle\" textLength=\"32\" x=\"128.0\" y=\"226\">Canal</text>\n",
       "  <rect fill=\"rgb(255,255,255)\" height=\"40\" stroke=\"rgb(0,0,0)\" width=\"128\" x=\"256\" y=\"40\"/>\n",
       "  <text fill=\"rgb(0,0,0)\" font-family=\"sans-serif\" font-size=\"12\" font-style=\"normal\" font-weight=\"normal\" text-anchor=\"middle\" textLength=\"32\" x=\"320.0\" y=\"66\">Ruido</text>\n",
       "  <rect fill=\"rgb(255,255,255)\" height=\"40\" stroke=\"rgb(0,0,0)\" width=\"128\" x=\"64\" y=\"280\"/>\n",
       "  <text fill=\"rgb(0,0,0)\" font-family=\"sans-serif\" font-size=\"12\" font-style=\"normal\" font-weight=\"normal\" text-anchor=\"middle\" textLength=\"52\" x=\"128.0\" y=\"306\">Receptor</text>\n",
       "  <rect fill=\"rgb(255,255,255)\" height=\"40\" stroke=\"rgb(0,0,0)\" width=\"128\" x=\"64\" y=\"360\"/>\n",
       "  <text fill=\"rgb(0,0,0)\" font-family=\"sans-serif\" font-size=\"12\" font-style=\"normal\" font-weight=\"normal\" text-anchor=\"middle\" textLength=\"45\" x=\"128.5\" y=\"386\">Destino</text>\n",
       "  <path d=\"M 128 80 L 128 112\" fill=\"none\" stroke=\"rgb(0,0,0)\"/>\n",
       "  <polygon fill=\"rgb(0,0,0)\" points=\"128,119 124,112 132,112 128,119\" stroke=\"rgb(0,0,0)\"/>\n",
       "  <path d=\"M 128 160 L 128 192\" fill=\"none\" stroke=\"rgb(0,0,0)\"/>\n",
       "  <polygon fill=\"rgb(0,0,0)\" points=\"128,199 124,192 132,192 128,199\" stroke=\"rgb(0,0,0)\"/>\n",
       "  <path d=\"M 128 240 L 128 272\" fill=\"none\" stroke=\"rgb(0,0,0)\"/>\n",
       "  <polygon fill=\"rgb(0,0,0)\" points=\"128,279 124,272 132,272 128,279\" stroke=\"rgb(0,0,0)\"/>\n",
       "  <path d=\"M 320 80 L 320 180\" fill=\"none\" stroke=\"rgb(0,0,0)\" stroke-dasharray=\"4\"/>\n",
       "  <path d=\"M 128 180 L 320 180\" fill=\"none\" stroke=\"rgb(0,0,0)\" stroke-dasharray=\"4\"/>\n",
       "  <path d=\"M 128 180 L 128 192\" fill=\"none\" stroke=\"rgb(0,0,0)\" stroke-dasharray=\"4\"/>\n",
       "  <polygon fill=\"rgb(0,0,0)\" points=\"128,199 124,192 132,192 128,199\" stroke=\"rgb(0,0,0)\"/>\n",
       "  <path d=\"M 128 320 L 128 352\" fill=\"none\" stroke=\"rgb(0,0,0)\"/>\n",
       "  <polygon fill=\"rgb(0,0,0)\" points=\"128,359 124,352 132,352 128,359\" stroke=\"rgb(0,0,0)\"/>\n",
       "  <rect fill=\"white\" height=\"16\" stroke=\"rgb(0,0,0)\" width=\"61\" x=\"146\" y=\"102\"/>\n",
       "  <text fill=\"rgb(0,0,0)\" font-family=\"sans-serif\" font-size=\"12\" font-style=\"normal\" font-weight=\"normal\" text-anchor=\"middle\" textLength=\"45\" x=\"176.5\" y=\"116\">mensaje</text>\n",
       "  <rect fill=\"white\" height=\"16\" stroke=\"rgb(0,0,0)\" width=\"48\" x=\"152\" y=\"182\"/>\n",
       "  <text fill=\"rgb(0,0,0)\" font-family=\"sans-serif\" font-size=\"12\" font-style=\"normal\" font-weight=\"normal\" text-anchor=\"middle\" textLength=\"32\" x=\"176.0\" y=\"196\">señal</text>\n",
       "</svg>"
      ],
      "text/plain": [
       "<IPython.core.display.SVG object>"
      ]
     },
     "execution_count": 8,
     "metadata": {},
     "output_type": "execute_result"
    }
   ],
   "source": [
    "SVG(\"images/shannon-diagram.svg\")"
   ]
  },
  {
   "cell_type": "code",
   "execution_count": 9,
   "metadata": {},
   "outputs": [
    {
     "name": "stdout",
     "output_type": "stream",
     "text": [
      "Overwriting images/transmitter.diag\n"
     ]
    }
   ],
   "source": [
    "%%file images/transmitter.diag\n",
    "blockdiag {\n",
    "    node_width = 200;\n",
    "    default_fontsize = 14; \n",
    "    A [label=\"Transformación\"]\n",
    "    B [label=\"Cuantización\"]\n",
    "    C [label=\"Codificación de fuente\"]\n",
    "    D [label=\"Codificación de canal\"]\n",
    "\n",
    "    A -> B -> C -> D\n",
    "    B -> C [folded]\n",
    "\n",
    "}"
   ]
  },
  {
   "cell_type": "code",
   "execution_count": 10,
   "metadata": {},
   "outputs": [
    {
     "name": "stderr",
     "output_type": "stream",
     "text": [
      "'~' is not recognized as an internal or external command,\n",
      "operable program or batch file.\n"
     ]
    }
   ],
   "source": [
    "!~/.local/bin/blockdiag -Tsvg images/transmitter.diag"
   ]
  },
  {
   "cell_type": "code",
   "execution_count": 11,
   "metadata": {},
   "outputs": [
    {
     "data": {
      "image/svg+xml": [
       "<svg viewBox=\"0 0 592 200\" xmlns=\"http://www.w3.org/2000/svg\" xmlns:inkspace=\"http://www.inkscape.org/namespaces/inkscape\" xmlns:xlink=\"http://www.w3.org/1999/xlink\">\n",
       "  <defs id=\"defs_block\">\n",
       "    <filter height=\"1.504\" id=\"filter_blur\" inkspace:collect=\"always\" width=\"1.1575\" x=\"-0.07875\" y=\"-0.252\">\n",
       "      <feGaussianBlur id=\"feGaussianBlur3780\" inkspace:collect=\"always\" stdDeviation=\"4.2\"/>\n",
       "    </filter>\n",
       "  </defs>\n",
       "  <title>blockdiag</title>\n",
       "  <desc>blockdiag {\n",
       "    node_width = 200;\n",
       "    default_fontsize = 14; \n",
       "    A [label=&quot;Transformación&quot;]\n",
       "    B [label=&quot;Cuantización&quot;]\n",
       "    C [label=&quot;Codificación de fuente&quot;]\n",
       "    D [label=&quot;Codificación de canal&quot;]\n",
       "\n",
       "    A -&gt; B -&gt; C -&gt; D\n",
       "    B -&gt; C [folded]\n",
       "\n",
       "}\n",
       "</desc>\n",
       "  <rect fill=\"rgb(0,0,0)\" height=\"40\" stroke=\"rgb(0,0,0)\" style=\"filter:url(#filter_blur);opacity:0.7;fill-opacity:1\" width=\"200\" x=\"67\" y=\"46\"/>\n",
       "  <rect fill=\"rgb(0,0,0)\" height=\"40\" stroke=\"rgb(0,0,0)\" style=\"filter:url(#filter_blur);opacity:0.7;fill-opacity:1\" width=\"200\" x=\"331\" y=\"46\"/>\n",
       "  <rect fill=\"rgb(0,0,0)\" height=\"40\" stroke=\"rgb(0,0,0)\" style=\"filter:url(#filter_blur);opacity:0.7;fill-opacity:1\" width=\"200\" x=\"67\" y=\"126\"/>\n",
       "  <rect fill=\"rgb(0,0,0)\" height=\"40\" stroke=\"rgb(0,0,0)\" style=\"filter:url(#filter_blur);opacity:0.7;fill-opacity:1\" width=\"200\" x=\"331\" y=\"126\"/>\n",
       "  <rect fill=\"rgb(255,255,255)\" height=\"40\" stroke=\"rgb(0,0,0)\" width=\"200\" x=\"64\" y=\"40\"/>\n",
       "  <text fill=\"rgb(0,0,0)\" font-family=\"sans-serif\" font-size=\"14\" font-style=\"normal\" font-weight=\"normal\" text-anchor=\"middle\" textLength=\"106\" x=\"164.0\" y=\"67\">Transformación</text>\n",
       "  <rect fill=\"rgb(255,255,255)\" height=\"40\" stroke=\"rgb(0,0,0)\" width=\"200\" x=\"328\" y=\"40\"/>\n",
       "  <text fill=\"rgb(0,0,0)\" font-family=\"sans-serif\" font-size=\"14\" font-style=\"normal\" font-weight=\"normal\" text-anchor=\"middle\" textLength=\"91\" x=\"428.5\" y=\"67\">Cuantización</text>\n",
       "  <rect fill=\"rgb(255,255,255)\" height=\"40\" stroke=\"rgb(0,0,0)\" width=\"200\" x=\"64\" y=\"120\"/>\n",
       "  <text fill=\"rgb(0,0,0)\" font-family=\"sans-serif\" font-size=\"14\" font-style=\"normal\" font-weight=\"normal\" text-anchor=\"middle\" textLength=\"168\" x=\"164.0\" y=\"147\">Codificación de fuente</text>\n",
       "  <rect fill=\"rgb(255,255,255)\" height=\"40\" stroke=\"rgb(0,0,0)\" width=\"200\" x=\"328\" y=\"120\"/>\n",
       "  <text fill=\"rgb(0,0,0)\" font-family=\"sans-serif\" font-size=\"14\" font-style=\"normal\" font-weight=\"normal\" text-anchor=\"middle\" textLength=\"160\" x=\"428.0\" y=\"147\">Codificación de canal</text>\n",
       "  <path d=\"M 264 60 L 320 60\" fill=\"none\" stroke=\"rgb(0,0,0)\"/>\n",
       "  <polygon fill=\"rgb(0,0,0)\" points=\"327,60 320,56 320,64 327,60\" stroke=\"rgb(0,0,0)\"/>\n",
       "  <path d=\"M 428 80 L 428 100\" fill=\"none\" stroke=\"rgb(0,0,0)\"/>\n",
       "  <path d=\"M 164 100 L 428 100\" fill=\"none\" stroke=\"rgb(0,0,0)\"/>\n",
       "  <path d=\"M 164 100 L 164 112\" fill=\"none\" stroke=\"rgb(0,0,0)\"/>\n",
       "  <polygon fill=\"rgb(0,0,0)\" points=\"164,119 160,112 168,112 164,119\" stroke=\"rgb(0,0,0)\"/>\n",
       "  <path d=\"M 264 140 L 320 140\" fill=\"none\" stroke=\"rgb(0,0,0)\"/>\n",
       "  <polygon fill=\"rgb(0,0,0)\" points=\"327,140 320,136 320,144 327,140\" stroke=\"rgb(0,0,0)\"/>\n",
       "</svg>"
      ],
      "text/plain": [
       "<IPython.core.display.SVG object>"
      ]
     },
     "execution_count": 11,
     "metadata": {},
     "output_type": "execute_result"
    }
   ],
   "source": [
    "SVG(\"images/transmitter.svg\")"
   ]
  },
  {
   "cell_type": "code",
   "execution_count": null,
   "metadata": {},
   "outputs": [],
   "source": []
  }
 ],
 "metadata": {
  "kernelspec": {
   "display_name": "Python 3",
   "language": "python",
   "name": "python3"
  },
  "language_info": {
   "codemirror_mode": {
    "name": "ipython",
    "version": 3
   },
   "file_extension": ".py",
   "mimetype": "text/x-python",
   "name": "python",
   "nbconvert_exporter": "python",
   "pygments_lexer": "ipython3",
   "version": "3.7.2"
  }
 },
 "nbformat": 4,
 "nbformat_minor": 2
}
