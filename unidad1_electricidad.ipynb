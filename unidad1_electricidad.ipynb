{
 "cells": [
  {
   "cell_type": "code",
   "execution_count": 1,
   "metadata": {
    "slideshow": {
     "slide_type": "skip"
    }
   },
   "outputs": [
    {
     "data": {
      "text/html": [
       "<style>\n",
       ".rendered_html {\n",
       "    font-size:0.7em;\n",
       "}\n",
       "</style>"
      ],
      "text/plain": [
       "<IPython.core.display.HTML object>"
      ]
     },
     "metadata": {},
     "output_type": "display_data"
    }
   ],
   "source": [
    "%%HTML\n",
    "<style>\n",
    ".rendered_html {\n",
    "    font-size:0.7em;\n",
    "}\n",
    "</style>"
   ]
  },
  {
   "cell_type": "markdown",
   "metadata": {
    "slideshow": {
     "slide_type": "slide"
    }
   },
   "source": [
    "## INFO185 Comunicaciones\n",
    "\n",
    "# Unidad 1 - Electricidad\n",
    "\n",
    "Semestre Otoño 2018"
   ]
  },
  {
   "cell_type": "markdown",
   "metadata": {
    "slideshow": {
     "slide_type": "slide"
    }
   },
   "source": [
    "# Contenidos\n",
    "\n",
    "- Introducción\n",
    "- Voltaje y corriente\n",
    "- Generacion, corriente continua y corriente alterna\n",
    "- Resistencias y condensadores\n",
    "- Semiconductores\n",
    "- Transformador"
   ]
  },
  {
   "cell_type": "markdown",
   "metadata": {
    "slideshow": {
     "slide_type": "slide"
    }
   },
   "source": [
    "### Introducción\n",
    "\n",
    "- La electricidad es una fenómeno natural, *e.g* estática, rayos\n",
    "- En esta unidad nos concentraremos en el **flujo de corriente eléctrica**\n",
    "- La corriente eléctrica es un flujo de carga (electrones libres) entre átomos\n",
    "- Los átomos más propensos a soltar electrones son mejores conductores\n",
    "- Este movimiento de electrones es lo que hace funcionar nuestros dispositivos eléctricos\n",
    "\n",
    "\n",
    "\n",
    "| <img src=\"images/lightning.jpg\" width=\"300\">  | <img src=\"images/conductor.gif\" width=\"500\">   |\n",
    "|------|------|\n"
   ]
  },
  {
   "cell_type": "markdown",
   "metadata": {
    "slideshow": {
     "slide_type": "slide"
    }
   },
   "source": [
    "### Corriente y Voltaje\n",
    "\n",
    "- Corriente: Es el flujo constante de carga/electrones entre átomos. Se mide en **Amperes [A]**\n",
    "- Para que el flujo no se detenga necesitamos un camino en forma de bucle: **Circuito**\n",
    "- Campo eléctrico: Cargas de distinta polaridad se atraen; de igual polaridad se repelen (Ley de Coulomb)\n",
    "- Potencial eléctrico: Cantidad de energía en un campo eléctrico. La carga fluye desde zonas de alto a bajo potencial\n",
    "- Voltaje o Tensión: Es la diferencia de potencial eléctrico entre dos puntos del campo eléctrico. Se mide en **Volts [V]**\n",
    "- La inyección de un voltaje es lo que pone a los eléctrones en movimiento\n",
    "\n",
    "\n",
    "| <img src=\"images/simple_circuit.jpg\" width=\"400\">  | <img src=\"images/simple_circuit2.gif\" width=\"400\">   |\n",
    "|------|------|\n",
    "\n",
    "animación tomada de sparkfun.com"
   ]
  },
  {
   "cell_type": "markdown",
   "metadata": {
    "slideshow": {
     "slide_type": "slide"
    }
   },
   "source": [
    "### Generación de energía eléctrica\n",
    "\n",
    "- Energía: La capacidad de realizar trabajo. Existen muchos tipos de Energía. Ley de conservación de la energía.\n",
    "- Trabajo: Fuerza por distancia. Transferencia de Energía de un lugar a otro. Se mide en **Joules [J]**\n",
    "- Potencia: Taza a la cual transferimos o transformamos la energía. Se mide en **Watts [W]** \n",
    "- La energía eléctrica es una de las tantas formas de la energía\n",
    "- La energía eléctrica se genera a partir de otra energía, *e.g.* energía cinética de una turbina, luz (efecto fotovoltáico.\n",
    "\n",
    "| <img src=\"images/generacion1.jpg\" width=\"480\">  | <img src=\"images/generacion2.png\" width=\"480\">   |\n",
    "|------|------|\n"
   ]
  },
  {
   "cell_type": "markdown",
   "metadata": {
    "slideshow": {
     "slide_type": "slide"
    }
   },
   "source": [
    "### Generación de energía eléctrica\n",
    "\n",
    "- El movimiento de la turbina mueve el rotor (armadura) del generador\n",
    "- El estator produce un campo magnético\n",
    "- El movimiento del rotor dentro de un campo magnetico variable produce fuerza electromotriz (Ley de Faraday)\n",
    "- La fuerza electromotriz hace que fluya **corriente alternante** en la armadura (conductor)\n",
    "- Un motor es lo inverso a un generador pero el sistema es el mismo\n",
    "\n",
    "| <img src=\"images/dc_motor.jpg\" width=\"400\">  | <img src=\"images/generator_dc1.gif\" width=\"400\">   |\n",
    "|------|------|\n"
   ]
  },
  {
   "cell_type": "markdown",
   "metadata": {
    "slideshow": {
     "slide_type": "slide"
    }
   },
   "source": [
    "### Corriente alterna\n",
    "\n",
    "- Corriente alterna (AC): tiene voltaje y corriente variable en el tiempo\n",
    "\n",
    "$$\n",
    "V(t) = V_p \\sin(2\\pi f t + \\phi)\n",
    "$$\n",
    "\n",
    "- Hoy en día rige la AC para transmistir energía eléctrica por grandes distancias ya que \"era\" más fácil de distribuir\n",
    "- Los generadores producen AC que luego se transmite hasta llegar a nuestros hogares para ser consumida por nuestros motores AC\n",
    "- La AC se transmite en tres fases, desfasas en 120 grados. Triplica la potencia y sólo agrega un conductor c/r a sistema monofásico.\n",
    "- La AC tienes menos pérdidas de transmisión a mayor voltaje. En Chile el SIC trabaja entre 100kV y 500kV\n",
    "- Al llegar a una ciudad la AC es distribuida entre los hogares. Las cargas pequeñas usan AC monofásico a 220V\n",
    "- El sistema eléctrico debe suplir la carga, si la carga sube la generación debe subir.\n",
    "\n",
    "| <img src=\"images/triphase.gif\" width=\"450\">  | <img src=\"images/mapa_sic.jpg\" width=\"350\">    |\n",
    "|------|------|\n"
   ]
  },
  {
   "cell_type": "markdown",
   "metadata": {
    "slideshow": {
     "slide_type": "slide"
    }
   },
   "source": [
    "### Corriente continua\n",
    "\n",
    "- Corriente continua (DC): tiene voltaje y corriente constante en el tiempo\n",
    "- Se obtiene rectificando AC o a partir baterías\n",
    "- DC se usa en aplicaciones de bajo voltaje, *e.g.* casi todo lo que involucre transistores\n",
    "- Una batería es una colección de celdas donde se realizan procesos químicos que poducen flujo de electrones. Algunas baterías pueden recargarse. Están formadas por ánodo, cátodo y electrólito. \n",
    "\n",
    "| <img src=\"images/ac_dc.png\" width=\"400\">  | <img src=\"images/liion.jpg\" width=\"400\">    |\n",
    "|------|------|\n"
   ]
  },
  {
   "cell_type": "markdown",
   "metadata": {
    "slideshow": {
     "slide_type": "slide"
    }
   },
   "source": [
    "### Resistencias y Ley de Ohm\n",
    "\n",
    "- Resistividad: Propiedad de una material de impedir el paso de la corriente eléctrica\n",
    "- Resistencia: Elemento pasivo de dos terminales que se usa para fijar el flujo de corriente. La resistencia (R) se mide un **Ohms $[\\Omega]$** \n",
    "- Ley de Ohm: Relación entre el voltaje, corriente y resistencia de un circuito\n",
    "\n",
    "$$\n",
    "I = V / R\n",
    "$$\n",
    "\n",
    "\n",
    "\n",
    "| <img src=\"images/ohms_law.jpg\" width=\"300\">  | <img src=\"images/Resistor-Pinout.png\" width=\"300\">   |\n",
    "|------|------|\n"
   ]
  },
  {
   "cell_type": "markdown",
   "metadata": {
    "slideshow": {
     "slide_type": "notes"
    }
   },
   "source": [
    "Componente pasivo: No controla el flujo de corriente por medio de una señal externa. "
   ]
  },
  {
   "cell_type": "markdown",
   "metadata": {
    "slideshow": {
     "slide_type": "slide"
    }
   },
   "source": [
    "### Circuito serie y paralelo\n",
    "\n",
    "- Circuito paralelo: Mismo voltaje, la corriente se divide inversamente proporcional a la resistencia\n",
    "- Circuito serie: Misma corriente, el voltaje de cada elemento es proporcional a su resistencia\n",
    "- Leyes de voltaje y corriente de Kirchhoff\n",
    "\n",
    "| <img src=\"images/series_parallel.png\" width=\"400\">  | <img src=\"images/series_parallel.gif\" width=\"400\">   |\n",
    "|------|------|\n"
   ]
  },
  {
   "cell_type": "markdown",
   "metadata": {
    "slideshow": {
     "slide_type": "slide"
    }
   },
   "source": [
    "### Condensador\n",
    "\n",
    "- Condensador: Componente pasivo de dos terminales que almacena carga (campo eléctrico). Consiste de dos placas metálicas alrededor de un elemento dieléctrico\n",
    "- Capacitancia: Define la cantidad de carga que el condesador puede almacenar y depende principalmente de su construcción. Se mide en **Farads [F]** . Carga de un condensador: $Q = C \\cdot V$\n",
    "- Se usan para suprimir ruido, filtrar señales, almacenamiento de energía, entre otros\n",
    "\n",
    "| <img src=\"images/capacitor.gif\" width=\"300\">  <img src=\"images/capacitor2.png\" width=\"300\"> | <img src=\"images/capacitor3.gif\" width=\"300\">   |\n",
    "|------|------|\n",
    "\n",
    "animación tomada de sparkfun.com"
   ]
  },
  {
   "cell_type": "markdown",
   "metadata": {
    "slideshow": {
     "slide_type": "slide"
    }
   },
   "source": [
    "### Semiconductores: Diodos y transistores\n",
    "\n",
    "- Un semiconductor es un material que en ciertas situación conduce y en otras no. Un ejemplo común es una juntura de silicio al que se le agregan impurezas para que aumente o disminuya su conductividad (tipo n y tipo p)\n",
    "- Un diodo se forma al juntar un semiconductor tipo p y uno tipo n.\n",
    "- El diodo controla la dirección en que fluye la corriente continua\n",
    "- Existen múltiples tipos de diodos, *i.e.* rectificador, zener, LED, etc\n",
    "\n",
    " <img src=\"images/diode.jpg\" width=\"700\">   "
   ]
  },
  {
   "cell_type": "markdown",
   "metadata": {
    "slideshow": {
     "slide_type": "slide"
    }
   },
   "source": [
    "### Semiconductores: Diodos y transistores\n",
    "\n",
    "- Un transistor se forma al combinar semiconductores npn o pnp\n",
    "- El transistor tiene tres terminales: emisor, colector y base\n",
    "- A través de la corriente de base se puede regular el flujo de corriente entre colector y emisor\n",
    "- El transistor tiene tres estados: corte, saturación y zona lineal (amplificación)\n",
    "- El transistor tiene dos grandes aplicaciones: amplificación y switch electrónico\n",
    "- El transistor está detrás de las compuertas lógicas, base de los procesadores y por ende la computación\n",
    "\n",
    "| <img src=\"images/transistor.gif\" width=\"400\">   | <img src=\"images/transistor2.gif\" width=\"400\">   |\n",
    "|------|------|\n"
   ]
  },
  {
   "cell_type": "markdown",
   "metadata": {
    "slideshow": {
     "slide_type": "slide"
    }
   },
   "source": [
    "### Transformador\n",
    "\n",
    "- Elemento que convierte corriente alterna en continua\n",
    "- La primera parte es un embobinado que disminuye el voltage\n",
    "- La segunda es un puente rectificador que hace la señal positiva\n",
    "- La tercera es un filtro que la hace constante\n",
    "- Usualmente se agrega un regulador de voltage para aumentar la estabilidad\n",
    "\n",
    "| <img src=\"images/transformer.gif\" width=\"350\">   | <img src=\"images/transformer.png\" width=\"450\">   |\n",
    "|------|------|\n"
   ]
  },
  {
   "cell_type": "code",
   "execution_count": null,
   "metadata": {},
   "outputs": [],
   "source": []
  }
 ],
 "metadata": {
  "celltoolbar": "Slideshow",
  "kernelspec": {
   "display_name": "Python 3",
   "language": "python",
   "name": "python3"
  },
  "language_info": {
   "codemirror_mode": {
    "name": "ipython",
    "version": 3
   },
   "file_extension": ".py",
   "mimetype": "text/x-python",
   "name": "python",
   "nbconvert_exporter": "python",
   "pygments_lexer": "ipython3",
   "version": "3.6.4"
  }
 },
 "nbformat": 4,
 "nbformat_minor": 2
}
