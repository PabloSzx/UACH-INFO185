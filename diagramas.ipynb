{
 "cells": [
  {
   "cell_type": "markdown",
   "metadata": {},
   "source": [
    "http://blockdiag.com/en/blockdiag/introduction.html#usage"
   ]
  },
  {
   "cell_type": "code",
   "execution_count": 80,
   "metadata": {},
   "outputs": [
    {
     "name": "stdout",
     "output_type": "stream",
     "text": [
      "Overwriting images/shannon-diagram.diag\n"
     ]
    }
   ],
   "source": [
    "%%file images/shannon-diagram.diag\n",
    "blockdiag {\n",
    "    orientation = portrait\n",
    "    default_fontsize = 12; \n",
    "    A [label=\"Fuente\"]\n",
    "    B [label=\"Transmisor\"]\n",
    "    C [label=\"Canal\", color=lightblue]\n",
    "    D [label=\"Ruido\"]\n",
    "    E [label=\"Receptor\"]\n",
    "    F [label=\"Destino\"]\n",
    "    A -> B [label = \"mensaje\"]\n",
    "    B -> C [label = \"señal\"];\n",
    "    C -> E -> F\n",
    "    D -> C [style=dashed]\n",
    "\n",
    "}"
   ]
  },
  {
   "cell_type": "code",
   "execution_count": 81,
   "metadata": {},
   "outputs": [],
   "source": [
    "!~/.local/bin/blockdiag -Tsvg images/shannon-diagram.diag"
   ]
  },
  {
   "cell_type": "code",
   "execution_count": 82,
   "metadata": {},
   "outputs": [
    {
     "data": {
      "image/svg+xml": [
       "<svg viewBox=\"0 0 448 440\" xmlns=\"http://www.w3.org/2000/svg\" xmlns:inkspace=\"http://www.inkscape.org/namespaces/inkscape\" xmlns:xlink=\"http://www.w3.org/1999/xlink\">\n",
       "  <defs id=\"defs_block\">\n",
       "    <filter height=\"1.504\" id=\"filter_blur\" inkspace:collect=\"always\" width=\"1.1575\" x=\"-0.07875\" y=\"-0.252\">\n",
       "      <feGaussianBlur id=\"feGaussianBlur3780\" inkspace:collect=\"always\" stdDeviation=\"4.2\"/>\n",
       "    </filter>\n",
       "  </defs>\n",
       "  <title>blockdiag</title>\n",
       "  <desc>blockdiag {\n",
       "    orientation = portrait\n",
       "    default_fontsize = 12; \n",
       "    A [label=&quot;Fuente&quot;]\n",
       "    B [label=&quot;Transmisor&quot;]\n",
       "    C [label=&quot;Canal&quot;, color=lightblue]\n",
       "    D [label=&quot;Ruido&quot;]\n",
       "    E [label=&quot;Receptor&quot;]\n",
       "    F [label=&quot;Destino&quot;]\n",
       "    A -&gt; B [label = &quot;mensaje&quot;]\n",
       "    B -&gt; C [label = &quot;señal&quot;];\n",
       "    C -&gt; E -&gt; F\n",
       "    D -&gt; C [style=dashed]\n",
       "\n",
       "}\n",
       "</desc>\n",
       "  <rect fill=\"rgb(0,0,0)\" height=\"40\" stroke=\"rgb(0,0,0)\" style=\"filter:url(#filter_blur);opacity:0.7;fill-opacity:1\" width=\"128\" x=\"67\" y=\"46\"/>\n",
       "  <rect fill=\"rgb(0,0,0)\" height=\"40\" stroke=\"rgb(0,0,0)\" style=\"filter:url(#filter_blur);opacity:0.7;fill-opacity:1\" width=\"128\" x=\"67\" y=\"126\"/>\n",
       "  <rect fill=\"rgb(0,0,0)\" height=\"40\" stroke=\"rgb(0,0,0)\" style=\"filter:url(#filter_blur);opacity:0.7;fill-opacity:1\" width=\"128\" x=\"67\" y=\"206\"/>\n",
       "  <rect fill=\"rgb(0,0,0)\" height=\"40\" stroke=\"rgb(0,0,0)\" style=\"filter:url(#filter_blur);opacity:0.7;fill-opacity:1\" width=\"128\" x=\"259\" y=\"46\"/>\n",
       "  <rect fill=\"rgb(0,0,0)\" height=\"40\" stroke=\"rgb(0,0,0)\" style=\"filter:url(#filter_blur);opacity:0.7;fill-opacity:1\" width=\"128\" x=\"67\" y=\"286\"/>\n",
       "  <rect fill=\"rgb(0,0,0)\" height=\"40\" stroke=\"rgb(0,0,0)\" style=\"filter:url(#filter_blur);opacity:0.7;fill-opacity:1\" width=\"128\" x=\"67\" y=\"366\"/>\n",
       "  <rect fill=\"rgb(255,255,255)\" height=\"40\" stroke=\"rgb(0,0,0)\" width=\"128\" x=\"64\" y=\"40\"/>\n",
       "  <text fill=\"rgb(0,0,0)\" font-family=\"sans-serif\" font-size=\"12\" font-style=\"normal\" font-weight=\"normal\" text-anchor=\"middle\" textLength=\"39\" x=\"128.5\" y=\"66\">Fuente</text>\n",
       "  <rect fill=\"rgb(255,255,255)\" height=\"40\" stroke=\"rgb(0,0,0)\" width=\"128\" x=\"64\" y=\"120\"/>\n",
       "  <text fill=\"rgb(0,0,0)\" font-family=\"sans-serif\" font-size=\"12\" font-style=\"normal\" font-weight=\"normal\" text-anchor=\"middle\" textLength=\"65\" x=\"128.5\" y=\"146\">Transmisor</text>\n",
       "  <rect fill=\"rgb(173,216,230)\" height=\"40\" stroke=\"rgb(0,0,0)\" width=\"128\" x=\"64\" y=\"200\"/>\n",
       "  <text fill=\"rgb(0,0,0)\" font-family=\"sans-serif\" font-size=\"12\" font-style=\"normal\" font-weight=\"normal\" text-anchor=\"middle\" textLength=\"32\" x=\"128.0\" y=\"226\">Canal</text>\n",
       "  <rect fill=\"rgb(255,255,255)\" height=\"40\" stroke=\"rgb(0,0,0)\" width=\"128\" x=\"256\" y=\"40\"/>\n",
       "  <text fill=\"rgb(0,0,0)\" font-family=\"sans-serif\" font-size=\"12\" font-style=\"normal\" font-weight=\"normal\" text-anchor=\"middle\" textLength=\"32\" x=\"320.0\" y=\"66\">Ruido</text>\n",
       "  <rect fill=\"rgb(255,255,255)\" height=\"40\" stroke=\"rgb(0,0,0)\" width=\"128\" x=\"64\" y=\"280\"/>\n",
       "  <text fill=\"rgb(0,0,0)\" font-family=\"sans-serif\" font-size=\"12\" font-style=\"normal\" font-weight=\"normal\" text-anchor=\"middle\" textLength=\"52\" x=\"128.0\" y=\"306\">Receptor</text>\n",
       "  <rect fill=\"rgb(255,255,255)\" height=\"40\" stroke=\"rgb(0,0,0)\" width=\"128\" x=\"64\" y=\"360\"/>\n",
       "  <text fill=\"rgb(0,0,0)\" font-family=\"sans-serif\" font-size=\"12\" font-style=\"normal\" font-weight=\"normal\" text-anchor=\"middle\" textLength=\"45\" x=\"128.5\" y=\"386\">Destino</text>\n",
       "  <path d=\"M 128 80 L 128 112\" fill=\"none\" stroke=\"rgb(0,0,0)\"/>\n",
       "  <polygon fill=\"rgb(0,0,0)\" points=\"128,119 124,112 132,112 128,119\" stroke=\"rgb(0,0,0)\"/>\n",
       "  <path d=\"M 128 160 L 128 192\" fill=\"none\" stroke=\"rgb(0,0,0)\"/>\n",
       "  <polygon fill=\"rgb(0,0,0)\" points=\"128,199 124,192 132,192 128,199\" stroke=\"rgb(0,0,0)\"/>\n",
       "  <path d=\"M 128 240 L 128 272\" fill=\"none\" stroke=\"rgb(0,0,0)\"/>\n",
       "  <polygon fill=\"rgb(0,0,0)\" points=\"128,279 124,272 132,272 128,279\" stroke=\"rgb(0,0,0)\"/>\n",
       "  <path d=\"M 320 80 L 320 180\" fill=\"none\" stroke=\"rgb(0,0,0)\" stroke-dasharray=\"4\"/>\n",
       "  <path d=\"M 128 180 L 320 180\" fill=\"none\" stroke=\"rgb(0,0,0)\" stroke-dasharray=\"4\"/>\n",
       "  <path d=\"M 128 180 L 128 192\" fill=\"none\" stroke=\"rgb(0,0,0)\" stroke-dasharray=\"4\"/>\n",
       "  <polygon fill=\"rgb(0,0,0)\" points=\"128,199 124,192 132,192 128,199\" stroke=\"rgb(0,0,0)\"/>\n",
       "  <path d=\"M 128 320 L 128 352\" fill=\"none\" stroke=\"rgb(0,0,0)\"/>\n",
       "  <polygon fill=\"rgb(0,0,0)\" points=\"128,359 124,352 132,352 128,359\" stroke=\"rgb(0,0,0)\"/>\n",
       "  <rect fill=\"white\" height=\"16\" stroke=\"rgb(0,0,0)\" width=\"61\" x=\"146\" y=\"102\"/>\n",
       "  <text fill=\"rgb(0,0,0)\" font-family=\"sans-serif\" font-size=\"12\" font-style=\"normal\" font-weight=\"normal\" text-anchor=\"middle\" textLength=\"45\" x=\"176.5\" y=\"116\">mensaje</text>\n",
       "  <rect fill=\"white\" height=\"16\" stroke=\"rgb(0,0,0)\" width=\"48\" x=\"152\" y=\"182\"/>\n",
       "  <text fill=\"rgb(0,0,0)\" font-family=\"sans-serif\" font-size=\"12\" font-style=\"normal\" font-weight=\"normal\" text-anchor=\"middle\" textLength=\"32\" x=\"176.0\" y=\"196\">señal</text>\n",
       "</svg>"
      ],
      "text/plain": [
       "<IPython.core.display.SVG object>"
      ]
     },
     "execution_count": 82,
     "metadata": {},
     "output_type": "execute_result"
    }
   ],
   "source": [
    "from IPython.display import SVG\n",
    "SVG(\"images/shannon-diagram.svg\")"
   ]
  },
  {
   "cell_type": "code",
   "execution_count": 77,
   "metadata": {},
   "outputs": [
    {
     "name": "stdout",
     "output_type": "stream",
     "text": [
      "Overwriting images/transmitter.diag\n"
     ]
    }
   ],
   "source": [
    "%%file images/transmitter.diag\n",
    "blockdiag {\n",
    "    node_width = 200;\n",
    "    default_fontsize = 14; \n",
    "    A [label=\"Transformación\"]\n",
    "    B [label=\"Cuantización\"]\n",
    "    C [label=\"Codificación de fuente\"]\n",
    "    D [label=\"Codificación de canal\"]\n",
    "\n",
    "    A -> B -> C -> D\n",
    "    B -> C [folded]\n",
    "\n",
    "}"
   ]
  },
  {
   "cell_type": "code",
   "execution_count": 78,
   "metadata": {},
   "outputs": [],
   "source": [
    "!~/.local/bin/blockdiag -Tsvg images/transmitter.diag"
   ]
  },
  {
   "cell_type": "code",
   "execution_count": 79,
   "metadata": {},
   "outputs": [
    {
     "data": {
      "image/svg+xml": [
       "<svg viewBox=\"0 0 592 200\" xmlns=\"http://www.w3.org/2000/svg\" xmlns:inkspace=\"http://www.inkscape.org/namespaces/inkscape\" xmlns:xlink=\"http://www.w3.org/1999/xlink\">\n",
       "  <defs id=\"defs_block\">\n",
       "    <filter height=\"1.504\" id=\"filter_blur\" inkspace:collect=\"always\" width=\"1.1575\" x=\"-0.07875\" y=\"-0.252\">\n",
       "      <feGaussianBlur id=\"feGaussianBlur3780\" inkspace:collect=\"always\" stdDeviation=\"4.2\"/>\n",
       "    </filter>\n",
       "  </defs>\n",
       "  <title>blockdiag</title>\n",
       "  <desc>blockdiag {\n",
       "    node_width = 200;\n",
       "    default_fontsize = 14; \n",
       "    A [label=&quot;Transformación&quot;]\n",
       "    B [label=&quot;Cuantización&quot;]\n",
       "    C [label=&quot;Codificación de fuente&quot;]\n",
       "    D [label=&quot;Codificación de canal&quot;]\n",
       "\n",
       "    A -&gt; B -&gt; C -&gt; D\n",
       "    B -&gt; C [folded]\n",
       "\n",
       "}\n",
       "</desc>\n",
       "  <rect fill=\"rgb(0,0,0)\" height=\"40\" stroke=\"rgb(0,0,0)\" style=\"filter:url(#filter_blur);opacity:0.7;fill-opacity:1\" width=\"200\" x=\"67\" y=\"46\"/>\n",
       "  <rect fill=\"rgb(0,0,0)\" height=\"40\" stroke=\"rgb(0,0,0)\" style=\"filter:url(#filter_blur);opacity:0.7;fill-opacity:1\" width=\"200\" x=\"331\" y=\"46\"/>\n",
       "  <rect fill=\"rgb(0,0,0)\" height=\"40\" stroke=\"rgb(0,0,0)\" style=\"filter:url(#filter_blur);opacity:0.7;fill-opacity:1\" width=\"200\" x=\"67\" y=\"126\"/>\n",
       "  <rect fill=\"rgb(0,0,0)\" height=\"40\" stroke=\"rgb(0,0,0)\" style=\"filter:url(#filter_blur);opacity:0.7;fill-opacity:1\" width=\"200\" x=\"331\" y=\"126\"/>\n",
       "  <rect fill=\"rgb(255,255,255)\" height=\"40\" stroke=\"rgb(0,0,0)\" width=\"200\" x=\"64\" y=\"40\"/>\n",
       "  <text fill=\"rgb(0,0,0)\" font-family=\"sans-serif\" font-size=\"14\" font-style=\"normal\" font-weight=\"normal\" text-anchor=\"middle\" textLength=\"106\" x=\"164.0\" y=\"67\">Transformación</text>\n",
       "  <rect fill=\"rgb(255,255,255)\" height=\"40\" stroke=\"rgb(0,0,0)\" width=\"200\" x=\"328\" y=\"40\"/>\n",
       "  <text fill=\"rgb(0,0,0)\" font-family=\"sans-serif\" font-size=\"14\" font-style=\"normal\" font-weight=\"normal\" text-anchor=\"middle\" textLength=\"91\" x=\"428.5\" y=\"67\">Cuantización</text>\n",
       "  <rect fill=\"rgb(255,255,255)\" height=\"40\" stroke=\"rgb(0,0,0)\" width=\"200\" x=\"64\" y=\"120\"/>\n",
       "  <text fill=\"rgb(0,0,0)\" font-family=\"sans-serif\" font-size=\"14\" font-style=\"normal\" font-weight=\"normal\" text-anchor=\"middle\" textLength=\"168\" x=\"164.0\" y=\"147\">Codificación de fuente</text>\n",
       "  <rect fill=\"rgb(255,255,255)\" height=\"40\" stroke=\"rgb(0,0,0)\" width=\"200\" x=\"328\" y=\"120\"/>\n",
       "  <text fill=\"rgb(0,0,0)\" font-family=\"sans-serif\" font-size=\"14\" font-style=\"normal\" font-weight=\"normal\" text-anchor=\"middle\" textLength=\"160\" x=\"428.0\" y=\"147\">Codificación de canal</text>\n",
       "  <path d=\"M 264 60 L 320 60\" fill=\"none\" stroke=\"rgb(0,0,0)\"/>\n",
       "  <polygon fill=\"rgb(0,0,0)\" points=\"327,60 320,56 320,64 327,60\" stroke=\"rgb(0,0,0)\"/>\n",
       "  <path d=\"M 428 80 L 428 100\" fill=\"none\" stroke=\"rgb(0,0,0)\"/>\n",
       "  <path d=\"M 164 100 L 428 100\" fill=\"none\" stroke=\"rgb(0,0,0)\"/>\n",
       "  <path d=\"M 164 100 L 164 112\" fill=\"none\" stroke=\"rgb(0,0,0)\"/>\n",
       "  <polygon fill=\"rgb(0,0,0)\" points=\"164,119 160,112 168,112 164,119\" stroke=\"rgb(0,0,0)\"/>\n",
       "  <path d=\"M 264 140 L 320 140\" fill=\"none\" stroke=\"rgb(0,0,0)\"/>\n",
       "  <polygon fill=\"rgb(0,0,0)\" points=\"327,140 320,136 320,144 327,140\" stroke=\"rgb(0,0,0)\"/>\n",
       "</svg>"
      ],
      "text/plain": [
       "<IPython.core.display.SVG object>"
      ]
     },
     "execution_count": 79,
     "metadata": {},
     "output_type": "execute_result"
    }
   ],
   "source": [
    "SVG(\"images/transmitter.svg\")"
   ]
  },
  {
   "cell_type": "code",
   "execution_count": null,
   "metadata": {},
   "outputs": [],
   "source": []
  }
 ],
 "metadata": {
  "kernelspec": {
   "display_name": "Python 3",
   "language": "python",
   "name": "python3"
  },
  "language_info": {
   "codemirror_mode": {
    "name": "ipython",
    "version": 3
   },
   "file_extension": ".py",
   "mimetype": "text/x-python",
   "name": "python",
   "nbconvert_exporter": "python",
   "pygments_lexer": "ipython3",
   "version": "3.7.2"
  }
 },
 "nbformat": 4,
 "nbformat_minor": 2
}
