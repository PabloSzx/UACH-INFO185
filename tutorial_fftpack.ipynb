{
 "cells": [
  {
   "cell_type": "markdown",
   "metadata": {},
   "source": [
    "# Transformada rápida de Fourier con Scipy"
   ]
  },
  {
   "cell_type": "code",
   "execution_count": null,
   "metadata": {},
   "outputs": [],
   "source": [
    "%matplotlib notebook\n",
    "import matplotlib.pyplot as plt\n",
    "import numpy as np\n",
    "import scipy.fftpack"
   ]
  },
  {
   "cell_type": "markdown",
   "metadata": {},
   "source": [
    "Creemos una señal unidimensional y periódica con dos componentes sinusoidales"
   ]
  },
  {
   "cell_type": "code",
   "execution_count": null,
   "metadata": {},
   "outputs": [],
   "source": [
    "F_s = 20\n",
    "t = np.linspace(0, 2, 2*F_s, endpoint=False)\n",
    "x = np.sin(2*np.pi*t*5) + np.cos(2*np.pi*t*12 + np.pi/4)\n",
    "\n",
    "fig, ax = plt.subplots(figsize=(7, 4))\n",
    "ax.plot(t, x)\n",
    "ax.set_xlabel('Tiempo [s]')\n",
    "ax.set_ylabel('Amplitud');"
   ]
  },
  {
   "cell_type": "markdown",
   "metadata": {},
   "source": [
    "Para obtener su transformada de Fourier podemos usar el modulo `fftpack` de scipy\n",
    "\n",
    "- `fftpack.fft`: Calcula la transformada directa\n",
    "- `fftpack.ifft`: Calcula la transformada inversa\n",
    "- `fftpack.fftfreq`: Crea una arreglo de frecuencias (conveniente cuando se quiere graficar el espectro)\n",
    "- `fftpack.fftshift` e `ifftshift`: Cambia el orden de los componentes del espectro de $[0,\\ldots, F_s/2, -F_s/2, \\ldots, -F_s/N]$ a $[-F_s/2, \\ldots, 0, \\ldots, F_s/2]$"
   ]
  },
  {
   "cell_type": "markdown",
   "metadata": {},
   "source": [
    "En general la transformada de Fourier tiene valores complejos \n",
    "\n",
    "Analizamos e interpretamos graficamente el valor absoluto y la fase (angulo) por separado "
   ]
  },
  {
   "cell_type": "code",
   "execution_count": null,
   "metadata": {},
   "outputs": [],
   "source": [
    "S = scipy.fftpack.fft(x, n=len(x))\n",
    "print(S[11])\n",
    "print(type(S[11]))\n",
    "\n",
    "fig, ax = plt.subplots(figsize=(7, 4))\n",
    "ax.plot(np.absolute(S))\n",
    "ax.set_title('Espectro de amplitud')"
   ]
  },
  {
   "cell_type": "markdown",
   "metadata": {},
   "source": [
    "En el gráfico anterior no especificamos el eje de las abscisas\n",
    "\n",
    "Podemos usar fftfreq para crear un arreglo de frecuencias para poner en el eje de las abscisas\n",
    "\n",
    "Los argumentos de fftfreq son el tiempo de muestreo (inverso de la frecuencia) y el largo de la serie"
   ]
  },
  {
   "cell_type": "code",
   "execution_count": null,
   "metadata": {},
   "outputs": [],
   "source": [
    "freq = scipy.fftpack.fftfreq(d=1/F_s, n=len(x))\n",
    "print(freq)\n",
    "fig, ax = plt.subplots(figsize=(7, 4))\n",
    "ax.plot(freq, np.absolute(S))\n",
    "ax.set_title('Espectro de amplitud')"
   ]
  },
  {
   "cell_type": "markdown",
   "metadata": {},
   "source": [
    "Para que el gráfico se vea correctamente conectado usamos fftshift\n"
   ]
  },
  {
   "cell_type": "code",
   "execution_count": null,
   "metadata": {},
   "outputs": [],
   "source": [
    "fig, ax = plt.subplots(figsize=(7, 4))\n",
    "ax.plot(scipy.fftpack.fftshift(freq), scipy.fftpack.fftshift(np.absolute(S)))\n",
    "ax.set_title('Espectro de amplitud')"
   ]
  },
  {
   "cell_type": "markdown",
   "metadata": {},
   "source": [
    "En los casos que el espectro de amplitud sea simétrico (siempre si se usan datos reales) podemos simplemente graficar la primera mitad del espectro"
   ]
  },
  {
   "cell_type": "code",
   "execution_count": null,
   "metadata": {},
   "outputs": [],
   "source": [
    "fig, ax = plt.subplots(figsize=(7, 4))\n",
    "N = len(x)\n",
    "ax.plot(freq[:N//2], np.absolute(S)[:N//2])\n",
    "ax.set_title('Espectro de amplitud')"
   ]
  },
  {
   "cell_type": "markdown",
   "metadata": {},
   "source": [
    "**El espectro de amplitud nos dice que tan \"fuerte\" era la variación de la señal original en una frecuencia dada**\n",
    "\n",
    "Para que calce con la amplitud de la señal hay que multiplicar por un factor $1/F_s = 2/N$"
   ]
  },
  {
   "cell_type": "code",
   "execution_count": null,
   "metadata": {},
   "outputs": [],
   "source": [
    "fig, ax = plt.subplots(figsize=(7, 4))\n",
    "N = len(x)\n",
    "ax.plot(scipy.fftpack.fftshift(freq), scipy.fftpack.fftshift(np.angle(S)))\n",
    "ax.set_title('Espectro de fase');"
   ]
  },
  {
   "cell_type": "markdown",
   "metadata": {},
   "source": [
    "El espectro de fase en cambio nos dice el ángulo (desfase) de cada componente sinusoidal con respecto al desfase cero\n",
    "\n",
    "La forma más correcta de visualizar el espectro de fase sería enmascararlo con el espectro amplitud ¿Por qué?"
   ]
  },
  {
   "cell_type": "code",
   "execution_count": null,
   "metadata": {},
   "outputs": [],
   "source": [
    "fig, ax = plt.subplots(figsize=(7, 4))\n",
    "N = len(x)\n",
    "mask = np.absolute(S) < 10\n",
    "phase_spectrum = np.angle(S)\n",
    "phase_spectrum[mask] = 0.\n",
    "ax.plot(scipy.fftpack.fftshift(freq), scipy.fftpack.fftshift(phase_spectrum)*180/np.pi)\n",
    "ax.set_xlim([-F_s/2, F_s/2])\n",
    "ax.set_title('Espectro de fase');"
   ]
  },
  {
   "cell_type": "code",
   "execution_count": null,
   "metadata": {},
   "outputs": [],
   "source": [
    "x_hat = scipy.fftpack.ifft(S)\n",
    "\n",
    "fig, ax = plt.subplots(figsize=(7, 4))\n",
    "\n",
    "ax.plot(t, x, alpha=0.5 , label='señal original')\n",
    "ax.plot(t, np.real(x_hat), alpha=0.5 , label='señal reconstruida parte real')\n",
    "ax.plot(t, np.imag(x_hat), label='señal reconstruida parte imag')\n",
    "plt.legend();\n"
   ]
  },
  {
   "cell_type": "markdown",
   "metadata": {},
   "source": [
    "- Usamos ifft para reconstruir la señal original\n",
    "- Notemos que la reconstrucción es un número complejo (con parte imaginaria muy pequeña la cual podemos descartar facilmente)  "
   ]
  },
  {
   "cell_type": "markdown",
   "metadata": {},
   "source": [
    "### Fuga espectral\n",
    "\n",
    "- Si las frecuencias no calzan exactamente en la grilla ocurre el fenomeno de **fuga espectral**\n",
    "- Grafica nuevamente el espectro cambiando las frecuencias de las señales por números racionales, por ejemplo 5.14241234 y 12.4123\n",
    "\n",
    "### Aliasing\n",
    "\n",
    "- Si la frecuencia de muestreo es menor que el doble de la frecuencia más alta ocurre **aliasing**\n",
    "- Disminuye la frecuencia de muestreo y observa la ubicación de los componentes de frecuencia en el espectro"
   ]
  },
  {
   "cell_type": "code",
   "execution_count": null,
   "metadata": {},
   "outputs": [],
   "source": []
  }
 ],
 "metadata": {
  "kernelspec": {
   "display_name": "Python 3",
   "language": "python",
   "name": "python3"
  },
  "language_info": {
   "codemirror_mode": {
    "name": "ipython",
    "version": 3
   },
   "file_extension": ".py",
   "mimetype": "text/x-python",
   "name": "python",
   "nbconvert_exporter": "python",
   "pygments_lexer": "ipython3",
   "version": "3.7.2"
  }
 },
 "nbformat": 4,
 "nbformat_minor": 2
}
