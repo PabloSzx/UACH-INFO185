{
 "cells": [
  {
   "cell_type": "code",
   "execution_count": null,
   "metadata": {
    "slideshow": {
     "slide_type": "skip"
    }
   },
   "outputs": [],
   "source": [
    "%%HTML\n",
    "<!-- Make fonts readable at 1024x768 -->\n",
    "<style>\n",
    ".rendered_html { font-size:0.7em; }\n",
    "</style>"
   ]
  },
  {
   "cell_type": "code",
   "execution_count": null,
   "metadata": {
    "slideshow": {
     "slide_type": "skip"
    }
   },
   "outputs": [],
   "source": [
    "import numpy as np\n",
    "import scipy.signal\n",
    "%matplotlib notebook\n",
    "import matplotlib.pylab as plt\n",
    "from matplotlib import animation, patches\n",
    "from IPython.display import display, Audio, HTML\n",
    "import soundfile as sf\n",
    "from style import *"
   ]
  },
  {
   "cell_type": "markdown",
   "metadata": {
    "hideCode": false,
    "hidePrompt": false,
    "slideshow": {
     "slide_type": "slide"
    }
   },
   "source": [
    "### Universidad Austral de Chile \n",
    "## INFO185 Comunicaciones\n",
    "\n",
    "\n",
    "# Unidad 2 - Introducción a los sistemas de comunicaciones\n",
    "\n",
    "### Dr. Pablo Huijse, phuijse at inf dot uach dot cl \n",
    "\n",
    "### <a href=\"https://github.com/phuijse/UACH-INFO185\"> github.com/phuijse/UACH-INFO185 </a>\n"
   ]
  },
  {
   "cell_type": "markdown",
   "metadata": {
    "hideCode": false,
    "hidePrompt": false,
    "slideshow": {
     "slide_type": "slide"
    }
   },
   "source": [
    "# Sistemas de comunicación digitales\n",
    "\n",
    "Los sistemas y tecnologías de comunicación digital han tenido un crecimiento exponencial en las últimas decadas y podemos encontrarlos en múltiples aspectos de nuestra vida diaria. \n",
    "\n",
    "Hoy en día gran parte de los sistemas de comunicacion están basados en la transmisión de señales eléctricas\n",
    "\n",
    "<center><img src=\"images/standards.png\"></center>"
   ]
  },
  {
   "cell_type": "markdown",
   "metadata": {
    "slideshow": {
     "slide_type": "slide"
    }
   },
   "source": [
    "## Modelo de Shannon\n",
    "\n",
    "El modelo de Shannon define los elementos básicos de un sistema de comunicación\n",
    "\n",
    "Fuente -(mensaje)- Transmisor - (señal+ruido) - Canal - (señal) - Receptor - (mensaje) - Destino"
   ]
  },
  {
   "cell_type": "markdown",
   "metadata": {
    "slideshow": {
     "slide_type": "slide"
    }
   },
   "source": [
    "- <span style=\"color:blue\">Mensaje</span>: Es la información que deseamos enviar y recibir\n",
    "- <span style=\"color:blue\">Transmisor</span>: Convierte el mensaje a impulsos eléctricos usando un sensor/transductor, luego lo **transforma** y transmite. \n",
    "- El objetivo de la transformación es hacer la transmisión lo más eficiente posible.\n",
    "- <span style=\"color:blue\">Señal</span>: Es el mensaje convertido por el transmisor tal que puede viajar por el canal hacia el receptor\n",
    "- <span style=\"color:blue\">Canal</span>: Es el medio por el cual se envian las señales eléctricas del transmisor hacia el receptor\n",
    "- <span style=\"color:blue\">Receptor</span>: Captura la señal del transmisor, aplica las **transformaciones inversas** y lo convierte a su forma original por medio de un actuador/transductor"
   ]
  },
  {
   "cell_type": "markdown",
   "metadata": {
    "slideshow": {
     "slide_type": "fragment"
    }
   },
   "source": [
    "- El canal actua como un atenuador de la señal. En general la atenuación es mayor mientras más \"largo\" sea el canal. Ciertas distorciones pueden ser corregidas por el receptor usando ecualización\n",
    "- El **ruido** es una corrupción o interferencia indeseable que modifica la señal cuando esta pasa por el canal. El ruido es por lo general aleatorio, puede reducirse para nunca eliminarse por completo.\n",
    "- El **ruido** es en muchos casos quien pone los límites en los sistemas de comunicación"
   ]
  },
  {
   "cell_type": "markdown",
   "metadata": {
    "slideshow": {
     "slide_type": "skip"
    }
   },
   "source": [
    "Ejemplo walkie-talkie: idea, voz, microfono, señal de audio, modulación FM, aire, demodulación, parlante, oido\n",
    "\n",
    "<img src=\"images/walkietalkie.jpg\">"
   ]
  },
  {
   "cell_type": "markdown",
   "metadata": {
    "slideshow": {
     "slide_type": "slide"
    }
   },
   "source": [
    "### ¿Qué es una señal?\n",
    "- Es una **función** de una o más variables que provee información (mensaje) sobre un fenómeno físico\n",
    "    - Ejemplos de variable independiente: tiempo (1d), superficie (2d), volumen (3d)\n",
    "    - Ejemplos de variable dependiente: potencial eléctrico, presión en el aire (sonido), imágenes\n",
    "- Cuando una de las variables independientes es el tiempo hablamos de **serie de tiempo**\n",
    "\n",
    "\n",
    "\n",
    "\n"
   ]
  },
  {
   "cell_type": "markdown",
   "metadata": {
    "slideshow": {
     "slide_type": "slide"
    }
   },
   "source": [
    "<table><tr><td> \n",
    "    <img src=\"images/stock_market.png\" width=\"400\">  \n",
    "    </td><td> \n",
    "    <img src=\"images/transit.gif\" width=\"400\">\n",
    "    </td></tr><tr><td>\n",
    "    <img src=\"images/scalp.gif\" width=\"400\">  \n",
    "    </td><td> \n",
    "    <img src=\"images/fmri.jpg\" width=\"400\">  \n",
    "</td></tr></table>\n",
    "\n"
   ]
  },
  {
   "cell_type": "markdown",
   "metadata": {
    "slideshow": {
     "slide_type": "slide"
    }
   },
   "source": [
    "### Carácterísticas de una señal \n",
    "- Sea una señal definida como una función g(t) donde t es el tiempo\n",
    "- Duración $T$, tal que $g(t) = 0 ~~ \\forall t > T$ \n",
    "- Energía (norma de la señal) $$E_g = ||g|| = \\int_{-\\infty}^{\\infty} | g(t) |^2 dt $$\n",
    "la energía es una medida del tamañó/área de la señal\n",
    "<center><img src=\"images/sigsize1.png\"></center>\n",
    "- Potencia: Energía por unidad de tiempo\n",
    "$$\n",
    "P_g = \\lim_{t\\to\\infty} \\frac{1}{T} \\int_{-T/2}^{T/2} |g(t)|^2 dt \n",
    "$$\n",
    "que se mide usualmente en $10 \\log_{10}(P) [dBm]$\n",
    "- La potencia mide la fuerza o intensidad de la señal\n",
    "- **Razón señal a ruido (SNR)**: Corresponde a la potencia de la señal dividido por la potencia del ruido. Es una medida de la calidad de la señal"
   ]
  },
  {
   "cell_type": "markdown",
   "metadata": {
    "slideshow": {
     "slide_type": "slide"
    }
   },
   "source": [
    "### Clasificación de señales\n",
    "\n",
    "Algunos tipos de señales:\n",
    "- Señal de tiempo continuo o de tiempo discreto\n",
    "- Señal analógica o digital\n",
    "- Señal periódica o aperiódica\n",
    "- Señal determinística o estocástica\n",
    "\n",
    "<table><tr><td> \n",
    "    <img src=\"images/signal2.png\" width=\"400\">  \n",
    "    </td><td> \n",
    "    <img src=\"images/signal.png\" width=\"450\">\n",
    "</td></tr></table>\n",
    "\n"
   ]
  },
  {
   "cell_type": "markdown",
   "metadata": {
    "slideshow": {
     "slide_type": "slide"
    }
   },
   "source": [
    "- Los señales \"naturales\" son en general analógicas de tiempo continuo\n",
    "- Los sistemas de comunicación digitales se basan en pulsos eléctricos de tiempo discreto\n",
    "- Una señal analógica puede digitalizarse muestreando en el tiempo (reloj) y cuantizando en su magnitud\n",
    "- Hoy en día las tecnologías digitales han reemplazando a las análogicas. Esto se debe a que la comunicación digital es más resistente al ruido y a las distorsiones (Lathi & Ding, 2009, Sec 1.2)\n"
   ]
  },
  {
   "cell_type": "code",
   "execution_count": null,
   "metadata": {
    "hideCode": false,
    "hideOutput": false,
    "hidePrompt": true,
    "slideshow": {
     "slide_type": "fragment"
    }
   },
   "outputs": [],
   "source": [
    "x = np.linspace(0.0, 5.0, num=1000)\n",
    "y = np.sin(2.0*np.pi*1.0*x)\n",
    "fig, ax = plt.subplots(1, 3, figsize=(12, 4))\n",
    "ax[0].plot(x, y, linewidth=2)\n",
    "ax[1].plot(x, np.floor(y//0.25))\n",
    "ax[2].stem(x[::20], np.floor(y[::20]//0.25));"
   ]
  },
  {
   "cell_type": "markdown",
   "metadata": {
    "slideshow": {
     "slide_type": "notes"
    }
   },
   "source": [
    "Extras:\n",
    "- Señal estacionaria\n",
    "- Señal ergódica\n",
    "- Sensores y Conversor A/D D/A\n",
    "- Teorema del muestreo"
   ]
  },
  {
   "cell_type": "markdown",
   "metadata": {
    "slideshow": {
     "slide_type": "slide"
    }
   },
   "source": [
    "- Una señal **determinística** es aquella que puede describirse completamente por una ecuación matemática, *e.g.* $y = \\cos(2\\pi f t)$\n",
    "- Una señal **estocástica** es aquella que sólo puede ser descrita probabilisticamente, es decir en términos de su densidad de probabilidad, *e.g.* $ z \\sim \\mathcal{N}(\\mu, \\Sigma)$"
   ]
  },
  {
   "cell_type": "code",
   "execution_count": null,
   "metadata": {
    "slideshow": {
     "slide_type": "fragment"
    }
   },
   "outputs": [],
   "source": [
    "x = np.linspace(0.0, 5.0, num=1000)\n",
    "fig, ax = plt.subplots(1, 2, figsize=(12, 4))\n",
    "ax[0].plot(x, np.sin(2.0*np.pi*1.0*x), linewidth=2)\n",
    "ax[1].plot(x, np.random.randn(len(x)));"
   ]
  },
  {
   "cell_type": "markdown",
   "metadata": {
    "slideshow": {
     "slide_type": "slide"
    }
   },
   "source": [
    "- Una señal periódica es aquella que se repite luego de un cierto tiempo P. Este tiempo se denomina periodo\n",
    "- Una señal aperiódica es aquella que no se repite regularmente en el tiempo."
   ]
  },
  {
   "cell_type": "code",
   "execution_count": null,
   "metadata": {
    "slideshow": {
     "slide_type": "fragment"
    }
   },
   "outputs": [],
   "source": [
    "x = np.linspace(0.0, 5.0, num=1000)\n",
    "fig, ax = plt.subplots(1, 2, figsize=(12, 4))\n",
    "ax[0].plot(x, np.sin(2.0*np.pi*1.0*x)*np.sin(2.0*np.pi*0.5*x) + 0.1*np.random.randn(len(x)), linewidth=2)\n",
    "ax[1].plot(x, x + np.random.randn(len(x)));"
   ]
  },
  {
   "cell_type": "markdown",
   "metadata": {
    "slideshow": {
     "slide_type": "slide"
    }
   },
   "source": [
    "# Análisis de señales unidimensionales\n",
    "\n",
    "## Contenidos:\n",
    "\n",
    "- Covarianza, correlación y convolución\n",
    "- Serie de Fourier\n",
    "- Transformada de Fourier discreta\n",
    "- Transformada rápida de Fourier"
   ]
  },
  {
   "cell_type": "markdown",
   "metadata": {
    "slideshow": {
     "slide_type": "slide"
    }
   },
   "source": [
    "### Notación\n",
    "\n",
    "- Función de tiempo continuo: $g(t)$\n",
    "- Función de tiempo discreto: $g[n] = g(t_n)$ con $t_n = n T_s, n\\in [0, N]$\n",
    "- Tiempo o intervalo de muestreo: $T_s$\n",
    "\n",
    "\n",
    "<img src=\"images/sampledsignal.png\" width=\"600\">\n"
   ]
  },
  {
   "cell_type": "markdown",
   "metadata": {
    "slideshow": {
     "slide_type": "slide"
    }
   },
   "source": [
    "## Comparando señales: covarianza y correlación cruzada\n",
    "\n",
    "Podemos analizar la similitud entre dos señales $g()$ y $f()$ en función de un retardo $\\tau$ usando el la covarianza cruzada\n",
    "\n",
    "$$ \\text{COV}_{gf}(\\tau) = \\mathbb{E}[(g(t)-\\mu_g)(f(t + \\tau)-\\mu_f)], $$\n",
    "\n",
    "y para procesos discretos con retardo $m$:\n",
    "$$ \\text{COV}_{gf}[m] = \\frac{1}{N} \\sum_{n=1}^N (g[n] - \\bar g)(f[n+m] - \\bar f), $$\n",
    "\n",
    "donde la media de la señal se estima como $ \\bar g = \\frac{1}{N} \\sum_{n=1}^N g[n]$.\n",
    "\n",
    "Si las señales tienen distinta escala es conveniente usar la correlación cruzada\n",
    "\n",
    "$$ \\rho_{gf}[m] = \\frac{\\text{COV}_{gf}[m]}{\\hat \\sigma_g \\hat \\sigma_f}, $$\n",
    "donde la desviación estándar de la señal se estima como $\\hat \\sigma_g = \\frac{1}{N} \\sqrt{\\sum_{n=1}^N (g[n] - \\bar g)^2}$\n",
    "\n",
    "También es de interés comparar una señal consigo misma usando la autocorrelación cruzada\n",
    "$$ \\rho_{gg}[m] = \\frac{\\text{COV}_{gg}[m]}{\\hat \\sigma_g^2}= \\frac{1}{(N-m) \\hat \\sigma_g^2} \\sum_{n=1}^{N-m} (g[n] - \\bar g)(g[n+m] - \\bar g), $$"
   ]
  },
  {
   "cell_type": "code",
   "execution_count": null,
   "metadata": {
    "slideshow": {
     "slide_type": "slide"
    }
   },
   "outputs": [],
   "source": [
    "# Ejemplo: Correlación entre dos señales para encontrar su desface\n",
    "x = np.linspace(0.0, 5.0, num=1000)\n",
    "y1 = (np.exp(-4.0*(x-1.5)**2)); y2 = (np.exp(-4.0*(x-2.5)**2))\n",
    "vary1 = np.mean(y1**2); vary2 = np.mean(y2**2);\n",
    "crosscorr = np.zeros(shape=(1000,))\n",
    "crosscorr[0] = np.sum(y1*y2)/1000\n",
    "for m in range(len(crosscorr)-1):\n",
    "    crosscorr[m+1] = np.sum(y1[:-m-1]*y2[m+1:])/1000\n",
    "\n",
    "fig, ax = plt.subplots(1, 2, figsize=(14, 4))\n",
    "ax[0].plot(x, y1, linewidth=2)\n",
    "ax[0].plot(x, y2, linewidth=2)\n",
    "ax[1].plot(x, crosscorr/np.sqrt(vary1*vary2), linewidth=2);\n",
    "ax[1].plot([x[np.argmax(crosscorr)], x[np.argmax(crosscorr)]], \n",
    "           [0, 1], linewidth=2, linestyle='--');"
   ]
  },
  {
   "cell_type": "code",
   "execution_count": null,
   "metadata": {
    "slideshow": {
     "slide_type": "slide"
    }
   },
   "outputs": [],
   "source": [
    "# Ejemplo: El periódo de la señal corresponde al segundo máximo de la autocorrelación\n",
    "x = np.linspace(0.0, 5.0, num=1000)\n",
    "y = np.sin(2.0*np.pi*1.0*x) + 2.0*np.random.randn(len(x))\n",
    "vary = np.mean(y**2)\n",
    "autocorr = np.zeros(shape=(500,))\n",
    "autocorr[0] = np.mean(y**2)\n",
    "for m in range(499):\n",
    "    autocorr[m+1] = np.mean(y[m+1:]*y[:-m-1])\n",
    "\n",
    "fig, ax = plt.subplots(1, 2, figsize=(14, 4))\n",
    "ax[0].plot(x, y, linewidth=2)\n",
    "ax[1].plot(np.linspace(0, 2.5, 500), autocorr/vary, linewidth=2);"
   ]
  },
  {
   "cell_type": "markdown",
   "metadata": {
    "slideshow": {
     "slide_type": "slide"
    }
   },
   "source": [
    "### Convolución\n",
    "\n",
    "La operación de producto punto entre versiones desplazadas de funciones se llama convolución y se denota con $*$\n",
    "\n",
    "$$\n",
    "(f*g) (\\tau) = \\int g(t) f(\\tau - t) \\,dt = \\int f(t) g(\\tau - t) \\,dt\n",
    "$$\n",
    "La convolución discreta se define como\n",
    "$$\n",
    "(f*g)[m] = \\sum_n f[n] g[n-m]\n",
    "$$\n",
    "las funciónes de covarianza y correlación se pueden escribir como convoluciones"
   ]
  },
  {
   "cell_type": "code",
   "execution_count": null,
   "metadata": {
    "slideshow": {
     "slide_type": "slide"
    }
   },
   "outputs": [],
   "source": [
    "plt.close('all'); fig, ax = plt.subplots(2, figsize=(10, 4))\n",
    "t = np.arange(-4, 4, step=1e-2)\n",
    "\n",
    "def square_pulse(t, a=0, T=1):\n",
    "    s = np.zeros(shape=t.shape)\n",
    "    s[np.absolute(t-a)<T] = 0.5 + 0.5*(t[np.absolute(t-a)<T]-a)/T \n",
    "    return s\n",
    "lap_pulse = lambda t, a=0, s=1 : np.exp(-np.absolute(t-a)/s)\n",
    "conv_s = np.convolve(square_pulse(t), lap_pulse(t), mode='same')\n",
    "\n",
    "def update(a = 0): \n",
    "    ax[0].cla(); ax[1].cla()\n",
    "    p1, p2 = square_pulse(t, 0.1*a - 4), lap_pulse(t)\n",
    "    ax[0].plot(t, p2); ax[0].plot(t, p1); \n",
    "    ax[0].fill_between(t, 0, p1*p2, alpha=0.5)\n",
    "    ax[1].plot(t, conv_s[::-1]); ax[1].scatter(0.1*a -4, np.sum(p1*p2), s=100, c='k')\n",
    "    \n",
    "anim = animation.FuncAnimation(fig, update, frames=80, interval=100, blit=True)"
   ]
  },
  {
   "cell_type": "markdown",
   "metadata": {
    "slideshow": {
     "slide_type": "slide"
    }
   },
   "source": [
    "## Serie de Fourier\n",
    "\n",
    "- La serie o descomposición de Fourier puede usarse para representar y aproximar una **señal periódica** en función de una base trigonométrica ortogonal. Para una señal $g(t)$, que cumple $g(t) = g(t+P) ~ \\forall t$, es decir su período es P y su frecuencia fundamental es $f_0 = 1/P$ se tiene\n",
    "\n",
    "$$\n",
    "g(t) = a_0 + \\sum_{k=1}^{M} a_m \\cos(2\\pi k f_0  t) + b_m \\sin(2\\pi k f_0  t),\n",
    "$$\n",
    "donde los coeficientes\n",
    "$$\n",
    "a_k = 2 f_0 \\int_{0}^{P} g(t) \\cos(2\\pi k f_0  t) \\qquad b_k = 2f_0 \\int_{0}^{P} g(t) \\sin(2\\pi k f_0  t)\n",
    "$$\n",
    "\n",
    "- $f_0$ es la frecuencia fundamental y $k f_0$ es el m-esimo harmónico\n",
    "- Las expresiones de los coeficientes $a_k$ y $b_k$ se específicas de la base de senos y cosenos. \n",
    "- Otras bases ortogonales resulten en coeficientes distintos, e.g. la serie de Fourier exponencial (Lathi & Ding, 2009, Sec. 2.9)"
   ]
  },
  {
   "cell_type": "markdown",
   "metadata": {
    "slideshow": {
     "slide_type": "slide"
    }
   },
   "source": [
    "### Serie de Fourier de un tren de pulsos cuadrádos\n",
    "- Se hacen 2*M sumas de N multiplicaciones\n",
    "- Medimos la calidad de la aproximación en términos del Mean Square Error (MSE)"
   ]
  },
  {
   "cell_type": "code",
   "execution_count": null,
   "metadata": {
    "slideshow": {
     "slide_type": "fragment"
    }
   },
   "outputs": [],
   "source": [
    "# Ejemplo: Serie de Fourier de un pulso cuadrado\n",
    "from scipy.signal import square, sawtooth\n",
    "fig, ax = plt.subplots(1, 3, figsize=(12, 4))\n",
    "x = np.linspace(0.0, 5.0, num=200); y = square(2 * np.pi * 1 * x)\n",
    "\n",
    "def fourier_series_square(n=1):\n",
    "    tmp = 0.0;\n",
    "    for axis in ax:\n",
    "        axis.cla()\n",
    "    ax[0].plot(x, y, linewidth=4, alpha=0.5)\n",
    "    for n in range(n):\n",
    "        a = 2*np.mean(y*np.cos(2.0*np.pi*(n+1)*x))\n",
    "        b = 2*np.mean(y*np.sin(2.0*np.pi*(n+1)*x))\n",
    "        component = a*np.cos(2.0*np.pi*(n+1)*x) + b*np.sin(2.0*np.pi*(n+1)*x)\n",
    "        tmp += component; ax[0].plot(x, component); \n",
    "        ax[2].stem([n+1], [a**2 + b**2])\n",
    "    ax[1].plot(x, np.mean(y)+tmp, linewidth=4, alpha=0.5); plt.tight_layout(); \n",
    "    ax[1].set_title(\"MSE: %0.4f\" % np.mean((y-np.mean(y) - tmp)**2));\n",
    "interactive_plot = interact(fourier_series_square, \n",
    "                            n=IntSlider(min=1, max=20, description=\"N Components\", layout=slider_layout));"
   ]
  },
  {
   "cell_type": "markdown",
   "metadata": {
    "slideshow": {
     "slide_type": "slide"
    }
   },
   "source": [
    "### Visualización de componentes de Fourier en coordenadas polares\n",
    "\n",
    "La serie de Fourier también se puede expresar en coordenadas polares como\n",
    "\n",
    "$$\n",
    "g(t) = c_0 + \\sum_{k=1}^{M} c_k \\cos(2\\pi f_0 k t + \\phi_k) \n",
    "$$\n",
    "en términos de la magnitud y fase definidos como\n",
    "$$\n",
    "c_k = \\sqrt{a_k^2 + b_k^2}  \\qquad \\phi_k = \\tan^{-1} \\left( \\frac{-b_k}{a_k} \\right)\n",
    "$$\n",
    "\n",
    "Entendido esto observe la siguiente visualización interactiva de serie de Fourier\n",
    "\n",
    "https://bl.ocks.org/jinroh/7524988\n",
    "\n"
   ]
  },
  {
   "cell_type": "markdown",
   "metadata": {
    "slideshow": {
     "slide_type": "slide"
    }
   },
   "source": [
    "### Número complejo en forma polar\n",
    "\n",
    "El número de euler\n",
    "$$\n",
    "\\exp \\left(-j 2\\pi f t \\right) = \\cos(2\\pi f t) - j \\sin(2 \\pi f t),\n",
    "$$\n",
    "donde $j = \\sqrt{-1}$. Un número complejo cualquiera se puede escribir como\n",
    "$$\n",
    "z = a - j b = |z| \\exp \\left(-j \\phi \\right),\n",
    "$$\n",
    "con\n",
    "$$\n",
    "|z| = \\sqrt{a^2 + b^2} \\qquad \\phi = \\tan^{-1}(b/a)\n",
    "$$\n"
   ]
  },
  {
   "cell_type": "code",
   "execution_count": null,
   "metadata": {
    "slideshow": {
     "slide_type": "fragment"
    }
   },
   "outputs": [],
   "source": [
    "from matplotlib import patches\n",
    "fig = plt.figure(); ax = fig.add_subplot(1,1,1);\n",
    "ax.arrow(0, 0, np.sqrt(0.5), np.sqrt(0.5));\n",
    "plt.text(x=-0.1, y=0.5, s=\"b\", fontsize=30); plt.text(x=0.5, y=-.1, s=\"a\", fontsize=30);\n",
    "plt.text(x=0.25, y=0.5, s=\"$\\mid z \\mid$\", fontsize=30); plt.text(x=0.3, y=0.1, s=\"$\\phi$\", fontsize=30);\n",
    "ax.arrow(0, 0, 1, 0); ax.arrow(0, 0, 0, 1); p = patches.Circle(xy=(0, 0), radius=1, alpha=0.1);\n",
    "ax.add_artist(p); plt.axis('equal'); plt.xlim([-0.5 , 1.5]); plt.ylim([-0.5 , 1.5]);"
   ]
  },
  {
   "cell_type": "markdown",
   "metadata": {
    "slideshow": {
     "slide_type": "slide"
    }
   },
   "source": [
    "## Transformada de Fourier\n",
    "\n",
    "El análisis de serie de Fourier se puede extender al caso de una señal en un intervalo finito de tiempo. En este límite se encuentra la transformada de Fourier para una base **trigonométrica compleja**\n",
    "\n",
    "\\begin{align}\n",
    "G(f) &= \\mathcal{F}[g(t)] = \\int_{-\\infty}^{\\infty} g(t) \\exp(-j2\\pi f t) \\,dt \\\\\n",
    "&= \\int_{-\\infty}^{\\infty} g(t) \\cos(2\\pi f t) \\,dt - j \\int_{-\\infty}^{\\infty} g(t) \\sin(2\\pi f t) \\,dt\n",
    "\\end{align}\n",
    "\n",
    "**Propiedad:** La transformada de Fourier es reversible\n",
    "\\begin{align}\n",
    "g(t) &= \\mathcal{F}^{-1}[G(f)] =\\int_{-\\infty}^{\\infty} G(f) \\exp(j2\\pi f t) \\,df \\\\\n",
    "&= \\int_{-\\infty}^{\\infty} G(f) \\cos(2\\pi f t) \\,df + j \\int_{-\\infty}^{\\infty} G(f) \\sin(2\\pi f t) \\,df\n",
    "\\end{align}\n",
    "\n",
    "Es usual descomponer la transformada de Fourier en el espectro de amplitud y el espectro de fase\n",
    "\n",
    "$$\n",
    "G(f) = |G(f)| \\exp({j\\varphi(f)})\n",
    "$$\n",
    "\n",
    "**Propiedad:** La convolución en el tiempo se convierte en multiplicación en frecuencia y viceverza (Lathi & Ding, 2009, Sec 3.3.6)\n",
    "\n",
    "$$\n",
    "\\mathcal{F}[g(t)*y(t)] = \\mathcal{F}[g(t)] \\mathcal{F}[y(t)] = G(f) Y(f)\n",
    "$$\n",
    "\n",
    "**Propiedad:** La transformada de Fourier es un operador lineal\n",
    "\n",
    "\\begin{align}\n",
    "\\mathcal{F}[a g_1(t) + b g_2(t) ] &= a\\mathcal{F}[g_1(t)] + b \\mathcal{F}[g_2(t) ] \\\\ &= a G_1(f) + b G_2(f)\n",
    "\\end{align}\n",
    "\n",
    "**Propiedad:** Dualidad de la transformada de Fourier, si conocemos $g(t)$ y su transformada $G(f)$, entonces la transformada de $G$\n",
    "\n",
    "$$\n",
    "\\mathcal{F}[G(t) ] = g(-f)\n",
    "$$"
   ]
  },
  {
   "cell_type": "markdown",
   "metadata": {
    "slideshow": {
     "slide_type": "slide"
    }
   },
   "source": [
    "## Transformada de Fourier\n",
    "\n",
    "**Teorema de Parseval/Teorema de energia de Rayleigh**: \n",
    "\n",
    "$$\n",
    "\\int_{-\\infty}^{\\infty} |g(t)|^2 \\,dt = \\int_{-\\infty}^{\\infty} |G(f)|^2 \\,df\n",
    "$$\n",
    "\n",
    "- La energía de una señal se preserva. La transformada de Fourier no pierde información. (Lathi & Ding, 2009, Sec 3.7.1)\n",
    "\n",
    "**Teorema de Wiener-Khinchin**:\n",
    "\n",
    "$$\n",
    "|G(f)|^2 = \\int_{-\\infty}^{\\infty} \\rho_{gg}(\\tau) \\exp({-j2\\pi f \\tau }) \\,dt = \\mathcal{F}[\\rho_{gg}(\\tau)]\n",
    "$$\n",
    "$$\n",
    "\\rho_{gg}(\\tau) = \\int_{-\\infty}^{\\infty} |G(f)|^2 \\exp({j2\\pi\\tau f}) \\,df  = \\mathcal{F}^{-1}[|G(f)|^2]\n",
    "$$\n",
    "\n",
    "- La transformada de Fourier de la autocorrelación es la *densidad espectral de potencia* y viceverza (Lathi & Ding, 2009, 3.7.5). \n",
    "- La densidad espectral es la potencia asignada a cada frecuencia de la señal\n"
   ]
  },
  {
   "cell_type": "markdown",
   "metadata": {
    "slideshow": {
     "slide_type": "slide"
    }
   },
   "source": [
    "### Transformada de Fourier de una delta de Dirac (impulso en el tiempo)\n",
    "La definición de la delta de Dirac \n",
    "\\begin{equation}\n",
    "g(t) = \\delta(t-\\widehat a) = 0  ~~ \\text{para}  ~~ t \\neq \\widehat a  ~~ \\text{con} ~~ \\int_{-\\infty}^{\\infty} \\delta(t) \\,dt = 1\n",
    "\\end{equation}\n",
    "La delta cumple las siguiente propiedad (Sifting)\n",
    "\n",
    "$$ \n",
    "\\int_{-\\infty}^{\\infty} \\delta(t-\\widehat a)  g(t) \\,dt = g(\\widehat a)\n",
    "$$\n",
    "\n",
    "Luego su transformada de Fourier\n",
    "\\begin{align}\n",
    "G(f) = \\mathcal{F} [g(t)] &= \\int \\delta(t-\\widehat a) \\exp({-j 2 \\pi f t}) \\,dt \\\\\n",
    "&= \\exp(-j 2 \\pi f \\widehat a)\n",
    "\\end{align}\n",
    "\n",
    "Además notar que para $\\widehat a = 0$\n",
    "\n",
    "$$\n",
    "\\mathcal{F} [\\delta(t)] = 1\n",
    "$$\n",
    "\n",
    "Finalmente consideremos la transformada inversa\n",
    "\\begin{align}\n",
    "\\delta(t - \\widehat a) = \\mathcal{F}^{-1} [G(f)] &= \\int \\exp(-j 2 \\pi f \\widehat a) \\exp(j 2 \\pi f t) \\,df \\\\ &= \\int  \\exp \\left(j 2 \\pi f (t-\\widehat a) \\right)  \\,df \n",
    "\\end{align}\n"
   ]
  },
  {
   "cell_type": "markdown",
   "metadata": {
    "slideshow": {
     "slide_type": "slide"
    }
   },
   "source": [
    "### Transformada de Fourier de una exponencial compleja\n",
    "Sea una exponencial compleja\n",
    "\n",
    "$$\n",
    "g(t) = \\exp (j 2 \\pi \\widehat f t)\n",
    "$$\n",
    "\n",
    "Por lo visto antes su transformada de Fourier\n",
    "\n",
    "\\begin{align}\n",
    "G(f) = \\mathcal{F} [g(t)] &= \\int \\exp(j 2 \\pi \\widehat f t) \\exp({-j 2 \\pi f t}) \\,dt \\\\\n",
    "&= \\int \\exp \\left(-j 2 \\pi ( f - \\widehat f) t\\right) \\,dt \\\\ &= \\delta(f - \\widehat f)\n",
    "\\end{align}\n",
    "\n",
    "La transformada de Fourier de la exponencial compleja es un impulso desplazado en frecuencia!"
   ]
  },
  {
   "cell_type": "code",
   "execution_count": null,
   "metadata": {
    "slideshow": {
     "slide_type": "fragment"
    }
   },
   "outputs": [],
   "source": [
    "fig, ax = plt.subplots(1, 2, figsize=(12, 3))\n",
    "t = np.linspace(0,10, num=1000); \n",
    "y = np.cos(2.0*np.pi*t); ax[0].plot(t, y, c='k');\n",
    "y = np.sin(2.0*np.pi*t); ax[0].plot(t, y, c='r');\n",
    "ax[1].arrow(1, 0, 0, 1, head_width=0.05, head_length=0.1, linewidth=2,fc='k', ec='k')\n",
    "ax[1].plot([-2, 2], [0, 0], linestyle='--', linewidth=2, c='k')\n",
    "ax[1].set_xlim([-2 , 2]); ax[1].set_ylim([-2 , 2]);"
   ]
  },
  {
   "cell_type": "markdown",
   "metadata": {
    "slideshow": {
     "slide_type": "slide"
    }
   },
   "source": [
    "### Transformada de Fourier de un coseno\n",
    "Sea \n",
    "\n",
    "$$\n",
    "g(t) = \\cos( 2 \\pi \\widehat f t) = \\frac{1}{2} \\left( \\exp(2 \\pi \\widehat f t) + \\exp(-2 \\pi \\widehat f t) \\right)\n",
    "$$\n",
    "\n",
    "Por lo visto antes su transformada de Fourier\n",
    "\\begin{align}\n",
    "G(f) = \\mathcal{F} [g(t)] &= \\frac{1}{2} \\int \\left( \\exp(2 \\pi \\widehat f t) + \\exp(-2 \\pi \\widehat f t) \\right) \\exp(-j 2 \\pi f t) \\,dt \\\\\n",
    "&= \\frac{1}{2} \\int \\exp \\left(-j 2 \\pi ( f - \\widehat f) t\\right ) \\,dt  + \\frac{1}{2} \\int \\exp \\left(-j 2 \\pi (  f +  \\widehat f) t \\right) \\,dt \\\\\n",
    "&= \\frac{1}{2}  \\left( \\delta(f - \\widehat f) + \\delta( f + \\widehat f) \\right)\n",
    "\\end{align}\n",
    "La transformada de Fourier de la exponencial compleja es un impulso desplazado en frecuencia!"
   ]
  },
  {
   "cell_type": "code",
   "execution_count": null,
   "metadata": {
    "slideshow": {
     "slide_type": "fragment"
    }
   },
   "outputs": [],
   "source": [
    "fig, ax = plt.subplots(1, 2, figsize=(12, 3))\n",
    "t = np.linspace(0,10, num=1000); \n",
    "y = np.cos(2.0*np.pi*t); ax[0].plot(t, y, c='k');\n",
    "ax[1].arrow(1, 0, 0, 1, head_width=0.05, head_length=0.1, linewidth=2,fc='k', ec='k')\n",
    "ax[1].arrow(-1, 0, 0, 1, head_width=0.05, head_length=0.1, linewidth=2,fc='k', ec='k')\n",
    "ax[1].plot([-2, 2], [0, 0], linestyle='--', linewidth=2, c='k')\n",
    "ax[1].set_xlim([-2 , 2]); ax[1].set_ylim([-2 , 2]);"
   ]
  },
  {
   "cell_type": "markdown",
   "metadata": {
    "slideshow": {
     "slide_type": "slide"
    }
   },
   "source": [
    "### Transformada de Fourier de funciones comunes  \n",
    "- Gaussiana en el tiempo: Gaussiana en frecuencia\n",
    "- Rectangulo en el tiempo: Sinc en frecuencia\n",
    "- Sinusoide en el tiempo: Impulso en frecuencia \n",
    "\n",
    "Referencias\n",
    "- (Lathi & Ding, 2009, Sec 3.2)\n",
    "- http://www.thefouriertransform.com/pairs/fourier.php"
   ]
  },
  {
   "cell_type": "markdown",
   "metadata": {
    "slideshow": {
     "slide_type": "slide"
    }
   },
   "source": [
    "## Transformada de Fourier discreta (DFT)\n",
    "\n",
    "Para computar la transformada de Fourier sobre señales muestreadas (discretas) usamos la DFT. El resultado es una transformada de Fourier definida en un conjunto discreto de frecuencias\n",
    "\n",
    "Sea una señal discreta $g[n]$ con  $n \\in [0, N-1]$ y tiempo de muestreo $T_s$, es decir $t[n] = n T_s$. La DFT se define como\n",
    "\n",
    "$$\n",
    "G[k] = \\sum_{n=0}^{N-1} g[n]  \\exp \\left(-j2\\pi f[k] t[n] \\right) = \\sum_{n=0}^{N-1} g[n] \\exp \\left( -j 2\\pi \\frac{k n}{N} \\right) ,\n",
    "$$\n",
    "\n",
    "donde $f[k] = k f_0 ~~ \\forall k \\in [-\\frac{(N-1)}{2}, \\frac{(N-1)}{2}]$, $f_0 = \\frac{F_s}{N}$, $F_s = \\frac{1}{T_s}$ y $t[n] = n T_s$\n",
    "\n",
    "La DFT es también invertible\n",
    "\n",
    "$$\n",
    "g[n] = \\frac{1}{N} \\sum_{k=0}^{N-1} G[k]  \\exp \\left( j2\\pi \\frac{k n}{N} \\right)\n",
    "$$\n",
    "\n",
    "Notar que N puntos en el tiempo se mapean con N frecuencias independientes"
   ]
  },
  {
   "cell_type": "markdown",
   "metadata": {
    "slideshow": {
     "slide_type": "slide"
    }
   },
   "source": [
    "## Transformada de Fourier discreta (DFT)\n",
    "\n",
    "Interpretación matricial de la DFT\n",
    "$$\n",
    "G[k] = \\sum_{n=0}^{N-1} g[n] \\exp \\left(-j2\\pi f[k] t[n]\\right) = \\sum_{n=0}^{N-1} g[n] \\exp \\left(-j2\\pi \\frac{k n}{N}\\right) \n",
    "$$\n",
    "\n",
    "$$\n",
    "f = -\\frac{F_s}{2}, \\ldots,  0, ~\\frac{F_s}{N}, ~2 \\frac{F_s}{N} , ~3 \\frac{F_s}{N}, \\ldots, ~\\frac{F_s}{2} \n",
    "\\qquad \n",
    "t = 0, ~ T_s, ~2 T_s , ~3 T_s, \\ldots, ~(N-1) T_s \n",
    "$$\n",
    "\n",
    "\\begin{align}\n",
    "\\begin{bmatrix}\n",
    "    \\exp \\left(-j2\\pi f[-\\frac{(N-1)}{2}] t[0] \\right) & \\exp \\left(-j2\\pi f[-\\frac{(N-1)}{2}] t[1]\\right) & \\dots & \\exp \\left(-j2\\pi f[-\\frac{(N-1)}{2}] t[N-1]\\right) \\\\\n",
    "    \\vdots & \\vdots & \\ddots & \\vdots\\\\\n",
    "    \\exp \\left(-j2\\pi f[0] t[0]\\right) & \\exp \\left(-j2\\pi f[0] t[1]\\right) & \\dots & \\exp \\left(-j2\\pi f[0] t[N-1]\\right) \\\\\n",
    "    \\vdots & \\vdots & \\ddots & \\vdots\\\\\n",
    "    \\exp \\left(-j2\\pi f[\\frac{(N-1)}{2}] t[0]\\right) & \\exp \\left(-j2\\pi f[\\frac{(N-1)}{2}] t[1]\\right) & \\dots & \\exp \\left(-j2\\pi f[\\frac{(N-1)}{2}] t[N-1]\\right) \\\\\n",
    "\\end{bmatrix}\n",
    "\\begin{bmatrix}\n",
    "    g[0] \\\\\n",
    "    g[1] \\\\\n",
    "    g[2] \\\\\n",
    "    \\vdots \\\\\n",
    "    g[N-1] \\\\\n",
    "\\end{bmatrix}\n",
    "&=\n",
    "\\begin{bmatrix}\n",
    "    G[-\\frac{(N-1)}{2}] \\\\\n",
    "    \\vdots \\\\\n",
    "    G[0] \\\\\n",
    "    \\vdots \\\\\n",
    "    G[\\frac{(N-1)}{2}] \\\\\n",
    "\\end{bmatrix} \\\\\n",
    "D_{ft} g &= G\n",
    "\\end{align}\n",
    "\n",
    "- Multiplicación entre una matriz de NxN y un vector de Nx1\n",
    "- N sumas de N multiplicaciones, complejidad cuadrática"
   ]
  },
  {
   "cell_type": "markdown",
   "metadata": {
    "slideshow": {
     "slide_type": "slide"
    }
   },
   "source": [
    "### Ejemplo: Espectro con DFT matricial\n"
   ]
  },
  {
   "cell_type": "code",
   "execution_count": null,
   "metadata": {
    "slideshow": {
     "slide_type": "fragment"
    }
   },
   "outputs": [],
   "source": [
    "fig, ax = plt.subplots(3, 2, figsize=(12, 8), tight_layout=True)\n",
    "x = np.linspace(0.0, 5.0, num=200); \n",
    "f = np.arange(0.0, 0.5*200/20.0, step=1.0/20.0)\n",
    "tf = 2.0*np.pi*x[:, np.newaxis]*f[:,np.newaxis].T\n",
    "def espectro_matricial(y):\n",
    "    Yreal = np.dot(y, np.cos(tf)); Yimag = -np.dot(y, np.sin(tf));\n",
    "    return np.sqrt(Yreal**2 + Yimag**2)\n",
    "y = np.sin(2.0*np.pi*1.0*x)\n",
    "ax[0, 0].plot(x, y, linewidth=2); ax[0, 0].set_title('Señal')\n",
    "ax[0, 1].plot(f, espectro_matricial(y)); ax[0, 1].set_title('Espectro de amplitud')\n",
    "# ax.plot(f, np.arctan2(-Yimag, Yreal)); ax.set_title('Espectro de fase')\n",
    "y = np.sin(2.0*np.pi*1.0*x) + 0.5*np.cos(2.0*np.pi*2.5*x)\n",
    "ax[1,0].plot(x, y, linewidth=2); ax[1,1].plot(f, espectro_matricial(y)); \n",
    "y = 0.5 + 0.5*np.sin(2.0*np.pi*1.231412431*x)//1.1\n",
    "ax[2,0].plot(x, y, linewidth=2); ax[1,0].set_xlabel(\"Tiempo [s]\");\n",
    "ax[2,1].plot(f, espectro_matricial(y)); ax[2,1].set_xlabel(\"Frecuencia [Hz]\");\n"
   ]
  },
  {
   "cell_type": "markdown",
   "metadata": {
    "slideshow": {
     "slide_type": "slide"
    }
   },
   "source": [
    "### Autocorrelación y espectro\n"
   ]
  },
  {
   "cell_type": "code",
   "execution_count": null,
   "metadata": {
    "slideshow": {
     "slide_type": "fragment"
    }
   },
   "outputs": [],
   "source": [
    "x = np.linspace(0.0, 5.0, num=200)\n",
    "y = np.sin(2.0*np.pi*1.0*x)\n",
    "fig = plt.figure(figsize=(10, 5))\n",
    "f = np.arange(0.0, 0.5*200/5.0, step=1.0/5.0)\n",
    "tf = 2.0*np.pi*x[:, np.newaxis]*f[:,np.newaxis].T\n",
    "Yreal = np.dot(y, np.cos(tf)); Yimag = -np.dot(y, np.sin(tf));\n",
    "ax = fig.add_subplot(2, 2, 1); ax.plot(f, np.sqrt(Yreal**2 + Yimag**2)); ax.set_title('Amplitude spectrum')\n",
    "autocorr = np.dot(np.sqrt(Yreal**2 + Yimag**2), np.cos(tf).T)/len(x)\n",
    "ax = fig.add_subplot(2, 2, 2); ax.plot(x, autocorr, linewidth=2);  ax.set_title('Autocorrelation'); \n",
    "y = 0.5 + 0.5*np.sin(2.0*np.pi*1.0*x)//1.1\n",
    "Yreal = np.dot(y, np.cos(tf)); Yimag = -np.dot(y, np.sin(tf));\n",
    "ax = fig.add_subplot(2, 2, 3); ax.plot(f, np.sqrt(Yreal**2 + Yimag**2)); ax.set_xlabel(\"Frequency [Hz]\");\n",
    "autocorr = np.dot(np.sqrt(Yreal**2 + Yimag**2), np.cos(tf).T)/len(x)\n",
    "ax = fig.add_subplot(2, 2, 4); ax.plot(x, autocorr, linewidth=2); ax.set_xlabel(\"Lag [s]\");\n",
    "plt.tight_layout(pad=0.1);"
   ]
  },
  {
   "cell_type": "markdown",
   "metadata": {
    "slideshow": {
     "slide_type": "slide"
    }
   },
   "source": [
    "### Ejemplo: DFT de un pulso cuadrádo"
   ]
  },
  {
   "cell_type": "code",
   "execution_count": null,
   "metadata": {
    "slideshow": {
     "slide_type": "fragment"
    }
   },
   "outputs": [],
   "source": [
    "fig, ax = plt.subplots(1, 2, figsize=(10, 4))\n",
    "def update(d=5.0):\n",
    "    x = np.linspace(-2.0, 2.0, num=200); y = np.zeros(shape=x.shape); y[(x > -0.5*d) & (0.5*d>x)] = 1;\n",
    "    ax[0].cla(); ax[1].cla();\n",
    "    ax[0].plot(x, y, linewidth=4); ax[0].set_xlabel(\"Tiempo [s]\");\n",
    "    f = np.arange(-2, 2, step=0.02)\n",
    "    tf = 2.0*np.pi*x[:, np.newaxis]*f[:,np.newaxis].T\n",
    "    Yreal = np.dot(y, np.cos(tf)); # Yimag is zero because y is symmetric\n",
    "    ax[1].plot(f, Yreal, linewidth=4, alpha=0.5, label='spectrum'); ax[1].set_xlabel(\"Frecuencia [Hz]\");\n",
    "    ax[1].plot(f, (200/4)*d*np.sin(np.pi*f*d)/(np.pi*f*d), linewidth=4, alpha=0.5, label='sinc(pi f)'); \n",
    "    plt.legend(); \n",
    "interactive_plot = interact(update, d=FloatSlider(min=0.1, max=3.9, description=\"Pulse width\", \n",
    "                                                  layout=slider_layout));"
   ]
  },
  {
   "cell_type": "markdown",
   "metadata": {
    "slideshow": {
     "slide_type": "slide"
    }
   },
   "source": [
    "## Efecto del muestreo en el espectro \n",
    "\n",
    "- Podemos interpretar que una señal discreta se obtiene de multiplicar una señal continua por un tren de pulsos (filtro peineta)\n",
    "- Esto corresponde a convolucionar el espectro por la transformada del filtro\n",
    "- El espectro de una señal discreta en el tiempo es periódico!\n",
    "- **Teorema de Nyquist-Shannon**: Una señal muestreada con frecuencia $F_s = 1/\\Delta t$ puede reconstruirse sin pérdida de información ssi no contiene frecuencias mayores que $F_s/2$ (Nyquist frequency)\n",
    "- El traslape del espectro cuando $F_s$ es muy bajo caso se conoce como **aliasing**\n",
    "\n",
    "<table><tr><td><img src=\"images/sampling1.png\" > </td><td><img src=\"images/sampling2.png\" ></td></tr></table>\n",
    "-  Figura tomada de www.astroml.org"
   ]
  },
  {
   "cell_type": "code",
   "execution_count": null,
   "metadata": {
    "slideshow": {
     "slide_type": "slide"
    }
   },
   "outputs": [],
   "source": [
    "fig, ax = plt.subplots(1, 3, figsize=(10, 4))\n",
    "x_true = np.linspace(-5, 5, num=100); \n",
    "y_true =  np.exp(-3*(x_true)**2)/np.sqrt(2.0*np.pi)\n",
    "from scipy import fftpack as fft\n",
    "\n",
    "def update(num=50):\n",
    "    [ax_.cla() for ax_ in ax]\n",
    "    x = np.linspace(-5, 5, num=num); y =  np.exp(-3*(x)**2)/np.sqrt(2.0*np.pi)\n",
    "    ax[0].plot(x_true, y_true, '-', linewidth=4); \n",
    "    ax[0].set_xlabel(\"Time [s]\"); ax[0].plot(x, y, 'o', linewidth=4); \n",
    "    S = fft.fft(y, n=len(x))\n",
    "    f = fft.fftshift(fft.fftfreq(n=len(x), d=10/num))\n",
    "    ax[1].plot(f, fft.fftshift(np.abs(S)), linewidth=4, alpha=0.5);\n",
    "    ax[1].set_xlabel(\"Frequency [Hz]\"); ax[1].set_xlim([-3, 3]); \n",
    "    y_hat = fft.ifft(S)\n",
    "    ax[2].plot(x, np.real(y_hat), linewidth=4)\n",
    "    ax[2].set_xlabel(\"Time [s]\"); \n",
    "interactive_plot = interact(update, num=SelectionSlider_nice(options=[50, 40, 30, 20, 10]))"
   ]
  },
  {
   "cell_type": "markdown",
   "metadata": {
    "slideshow": {
     "slide_type": "slide"
    }
   },
   "source": [
    "## Efecto del muestreo en el espectro \n",
    "\n",
    "- Una señal muestreada a frecuencia $F_s [Hz]$ y de largo $T [s]$ tiene $N= F_s T$ puntos. \n",
    "- Podemos interpretar que la señal truncada en $[0, T]$ es en realidad una señal continua multiplicada por un rectangulo de ancho $T$\n",
    "- Esto equivale a convolucionar el espectro con un $T\\text{sinc}(\\pi f T)$\n",
    "- Se produce un artefacto denominado \"spectral leakage\", el cual se puede eliminar usando \"enventanado\"\n",
    "\n",
    "Ref: https://docs.scipy.org/doc/numpy-1.14.0/reference/generated/numpy.kaiser.html"
   ]
  },
  {
   "cell_type": "code",
   "execution_count": null,
   "metadata": {
    "slideshow": {
     "slide_type": "skip"
    }
   },
   "outputs": [],
   "source": [
    "fig, ax = plt.subplots(1, 2, figsize=(10, 4))\n",
    "\n",
    "def update(d=5.0):\n",
    "    [ax_.cla() for ax_ in ax]\n",
    "    x = np.linspace(-d, d, num=200); y =  np.exp(-0.5*(x)**2)/np.sqrt(2.0*np.pi)\n",
    "    ax[0].plot(x, y, linewidth=4); ax[0].set_xlabel(\"Time [s]\");\n",
    "    S = fft.fftshift(fft.fft(y))\n",
    "    f = fft.fftshift(fft.fftfreq(n=len(x), d=d/100))\n",
    "    ax[1].plot(f, np.abs(S), linewidth=4, alpha=0.5, label='Spectrum'); \n",
    "    ax[1].plot(f, (0.5*len(x)/d)*np.exp(-0.5*(2*np.pi*f)**2), \n",
    "               linewidth=4, alpha=0.5, label='$e^{-w^2/2}$'); \n",
    "    ax[1].set_xlabel(\"Frequency [Hz]\"); plt.legend(); plt.xlim([-2.5, 2.5]); \n",
    "interactive_plot = interact(update, d=FloatSlider_nice(min=0.1, max=10.0, value=10.0));"
   ]
  },
  {
   "cell_type": "code",
   "execution_count": null,
   "metadata": {
    "slideshow": {
     "slide_type": "fragment"
    }
   },
   "outputs": [],
   "source": [
    "fig, ax = plt.subplots(1, 2, figsize=(10, 4)); \n",
    "\n",
    "def kaiser_windowing(beta=0.5):\n",
    "    [ax_.cla() for ax_ in ax]\n",
    "    x = np.linspace(0.0, 1.0, num=400)\n",
    "    y = np.sin(2.0*np.pi*26.8*x)\n",
    "    ax[0].plot(x, y, linewidth=2); \n",
    "    S = fft.fftshift(fft.fft(y))\n",
    "    f = fft.fftshift(fft.fftfreq(n=len(x), d=1/len(x)))\n",
    "    ax[1].plot(f, np.abs(S)); \n",
    "    ax[0].plot(x, np.kaiser(len(x), beta=beta)); ywin = y*np.kaiser(len(x), beta=beta);\n",
    "    S = fft.fftshift(fft.fft(ywin))\n",
    "    ax[1].plot(f, np.abs(S)); ax[1].set_title('Espectro de amplitud'); \n",
    "interactive_plot = interact( kaiser_windowing, \n",
    "                            beta=FloatSlider_nice(min=0, max=10.0, value=5.0))"
   ]
  },
  {
   "cell_type": "markdown",
   "metadata": {
    "slideshow": {
     "slide_type": "slide"
    }
   },
   "source": [
    "## Transformada rápida de Fourier\n",
    "\n",
    "La computación de la DFT tiene complejidad $\\mathcal{O}(N^2)$. Existe una aproximación numérica con complejidad $\\mathcal{O}(N\\log N)$: la Fast Fourier Transform (FFT). \n",
    "\n",
    "El algoritmo de Cooley-Tukey obtiene una FFT recursiva que explota las simentrías en la DFT.  \n",
    "\n",
    "\\begin{align}\n",
    "G[k] &=  \\sum_{n=0}^{N-1} g_n \\exp \\left(-j2\\pi \\frac{k n}{N} \\right) \\\\\n",
    "&= \\sum_{n=0}^{N/2-1} g_{2n} \\exp \\left(-j2\\pi \\frac{k 2n}{N}  \\right) + \\sum_{n=0}^{N/2-1} g_{2n+1} \\exp \\left(-j2\\pi \\frac{k (2n+1)}{N} \\right) \\\\\n",
    "&= \\sum_{n=0}^{N/2-1} g_{2n} \\exp \\left(-j2\\pi \\frac{k n}{N/2} \\right) + \\exp \\left(-j2\\pi  \\frac{k}{N} \\right) \\sum_{k=0}^{N/2-1} g_{2n+1} \\exp \\left(-j2\\pi \\frac{k n}{N/2} \\right) \\\\ \n",
    "&= G_E[k] + \\exp \\left( -j2\\pi \\frac{k}{N} \\right) G_O[k] ~~ \\forall k \\in [0,N/2] \n",
    "\\end{align} \n",
    "\n",
    "Notar que se calculan dos \"medias\" DFT"
   ]
  },
  {
   "cell_type": "markdown",
   "metadata": {
    "hideCode": false,
    "slideshow": {
     "slide_type": "slide"
    }
   },
   "source": [
    "## Transformada rápida de Fourier\n",
    "\n",
    "Notemos que \n",
    "\n",
    "$$\n",
    " \\exp \\left(-j2\\pi \\frac{k+ N/2}{N}\\right) = \\exp \\left(-j2\\pi \\frac{k}{N} \\right) \\exp \\left(-j\\pi\\right) =  - \\exp \\left(-j2\\pi \\frac{k}{N} \\right)\n",
    "$$\n",
    "\n",
    "Además por periodicidad/simetría de la DFT\n",
    "\\begin{align}\n",
    "G_E[k + N/2] &=  \\sum_{n=0}^{N/2-1} g_{2n} \\exp \\left( -j2\\pi \\frac{(k+ N/2)n}{N/2} \\right) \\\\\n",
    "&= \\sum_{n=0}^{N/2-1} g_{2n} \\exp \\left(-j2\\pi \\frac{k n}{N/2} \\right)  \\exp \\left(-j2\\pi n \\right) = G_E[k]\n",
    "\\end{align}\n",
    "\n",
    "Finalmente\n",
    "\\begin{align}\n",
    "G[k] &=  G_E[k] + \\exp \\left( -j2\\pi \\frac{k}{N} \\right) G_O[k] ~~~ \\forall k \\in [0,N/2] \\\\\n",
    "G[k + N/2] &=  G_E[k + N/2] - \\exp \\left( -j2\\pi \\frac{k}{N} \\right) G_O[k + N/2] \\\\\n",
    " &=  G_E[k] - \\exp \\left( -j2\\pi \\frac{k}{N} \\right) G_O[k] \\\\\n",
    "\\end{align}\n",
    "\n",
    "Usamos los mismos cálculos para dos coeficientes frecuenciales $k$ y $k + N/2$"
   ]
  },
  {
   "cell_type": "markdown",
   "metadata": {
    "slideshow": {
     "slide_type": "slide"
    }
   },
   "source": [
    "Podemos continuar dividiendo y ahorrando computos hasta llegar a $N\\log N$ productos\n",
    "<img src=\"images/FFT.gif\" width=\"600\">"
   ]
  },
  {
   "cell_type": "markdown",
   "metadata": {
    "slideshow": {
     "slide_type": "slide"
    }
   },
   "source": [
    "## Transformada rápida de Fourier\n",
    "\n",
    "- Python: numpy.fft y scipy.fftpack\n",
    "- C: The Fastest Fourier Transform in the WEst (FFTW)\n",
    "- Para FFTW existen python wrappers"
   ]
  },
  {
   "cell_type": "code",
   "execution_count": null,
   "metadata": {},
   "outputs": [],
   "source": [
    "from scipy import fftpack as fft\n",
    "fft?"
   ]
  },
  {
   "cell_type": "code",
   "execution_count": null,
   "metadata": {
    "slideshow": {
     "slide_type": "fragment"
    }
   },
   "outputs": [],
   "source": [
    "x = np.linspace(-10.0, 10.0, num=1000); \n",
    "y = np.sin(2.0*np.pi*2.0*x) \n",
    "freq = np.arange(-25, 25, step=1.0/20);\n",
    "xf = 2.0*np.pi*x[:, np.newaxis]*freq[:, np.newaxis].T\n",
    "%timeit -n 10 Yreal = np.dot(y, np.cos(xf)); Yimag = -np.dot(y, np.sin(xf))\n",
    "%timeit -n 10 S = fft.fftshift(fft.fft(y)) "
   ]
  },
  {
   "cell_type": "markdown",
   "metadata": {
    "slideshow": {
     "slide_type": "slide"
    }
   },
   "source": [
    "<img src=\"images/fftpack_scipy.png\" width=\"600\">\n",
    "\n",
    "<a href=\"https://docs.scipy.org/doc/scipy/reference/generated/scipy.fftpack.fft.html#scipy.fftpack.fft\">docs.scipy.org</a>"
   ]
  }
 ],
 "metadata": {
  "celltoolbar": "Slideshow",
  "hide_code_all_hidden": false,
  "kernelspec": {
   "display_name": "Python 3",
   "language": "python",
   "name": "python3"
  },
  "language_info": {
   "codemirror_mode": {
    "name": "ipython",
    "version": 3
   },
   "file_extension": ".py",
   "mimetype": "text/x-python",
   "name": "python",
   "nbconvert_exporter": "python",
   "pygments_lexer": "ipython3",
   "version": "3.7.2"
  }
 },
 "nbformat": 4,
 "nbformat_minor": 2
}
